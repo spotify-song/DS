{
 "cells": [
  {
   "cell_type": "markdown",
   "metadata": {},
   "source": [
    "# Exploratory Analysis"
   ]
  },
  {
   "cell_type": "markdown",
   "metadata": {},
   "source": [
    "## Eploring SpotiPy\n",
    "- Explore available data\n",
    "- Select features of interest\n",
    "- Generate initial dataframe and database"
   ]
  },
  {
   "cell_type": "markdown",
   "metadata": {},
   "source": [
    "###### Note:\n",
    "###### - Potentially building a recomender system that can take a set of the most frequently played songs from one user, and match them with a second users profile; potentially between courting couples and friends\n",
    "###### - Consider doing podcasts as a feature for the people that might be interested in that\n",
    "###### - Also, consider calling the playlists `\"{user_1} and {user_2}'s Playlist Baby\"`"
   ]
  },
  {
   "cell_type": "code",
   "execution_count": 14,
   "metadata": {},
   "outputs": [],
   "source": [
    "# imports\n",
    "\n",
    "import sys\n",
    "import json\n",
    "import spotipy\n",
    "import webbrowser\n",
    "import numpy as np\n",
    "import pandas as pd\n",
    "from os import getenv\n",
    "import spotipy.util as util\n",
    "from dotenv import load_dotenv\n",
    "from json.decoder import JSONDecodeError\n",
    "from spotipy.oauth2 import SpotifyClientCredentials, SpotifyOAuth"
   ]
  },
  {
   "cell_type": "markdown",
   "metadata": {},
   "source": [
    "notes: pivoting given that we cannot create two playlists for two users simultaneously\n",
    "- we can create a single play list for one user given the other user's library\n",
    "- so what we'll do it take the two user libraries and generate a playlist for a single user\n",
    "- given the music from a second play list"
   ]
  },
  {
   "cell_type": "code",
   "execution_count": 15,
   "metadata": {},
   "outputs": [],
   "source": [
    "# We are using the client Module from the Python library for the Spotify API\n",
    "# (https://spotipy.readthedocs.io/en/2.13.0/#module-spotipy.client)\n",
    "# Client Credentials Flow\n",
    "\n",
    "\n",
    "load_dotenv()  # this imports all .env variables\n",
    "\n",
    "# Setting up env variables to connect to API\n",
    "uri = getenv('uri') # must match in the Spotify app dashboard\n",
    "SPOTIFY_CLIENT_ID = getenv('SPOTIFY_CLIENT_ID')\n",
    "SPOTIFY_CLIENT_SECRET = getenv('SPOTIFY_CLIENT_SECRET')\n",
    "username = getenv('USER_ID')  #  user who's data we are collecting\n",
    "# scope = 'playlist-modify-public'  #  determines the kind of access you have to a user profile\n",
    "# scope = 'user-top-read'\n",
    "scope = 'user-library-read'\n",
    "\n",
    "# Access token to obtain user info\n",
    "token = util.prompt_for_user_token(username='spotify',\n",
    "                                   client_id=SPOTIFY_CLIENT_ID,\n",
    "                                   client_secret=SPOTIFY_CLIENT_SECRET,\n",
    "                                   scope=scope,\n",
    "                                  redirect_uri=uri)\n",
    "\n",
    "# activating spotify session\n",
    "spotify_session = spotipy.Spotify(auth=token)"
   ]
  },
  {
   "cell_type": "markdown",
   "metadata": {},
   "source": [
    "## Goals \n",
    "- Connect to user library using [scopes](https://developer.spotify.com/documentation/general/guides/scopes/)\n",
    "- Scopes to connect to are [user-library-read](https://developer.spotify.com/documentation/general/guides/scopes/#user-library-read), [playlist-modify-public](https://developer.spotify.com/documentation/general/guides/scopes/#playlist-modify-public), and [user-top-read](https://developer.spotify.com/documentation/general/guides/scopes/#user-top-read)\n",
    "\n",
    "##### **The goal here is to cnnect to the users' respective libraries, analyze them, and create a new playlist.**\n",
    "- For this analysis I will exlpore the Audio Features Objects"
   ]
  },
  {
   "cell_type": "markdown",
   "metadata": {},
   "source": [
    "# Exploring Top Tracks for a user"
   ]
  },
  {
   "cell_type": "code",
   "execution_count": 16,
   "metadata": {},
   "outputs": [
    {
     "name": "stdout",
     "output_type": "stream",
     "text": [
      "True\n",
      "['0akyEssGRVHstqCSWXusJL', '02gaYAEdeR6poHcBH1KUQF', '6plO0gM4tUvRC9TKFGIuaN', '0NeJjNlprGfZpeX2LQuN6c', '54KsfVVnN4YWI2mMrnyUcC', '1s3WD4gbNoEXHiuSTmAKaK', '57mLRN6tfXwTRvp9oPWpop', '6KseaEAFSS63N2NPZtDnRL', '5iSpfk6cDOSYePagAoG639', '1jecO8NeYLsVWVptITz4c1', '7kWFRZdedr2gtfE8JDumVZ', '52N0IV8hLVkRmnpFclmCzK', '4zFPUEMucYleIIUnYVoeZf', '1IF5UcqRO42D12vYwceOY6', '2UxrK7r4cyQOSh7wvdQTe1', '17OkYffr0SdAcpcbwMkDDG', '71Mj2THXRicZhTFGzln3al', '0JfsIu62NVXNQl2s7ATN37', '0107Auhv91hE49iLoxtayt', '4cJOLN346rtOty3UPACsao', '4RNYL9drYkmWYpDyfknta9', '1sJev5Y7VI2Ke8AwUpnh0l', '1yTJg3lyUPmwbnve82twH5', '6Zy0ITa16EjCAbbGuPzdRi', '6fcS6fncRVP8rldHjriZHS', '7v3YlquaNhK2GYKzxovSEp', '3PUbNbybe6dTMWdUt9vQ02', '4OwOKRIKlO7wsDitlUN4QH', '51wUFdgpNsV8cVzu7i6N0l', '4RrOSjdnV8rkpIuOIfkKYS', '0xSqHQ5wv80hNkpU50vPc7', '2TzkIzgzIHhewMxyh1u4hh', '5ONAA8z6SvFBniu8zXz1Ax', '58iNllszkXpDOcYRgcfLfH', '6ThsXWiur66KlCzXVj9tXj', '3QIQtCPni57ZcSPzz7JDxt', '7ukRl9q1yVYO2j5SXwvjaB', '1VA0QtG2DXGF4k6fYz70PE', '2G3ud9WTxl6uYRG75X6Ib0', '4utNmwmHfwvzPBT3kMtwEN', '2nU1HJ8GcMPkatnvI6KjP4', '3PVgZvHQdNJHR0ZLN1u8vn', '75ZohPJVqJOD8GUCZH94mk', '2Qbfa4aPnpHOyUWd1EZQD2', '0Ifpy4Xfab0hEexidy1Enh', '3iRppHTSuWMVJVMdMD9knF', '4ehkZtzPTbjsRULRfQSWYu', '5xtBRnNNSUihY0J6zi4Ytc', '7rPbzHewbn20oGdUuIxhCa', '1xYBeQ5u8uaJ3oBWktjGyJ']\n"
     ]
    }
   ],
   "source": [
    "# Playing with the api: accessing user top read, modify playlist, read library\n",
    "\n",
    "# User top artists (test)\n",
    "top_artists = spotify_session.current_user_top_artists(limit=1)\n",
    "\n",
    "# User top tracks (test)\n",
    "top_tracks = spotify_session.current_user_top_tracks(limit=50, time_range='medium_term')\n",
    "\n",
    "# Exploring Track_ids (test)\n",
    "print(top_tracks['items'][0]['id'] == \"0akyEssGRVHstqCSWXusJL\")\n",
    "top_track_id = top_tracks['items'][0]['id']\n",
    "\n",
    "# Top ten tracks ids\n",
    "top_50_tracks_id = [top_tracks['items'][x]['id'] for x in range(len(top_tracks['items']))]\n",
    "print(top_50_tracks_id)\n",
    "\n",
    "# Top track Audio Features Object\n",
    "audio_feat = spotify_session.audio_features(tracks=top_50_tracks_id)"
   ]
  },
  {
   "cell_type": "code",
   "execution_count": 17,
   "metadata": {},
   "outputs": [
    {
     "data": {
      "text/plain": [
       "'Ed Maverick'"
      ]
     },
     "execution_count": 17,
     "metadata": {},
     "output_type": "execute_result"
    }
   ],
   "source": [
    "# Obtainiing track-name and artist name\n",
    "\n",
    "top_tracks.keys()\n",
    "top_tracks['items'][0].keys()\n",
    "top_tracks['items'][0]['name']                # Generates track name\n",
    "top_tracks['items'][0]['artists'][0]['name']  # Generates artist name"
   ]
  },
  {
   "cell_type": "code",
   "execution_count": 19,
   "metadata": {},
   "outputs": [
    {
     "name": "stdout",
     "output_type": "stream",
     "text": [
      "The following are the key value pairs contained in the audio features for 10 tracks: \n",
      "\n"
     ]
    },
    {
     "data": {
      "text/plain": [
       "[0.83,\n",
       " 0.159,\n",
       " 1,\n",
       " -14.461,\n",
       " 1,\n",
       " 0.0383,\n",
       " 0.946,\n",
       " 2.02e-05,\n",
       " 0.362,\n",
       " 0.189,\n",
       " 104.95,\n",
       " 'audio_features',\n",
       " '0akyEssGRVHstqCSWXusJL',\n",
       " 'spotify:track:0akyEssGRVHstqCSWXusJL',\n",
       " 'https://api.spotify.com/v1/tracks/0akyEssGRVHstqCSWXusJL',\n",
       " 'https://api.spotify.com/v1/audio-analysis/0akyEssGRVHstqCSWXusJL',\n",
       " 207400,\n",
       " 4]"
      ]
     },
     "execution_count": 19,
     "metadata": {},
     "output_type": "execute_result"
    }
   ],
   "source": [
    "# Audio Features Objects\n",
    "\n",
    "# See the reference README file for a description of the Audio Features Objects, or explore the following link\n",
    "# (https://developer.spotify.com/documentation/web-api/reference/tracks/get-audio-features/)\n",
    "\n",
    "# Note: 'key' is -1 if no key is detected.  Consider when training model, or processing data\n",
    "\n",
    "# The following explores the keys of the Audio Features Object for a single track:\n",
    "print(\"The following are the key value pairs contained in the audio features for 10 tracks:\", '\\n')\n",
    "\n",
    "k_lst = list(audio_feat[0].keys())      # will eventually become the column names\n",
    "lst_v_lst= []                           # a list of lists of values\n",
    "for i in range(len(audio_feat)):        # for loop to run through the Audio Feat. Objects\n",
    "    v_lst = []\n",
    "    for _, v in audio_feat[i].items():  # for loop through the 0th item to append values\n",
    "        v_lst.append(v)                 # values appended to list\n",
    "    lst_v_lst.append(v_lst)             # list of values appending to list\n",
    "# print(k_lst)\n",
    "lst_v_lst[0]"
   ]
  },
  {
   "cell_type": "markdown",
   "metadata": {},
   "source": [
    "# Creating a two DFs from user's top tracks:\n",
    "- Tracks Audio Features (top_tracks_df)\n"
   ]
  },
  {
   "cell_type": "code",
   "execution_count": 99,
   "metadata": {},
   "outputs": [
    {
     "data": {
      "text/html": [
       "<div>\n",
       "<style scoped>\n",
       "    .dataframe tbody tr th:only-of-type {\n",
       "        vertical-align: middle;\n",
       "    }\n",
       "\n",
       "    .dataframe tbody tr th {\n",
       "        vertical-align: top;\n",
       "    }\n",
       "\n",
       "    .dataframe thead th {\n",
       "        text-align: right;\n",
       "    }\n",
       "</style>\n",
       "<table border=\"1\" class=\"dataframe\">\n",
       "  <thead>\n",
       "    <tr style=\"text-align: right;\">\n",
       "      <th></th>\n",
       "      <th>danceability</th>\n",
       "      <th>energy</th>\n",
       "      <th>key</th>\n",
       "      <th>loudness</th>\n",
       "      <th>mode</th>\n",
       "      <th>speechiness</th>\n",
       "      <th>acousticness</th>\n",
       "      <th>instrumentalness</th>\n",
       "      <th>liveness</th>\n",
       "      <th>valence</th>\n",
       "      <th>tempo</th>\n",
       "      <th>type</th>\n",
       "      <th>id</th>\n",
       "      <th>uri</th>\n",
       "      <th>track_href</th>\n",
       "      <th>analysis_url</th>\n",
       "      <th>duration_ms</th>\n",
       "      <th>time_signature</th>\n",
       "    </tr>\n",
       "  </thead>\n",
       "  <tbody>\n",
       "    <tr>\n",
       "      <th>0</th>\n",
       "      <td>0.830</td>\n",
       "      <td>0.159</td>\n",
       "      <td>1</td>\n",
       "      <td>-14.461</td>\n",
       "      <td>1</td>\n",
       "      <td>0.0383</td>\n",
       "      <td>0.946</td>\n",
       "      <td>0.000020</td>\n",
       "      <td>0.3620</td>\n",
       "      <td>0.189</td>\n",
       "      <td>104.950</td>\n",
       "      <td>audio_features</td>\n",
       "      <td>0akyEssGRVHstqCSWXusJL</td>\n",
       "      <td>spotify:track:0akyEssGRVHstqCSWXusJL</td>\n",
       "      <td>https://api.spotify.com/v1/tracks/0akyEssGRVHs...</td>\n",
       "      <td>https://api.spotify.com/v1/audio-analysis/0aky...</td>\n",
       "      <td>207400</td>\n",
       "      <td>4</td>\n",
       "    </tr>\n",
       "    <tr>\n",
       "      <th>1</th>\n",
       "      <td>0.726</td>\n",
       "      <td>0.125</td>\n",
       "      <td>5</td>\n",
       "      <td>-9.194</td>\n",
       "      <td>0</td>\n",
       "      <td>0.0803</td>\n",
       "      <td>0.835</td>\n",
       "      <td>0.000000</td>\n",
       "      <td>0.1310</td>\n",
       "      <td>0.277</td>\n",
       "      <td>92.230</td>\n",
       "      <td>audio_features</td>\n",
       "      <td>02gaYAEdeR6poHcBH1KUQF</td>\n",
       "      <td>spotify:track:02gaYAEdeR6poHcBH1KUQF</td>\n",
       "      <td>https://api.spotify.com/v1/tracks/02gaYAEdeR6p...</td>\n",
       "      <td>https://api.spotify.com/v1/audio-analysis/02ga...</td>\n",
       "      <td>183711</td>\n",
       "      <td>4</td>\n",
       "    </tr>\n",
       "    <tr>\n",
       "      <th>2</th>\n",
       "      <td>0.780</td>\n",
       "      <td>0.230</td>\n",
       "      <td>4</td>\n",
       "      <td>-12.706</td>\n",
       "      <td>1</td>\n",
       "      <td>0.0448</td>\n",
       "      <td>0.913</td>\n",
       "      <td>0.002790</td>\n",
       "      <td>0.0798</td>\n",
       "      <td>0.125</td>\n",
       "      <td>123.937</td>\n",
       "      <td>audio_features</td>\n",
       "      <td>6plO0gM4tUvRC9TKFGIuaN</td>\n",
       "      <td>spotify:track:6plO0gM4tUvRC9TKFGIuaN</td>\n",
       "      <td>https://api.spotify.com/v1/tracks/6plO0gM4tUvR...</td>\n",
       "      <td>https://api.spotify.com/v1/audio-analysis/6plO...</td>\n",
       "      <td>240307</td>\n",
       "      <td>4</td>\n",
       "    </tr>\n",
       "    <tr>\n",
       "      <th>3</th>\n",
       "      <td>0.658</td>\n",
       "      <td>0.179</td>\n",
       "      <td>8</td>\n",
       "      <td>-10.866</td>\n",
       "      <td>1</td>\n",
       "      <td>0.0448</td>\n",
       "      <td>0.689</td>\n",
       "      <td>0.000000</td>\n",
       "      <td>0.1700</td>\n",
       "      <td>0.191</td>\n",
       "      <td>128.128</td>\n",
       "      <td>audio_features</td>\n",
       "      <td>0NeJjNlprGfZpeX2LQuN6c</td>\n",
       "      <td>spotify:track:0NeJjNlprGfZpeX2LQuN6c</td>\n",
       "      <td>https://api.spotify.com/v1/tracks/0NeJjNlprGfZ...</td>\n",
       "      <td>https://api.spotify.com/v1/audio-analysis/0NeJ...</td>\n",
       "      <td>238560</td>\n",
       "      <td>4</td>\n",
       "    </tr>\n",
       "    <tr>\n",
       "      <th>4</th>\n",
       "      <td>0.770</td>\n",
       "      <td>0.325</td>\n",
       "      <td>7</td>\n",
       "      <td>-11.301</td>\n",
       "      <td>1</td>\n",
       "      <td>0.0322</td>\n",
       "      <td>0.899</td>\n",
       "      <td>0.000556</td>\n",
       "      <td>0.2200</td>\n",
       "      <td>0.721</td>\n",
       "      <td>103.085</td>\n",
       "      <td>audio_features</td>\n",
       "      <td>54KsfVVnN4YWI2mMrnyUcC</td>\n",
       "      <td>spotify:track:54KsfVVnN4YWI2mMrnyUcC</td>\n",
       "      <td>https://api.spotify.com/v1/tracks/54KsfVVnN4YW...</td>\n",
       "      <td>https://api.spotify.com/v1/audio-analysis/54Ks...</td>\n",
       "      <td>209652</td>\n",
       "      <td>4</td>\n",
       "    </tr>\n",
       "  </tbody>\n",
       "</table>\n",
       "</div>"
      ],
      "text/plain": [
       "   danceability  energy  key  loudness  mode  speechiness  acousticness  \\\n",
       "0         0.830   0.159    1   -14.461     1       0.0383         0.946   \n",
       "1         0.726   0.125    5    -9.194     0       0.0803         0.835   \n",
       "2         0.780   0.230    4   -12.706     1       0.0448         0.913   \n",
       "3         0.658   0.179    8   -10.866     1       0.0448         0.689   \n",
       "4         0.770   0.325    7   -11.301     1       0.0322         0.899   \n",
       "\n",
       "   instrumentalness  liveness  valence    tempo            type  \\\n",
       "0          0.000020    0.3620    0.189  104.950  audio_features   \n",
       "1          0.000000    0.1310    0.277   92.230  audio_features   \n",
       "2          0.002790    0.0798    0.125  123.937  audio_features   \n",
       "3          0.000000    0.1700    0.191  128.128  audio_features   \n",
       "4          0.000556    0.2200    0.721  103.085  audio_features   \n",
       "\n",
       "                       id                                   uri  \\\n",
       "0  0akyEssGRVHstqCSWXusJL  spotify:track:0akyEssGRVHstqCSWXusJL   \n",
       "1  02gaYAEdeR6poHcBH1KUQF  spotify:track:02gaYAEdeR6poHcBH1KUQF   \n",
       "2  6plO0gM4tUvRC9TKFGIuaN  spotify:track:6plO0gM4tUvRC9TKFGIuaN   \n",
       "3  0NeJjNlprGfZpeX2LQuN6c  spotify:track:0NeJjNlprGfZpeX2LQuN6c   \n",
       "4  54KsfVVnN4YWI2mMrnyUcC  spotify:track:54KsfVVnN4YWI2mMrnyUcC   \n",
       "\n",
       "                                          track_href  \\\n",
       "0  https://api.spotify.com/v1/tracks/0akyEssGRVHs...   \n",
       "1  https://api.spotify.com/v1/tracks/02gaYAEdeR6p...   \n",
       "2  https://api.spotify.com/v1/tracks/6plO0gM4tUvR...   \n",
       "3  https://api.spotify.com/v1/tracks/0NeJjNlprGfZ...   \n",
       "4  https://api.spotify.com/v1/tracks/54KsfVVnN4YW...   \n",
       "\n",
       "                                        analysis_url  duration_ms  \\\n",
       "0  https://api.spotify.com/v1/audio-analysis/0aky...       207400   \n",
       "1  https://api.spotify.com/v1/audio-analysis/02ga...       183711   \n",
       "2  https://api.spotify.com/v1/audio-analysis/6plO...       240307   \n",
       "3  https://api.spotify.com/v1/audio-analysis/0NeJ...       238560   \n",
       "4  https://api.spotify.com/v1/audio-analysis/54Ks...       209652   \n",
       "\n",
       "   time_signature  \n",
       "0               4  \n",
       "1               4  \n",
       "2               4  \n",
       "3               4  \n",
       "4               4  "
      ]
     },
     "execution_count": 99,
     "metadata": {},
     "output_type": "execute_result"
    }
   ],
   "source": [
    "# Generating the dataframe for the tracks\n",
    "\n",
    "# Take the two lists (K_LST, V_LST) and turn those into the dataframeh; the K_LST will be the column names\n",
    "# V_LST will be the values; and they will be indexed by the track id's\n",
    "\n",
    "top_tracks_df = pd.DataFrame(lst_v_lst, columns=k_lst)\n",
    "top_tracks_df.head()"
   ]
  },
  {
   "cell_type": "code",
   "execution_count": 100,
   "metadata": {},
   "outputs": [
    {
     "data": {
      "text/html": [
       "<div>\n",
       "<style scoped>\n",
       "    .dataframe tbody tr th:only-of-type {\n",
       "        vertical-align: middle;\n",
       "    }\n",
       "\n",
       "    .dataframe tbody tr th {\n",
       "        vertical-align: top;\n",
       "    }\n",
       "\n",
       "    .dataframe thead th {\n",
       "        text-align: right;\n",
       "    }\n",
       "</style>\n",
       "<table border=\"1\" class=\"dataframe\">\n",
       "  <thead>\n",
       "    <tr style=\"text-align: right;\">\n",
       "      <th></th>\n",
       "      <th>danceability</th>\n",
       "      <th>energy</th>\n",
       "      <th>key</th>\n",
       "      <th>loudness</th>\n",
       "      <th>mode</th>\n",
       "      <th>speechiness</th>\n",
       "      <th>acousticness</th>\n",
       "      <th>instrumentalness</th>\n",
       "      <th>liveness</th>\n",
       "      <th>valence</th>\n",
       "      <th>tempo</th>\n",
       "      <th>id</th>\n",
       "      <th>duration_ms</th>\n",
       "      <th>time_signature</th>\n",
       "    </tr>\n",
       "  </thead>\n",
       "  <tbody>\n",
       "    <tr>\n",
       "      <th>0</th>\n",
       "      <td>0.830</td>\n",
       "      <td>0.159</td>\n",
       "      <td>1</td>\n",
       "      <td>-14.461</td>\n",
       "      <td>1</td>\n",
       "      <td>0.0383</td>\n",
       "      <td>0.946</td>\n",
       "      <td>0.000020</td>\n",
       "      <td>0.3620</td>\n",
       "      <td>0.189</td>\n",
       "      <td>104.950</td>\n",
       "      <td>0akyEssGRVHstqCSWXusJL</td>\n",
       "      <td>207400</td>\n",
       "      <td>4</td>\n",
       "    </tr>\n",
       "    <tr>\n",
       "      <th>1</th>\n",
       "      <td>0.726</td>\n",
       "      <td>0.125</td>\n",
       "      <td>5</td>\n",
       "      <td>-9.194</td>\n",
       "      <td>0</td>\n",
       "      <td>0.0803</td>\n",
       "      <td>0.835</td>\n",
       "      <td>0.000000</td>\n",
       "      <td>0.1310</td>\n",
       "      <td>0.277</td>\n",
       "      <td>92.230</td>\n",
       "      <td>02gaYAEdeR6poHcBH1KUQF</td>\n",
       "      <td>183711</td>\n",
       "      <td>4</td>\n",
       "    </tr>\n",
       "    <tr>\n",
       "      <th>2</th>\n",
       "      <td>0.780</td>\n",
       "      <td>0.230</td>\n",
       "      <td>4</td>\n",
       "      <td>-12.706</td>\n",
       "      <td>1</td>\n",
       "      <td>0.0448</td>\n",
       "      <td>0.913</td>\n",
       "      <td>0.002790</td>\n",
       "      <td>0.0798</td>\n",
       "      <td>0.125</td>\n",
       "      <td>123.937</td>\n",
       "      <td>6plO0gM4tUvRC9TKFGIuaN</td>\n",
       "      <td>240307</td>\n",
       "      <td>4</td>\n",
       "    </tr>\n",
       "    <tr>\n",
       "      <th>3</th>\n",
       "      <td>0.658</td>\n",
       "      <td>0.179</td>\n",
       "      <td>8</td>\n",
       "      <td>-10.866</td>\n",
       "      <td>1</td>\n",
       "      <td>0.0448</td>\n",
       "      <td>0.689</td>\n",
       "      <td>0.000000</td>\n",
       "      <td>0.1700</td>\n",
       "      <td>0.191</td>\n",
       "      <td>128.128</td>\n",
       "      <td>0NeJjNlprGfZpeX2LQuN6c</td>\n",
       "      <td>238560</td>\n",
       "      <td>4</td>\n",
       "    </tr>\n",
       "    <tr>\n",
       "      <th>4</th>\n",
       "      <td>0.770</td>\n",
       "      <td>0.325</td>\n",
       "      <td>7</td>\n",
       "      <td>-11.301</td>\n",
       "      <td>1</td>\n",
       "      <td>0.0322</td>\n",
       "      <td>0.899</td>\n",
       "      <td>0.000556</td>\n",
       "      <td>0.2200</td>\n",
       "      <td>0.721</td>\n",
       "      <td>103.085</td>\n",
       "      <td>54KsfVVnN4YWI2mMrnyUcC</td>\n",
       "      <td>209652</td>\n",
       "      <td>4</td>\n",
       "    </tr>\n",
       "  </tbody>\n",
       "</table>\n",
       "</div>"
      ],
      "text/plain": [
       "   danceability  energy  key  loudness  mode  speechiness  acousticness  \\\n",
       "0         0.830   0.159    1   -14.461     1       0.0383         0.946   \n",
       "1         0.726   0.125    5    -9.194     0       0.0803         0.835   \n",
       "2         0.780   0.230    4   -12.706     1       0.0448         0.913   \n",
       "3         0.658   0.179    8   -10.866     1       0.0448         0.689   \n",
       "4         0.770   0.325    7   -11.301     1       0.0322         0.899   \n",
       "\n",
       "   instrumentalness  liveness  valence    tempo                      id  \\\n",
       "0          0.000020    0.3620    0.189  104.950  0akyEssGRVHstqCSWXusJL   \n",
       "1          0.000000    0.1310    0.277   92.230  02gaYAEdeR6poHcBH1KUQF   \n",
       "2          0.002790    0.0798    0.125  123.937  6plO0gM4tUvRC9TKFGIuaN   \n",
       "3          0.000000    0.1700    0.191  128.128  0NeJjNlprGfZpeX2LQuN6c   \n",
       "4          0.000556    0.2200    0.721  103.085  54KsfVVnN4YWI2mMrnyUcC   \n",
       "\n",
       "   duration_ms  time_signature  \n",
       "0       207400               4  \n",
       "1       183711               4  \n",
       "2       240307               4  \n",
       "3       238560               4  \n",
       "4       209652               4  "
      ]
     },
     "execution_count": 100,
     "metadata": {},
     "output_type": "execute_result"
    }
   ],
   "source": [
    "# Combining 'track/artist name' and 'top_tracks_df' DataFrames and droping useless columns\n",
    "\n",
    "# Dopping columns from 'top_tracks_df'\n",
    "drop_col = ['type', 'track_href', 'analysis_url', 'uri']\n",
    "top_tracks_df = top_tracks_df.drop(drop_col, axis=1)\n",
    "top_tracks_df.head()"
   ]
  },
  {
   "cell_type": "code",
   "execution_count": 101,
   "metadata": {},
   "outputs": [
    {
     "name": "stdout",
     "output_type": "stream",
     "text": [
      "<class 'pandas.core.frame.DataFrame'>\n",
      "RangeIndex: 50 entries, 0 to 49\n",
      "Data columns (total 14 columns):\n",
      " #   Column            Non-Null Count  Dtype  \n",
      "---  ------            --------------  -----  \n",
      " 0   danceability      50 non-null     float64\n",
      " 1   energy            50 non-null     float64\n",
      " 2   key               50 non-null     int64  \n",
      " 3   loudness          50 non-null     float64\n",
      " 4   mode              50 non-null     int64  \n",
      " 5   speechiness       50 non-null     float64\n",
      " 6   acousticness      50 non-null     float64\n",
      " 7   instrumentalness  50 non-null     float64\n",
      " 8   liveness          50 non-null     float64\n",
      " 9   valence           50 non-null     float64\n",
      " 10  tempo             50 non-null     float64\n",
      " 11  id                50 non-null     object \n",
      " 12  duration_ms       50 non-null     int64  \n",
      " 13  time_signature    50 non-null     int64  \n",
      "dtypes: float64(9), int64(4), object(1)\n",
      "memory usage: 5.6+ KB\n"
     ]
    }
   ],
   "source": [
    "top_tracks_df.info()"
   ]
  },
  {
   "cell_type": "code",
   "execution_count": 24,
   "metadata": {},
   "outputs": [],
   "source": [
    "# Function: Generates DataFrame with user library"
   ]
  },
  {
   "cell_type": "markdown",
   "metadata": {},
   "source": [
    "# Creating a large dataset from the user `Spotify`"
   ]
  },
  {
   "cell_type": "code",
   "execution_count": 25,
   "metadata": {},
   "outputs": [],
   "source": [
    "# Getting all playlists for the user Spotify\n",
    "\n",
    "playlists = spotify_session.user_playlists('spotify')\n",
    "playlist_ids = []\n",
    "while playlists:\n",
    "    for i, playlist in enumerate(playlists['items']):\n",
    "#         print(i +\n",
    "#              1 +\n",
    "#              playlists['offset'],\n",
    "#              playlist['uri'].strip('spotify:playlist'))\n",
    "        playlist_ids.append(playlist['id'])\n",
    "    if playlists['next']:\n",
    "        playlists = spotify_session.next(playlists)\n",
    "    else:\n",
    "        playlists = None"
   ]
  },
  {
   "cell_type": "code",
   "execution_count": 26,
   "metadata": {},
   "outputs": [],
   "source": [
    "# `.playlist_tracks()` method allows one to obtain all tracks in a playlist\n",
    "\n",
    "response = spotify_session.playlist_tracks(playlist_ids[0],\n",
    "                                           offset=1,\n",
    "                                           fields='items.track.id')"
   ]
  },
  {
   "cell_type": "code",
   "execution_count": 27,
   "metadata": {},
   "outputs": [],
   "source": [
    "# Obtaining track IDs for tracks in a playlist\n",
    "\n",
    "# Note: this cell takes time to complete running; so run cautiously\n",
    "\n",
    "trx = []\n",
    "for i in playlist_ids:\n",
    "    offset = 0\n",
    "    while True:\n",
    "        response = spotify_session.playlist_tracks(i,\n",
    "                                                   offset=offset,\n",
    "                                                   fields='items.track.id')\n",
    "#         trx.append(response['items'])\n",
    "        offset = offset + len(response['items'])\n",
    "        if len(response['items']) == 0:\n",
    "            break\n",
    "        trx.append(response['items'])"
   ]
  },
  {
   "cell_type": "code",
   "execution_count": 28,
   "metadata": {},
   "outputs": [],
   "source": [
    "# Dropping empty lists\n",
    "\n",
    "for k, v in enumerate(trx):\n",
    "    if len(trx[k]) == 0:\n",
    "#         print(trx[k])\n",
    "        trx.pop(k)"
   ]
  },
  {
   "cell_type": "code",
   "execution_count": 29,
   "metadata": {},
   "outputs": [],
   "source": [
    "# Creating a list of track-id strings\n",
    "\n",
    "track_ids = []\n",
    "\n",
    "for lst in trx:\n",
    "#     print(lst)\n",
    "    for tracks in lst:\n",
    "        if tracks['track'] == None:\n",
    "            continue\n",
    "        track_ids.append(tracks['track']['id'])\n",
    "#         print(tracks['track']['id'])"
   ]
  },
  {
   "cell_type": "code",
   "execution_count": 30,
   "metadata": {},
   "outputs": [
    {
     "data": {
      "text/plain": [
       "104147"
      ]
     },
     "execution_count": 30,
     "metadata": {},
     "output_type": "execute_result"
    }
   ],
   "source": [
    "len(track_ids)"
   ]
  },
  {
   "cell_type": "code",
   "execution_count": 31,
   "metadata": {},
   "outputs": [
    {
     "data": {
      "text/plain": [
       "104129"
      ]
     },
     "execution_count": 31,
     "metadata": {},
     "output_type": "execute_result"
    }
   ],
   "source": [
    "# Removing None type track ids\n",
    "\n",
    "for k, track in enumerate(track_ids):\n",
    "    if track == None:\n",
    "        track_ids.pop(k)\n",
    "len(track_ids)"
   ]
  },
  {
   "cell_type": "code",
   "execution_count": 45,
   "metadata": {},
   "outputs": [
    {
     "name": "stdout",
     "output_type": "stream",
     "text": [
      "\n",
      "\n"
     ]
    },
    {
     "name": "stderr",
     "output_type": "stream",
     "text": [
      "/Users/flanuer/opt/anaconda3/lib/python3.7/site-packages/ipykernel_launcher.py:9: DeprecationWarning: You're using 'as_dict = True'.get_access_token will return the token string directly in future versions. Please adjust your code accordingly, or use get_cached_token instead.\n",
      "  if __name__ == '__main__':\n"
     ]
    },
    {
     "name": "stdout",
     "output_type": "stream",
     "text": [
      "0.935\n",
      "0.454\n",
      "1\n",
      "-7.509\n",
      "1\n",
      "0.375\n",
      "0.0194\n",
      "0\n",
      "0.0824\n",
      "0.357\n",
      "133.073\n",
      "audio_features\n",
      "4Oun2ylbjFKMPTiaSbbCih\n",
      "spotify:track:4Oun2ylbjFKMPTiaSbbCih\n",
      "https://api.spotify.com/v1/tracks/4Oun2ylbjFKMPTiaSbbCih\n",
      "https://api.spotify.com/v1/audio-analysis/4Oun2ylbjFKMPTiaSbbCih\n",
      "187541\n",
      "4\n",
      "{'danceability': 0.935, 'energy': 0.454, 'key': 1, 'loudness': -7.509, 'mode': 1, 'speechiness': 0.375, 'acousticness': 0.0194, 'instrumentalness': 0, 'liveness': 0.0824, 'valence': 0.357, 'tempo': 133.073, 'type': 'audio_features', 'id': '4Oun2ylbjFKMPTiaSbbCih', 'uri': 'spotify:track:4Oun2ylbjFKMPTiaSbbCih', 'track_href': 'https://api.spotify.com/v1/tracks/4Oun2ylbjFKMPTiaSbbCih', 'analysis_url': 'https://api.spotify.com/v1/audio-analysis/4Oun2ylbjFKMPTiaSbbCih', 'duration_ms': 187541, 'time_signature': 4}\n"
     ]
    }
   ],
   "source": [
    "# OAuth Creds\n",
    "spot_cc = spotipy.oauth2.SpotifyOAuth(username='agustinvargas',\n",
    "                                      client_id=SPOTIFY_CLIENT_ID,\n",
    "                                      client_secret=SPOTIFY_CLIENT_SECRET,\n",
    "                                      scope=scope,\n",
    "                                      redirect_uri=uri)\n",
    "\n",
    "# Token Access Dict\n",
    "accs_token = spot_cc.get_access_token(as_dict=True)\n",
    "\n",
    "# Refreshing token\n",
    "refresh_accs_token = spot_cc.refresh_access_token(accs_token['refresh_token'])\n",
    "\n",
    "# SpotiSesh\n",
    "spotify_session = spotipy.Spotify(auth=accs_token['access_token'])\n",
    "\n",
    "# pseudo code\n",
    "# \n",
    "# end_offset = 0\n",
    "# start_offset = 0\n",
    "# while end_offset <= len(track_ids):\n",
    "#     start_offset = start_offset + end_offset\n",
    "#     end_offset = start_offset + 50\n",
    "#     get the audio_feats for the first 50\n",
    "\n",
    "len(track_ids)\n",
    "j = track_ids[0]\n",
    "audio_feat_2 = spotify_session.audio_features(tracks=j)\n",
    "for _, v in audio_feat_2[0].items():\n",
    "    print(v)\n",
    "print(audio_feat_2[0])"
   ]
  },
  {
   "cell_type": "code",
   "execution_count": 47,
   "metadata": {},
   "outputs": [
    {
     "name": "stdout",
     "output_type": "stream",
     "text": [
      "\n",
      "\n"
     ]
    },
    {
     "name": "stderr",
     "output_type": "stream",
     "text": [
      "/Users/flanuer/opt/anaconda3/lib/python3.7/site-packages/ipykernel_launcher.py:10: DeprecationWarning: You're using 'as_dict = True'.get_access_token will return the token string directly in future versions. Please adjust your code accordingly, or use get_cached_token instead.\n",
      "  # Remove the CWD from sys.path while we load stuff.\n"
     ]
    }
   ],
   "source": [
    "# Configureing authentication to obtain token refresh details\n",
    "\n",
    "# OAuth Creds\n",
    "spot_cc = spotipy.oauth2.SpotifyOAuth(username='agustinvargas',\n",
    "                                      client_id=SPOTIFY_CLIENT_ID,\n",
    "                                      client_secret=SPOTIFY_CLIENT_SECRET,\n",
    "                                      redirect_uri=uri)\n",
    "\n",
    "# Token Access Dict\n",
    "accs_token = spot_cc.get_access_token(as_dict=True)\n",
    "\n",
    "# Token Expiration boolian\n",
    "token_exp = spot_cc.is_token_expired(accs_token)\n",
    "\n",
    "# Refreshing token\n",
    "refresh_accs_token = spot_cc.refresh_access_token(accs_token['refresh_token'])"
   ]
  },
  {
   "cell_type": "code",
   "execution_count": 48,
   "metadata": {
    "jupyter": {
     "source_hidden": true
    }
   },
   "outputs": [
    {
     "name": "stdout",
     "output_type": "stream",
     "text": [
      "Do not run this cell unless you are looking to update data of +100k song audiofeatures\n"
     ]
    }
   ],
   "source": [
    "print('''Do not run this cell unless you are looking to update data of +100k song audiofeatures''')\n",
    "\n",
    "\n",
    "# # Obtaining Audio Features for +100k songs\n",
    "\n",
    "# # Client Authentication\n",
    "# spotify_session = spotipy.client.Spotify(auth=accs_token['access_token'])\n",
    "\n",
    "# # Access Token\n",
    "# accs_token = spot_cc.get_access_token(as_dict=True)\n",
    "\n",
    "# # Token Expiration Boolian\n",
    "# token_exp = spot_cc.is_token_expired(accs_token)\n",
    "\n",
    "# # The following loops over the TrackIDs (track_ids) list to obtain\n",
    "# # audio features for each track\n",
    "\n",
    "# lst_v_lst= []  # list to be populated with lists of audio features of a track\n",
    "# for j in track_ids:\n",
    "#     token_exp = spot_cc.is_token_expired(accs_token)           # Checks for token expiration\n",
    "#     if token_exp == False:                                     # if token not expired, continue loop\n",
    "#         audio_feat = spotify_session.audio_features(tracks=j)  # obtain aud_feats for song from SpotifyAPI\n",
    "#         if audio_feat[0] is None:                              # if aud_feat don't exit for song skip\n",
    "#             continue\n",
    "#         else:\n",
    "#             v_lst = []\n",
    "#             for _, v in audio_feat[0].items():  # for loop through the 0th item to append values\n",
    "#                 v_lst.append(v)                 # aud_feats for song appended to a list\n",
    "#             lst_v_lst.append(v_lst)             # list of aud_feats appends to list of lists\n",
    "#     else:\n",
    "#         accs_token = spot_cc.refresh_access_token(accs_token['refresh_token'])    # If token expired, refresh token\n",
    "#         token_exp = spot_cc.is_token_expired(accs_token)                          # Not really necessary\n",
    "#         spotify_session = spotipy.client.Spotify(auth=accs_token['access_token']) # Set session to refreshed token"
   ]
  },
  {
   "cell_type": "code",
   "execution_count": 49,
   "metadata": {
    "jupyter": {
     "source_hidden": true
    }
   },
   "outputs": [
    {
     "name": "stdout",
     "output_type": "stream",
     "text": [
      "This cell corresponds to previous cell as well, do not run uncommented\n"
     ]
    }
   ],
   "source": [
    "print('''This cell corresponds to previous cell as well, do not run uncommented''')\n",
    "\n",
    "# # Collecting song IDs from generated aud_feat lists\n",
    "# # so that we can gather accurate song title/artists\n",
    "# # data frame to match\n",
    "\n",
    "# # list to be populated with song IDs\n",
    "# track_ids_aud_feat = []\n",
    "\n",
    "# for k, v in enumerate(lst_v_lst):\n",
    "#     track_ids_aud_feat.append(lst_v_lst[k][12])  # 12th index position contains ID strings\n",
    "# len(track_ids_aud_feat). # 104k IDs gathered"
   ]
  },
  {
   "cell_type": "code",
   "execution_count": 50,
   "metadata": {
    "jupyter": {
     "source_hidden": true
    }
   },
   "outputs": [
    {
     "name": "stdout",
     "output_type": "stream",
     "text": [
      "This cell corresponds to previus cells, do not run uncommented\n"
     ]
    }
   ],
   "source": [
    "\n",
    "\n",
    "print('''This cell corresponds to previus cells, do not run uncommented''')\n",
    "\n",
    "\n",
    "# # Generating lists containing Artist names and Track names\n",
    "\n",
    "# # Refreshing token\n",
    "# accs_token = spot_cc.refresh_access_token(accs_token['refresh_token'])\n",
    "# spotify_session = spotipy.client.Spotify(auth=accs_token['access_token'])\n",
    "\n",
    "# # Getting artist name and track name (test)\n",
    "# track = spotify_session.track(track_ids_aud_feat[0])\n",
    "# print(track['artists'][0]['name'])    # Generates artist name\n",
    "# print(track['name'])                  # Generates track name      \n",
    "\n",
    "# # Lists to be populated\n",
    "# track_names_lst = []\n",
    "# artist_names_lst = []\n",
    "\n",
    "# # Iterating over list of track IDs (track_ids_aud_feat)\n",
    "# for j in track_ids_aud_feat:\n",
    "#     token_exp = spot_cc.is_token_expired(accs_token)\n",
    "#     if token_exp == False:\n",
    "#         track = spotify_session.track(j)\n",
    "#         track_names_lst.append(track['name'])\n",
    "#         artist_names_lst.append(track['artists'][0]['name'])\n",
    "#     else:\n",
    "#         accs_token = spot_cc.refresh_access_token(accs_token['refresh_token'])\n",
    "#         token_exp = spot_cc.is_token_expired(accs_token)\n",
    "#         spotify_session = spotipy.client.Spotify(auth=accs_token['access_token'])"
   ]
  },
  {
   "cell_type": "code",
   "execution_count": 53,
   "metadata": {
    "jupyter": {
     "source_hidden": true
    }
   },
   "outputs": [
    {
     "name": "stdout",
     "output_type": "stream",
     "text": [
      "Here we can simply import the CSV file created from all of the gathered song's aud_feats, titles, and artist names\n"
     ]
    }
   ],
   "source": [
    "print(\"\"\"Here we can simply import the CSV file created from all of the gathered song's aud_feats, titles, and artist names\"\"\")\n",
    "\n",
    "\n",
    "\n",
    "# # DataFrame containing artists names and track names\n",
    "# full_track_artist_names = pd.DataFrame(list(zip(track_names_lst, artist_names_lst)), columns=['track name', 'artist'])\n",
    "# full_track_artist_names.head(3)"
   ]
  },
  {
   "cell_type": "code",
   "execution_count": 55,
   "metadata": {
    "jupyter": {
     "source_hidden": true
    }
   },
   "outputs": [
    {
     "name": "stdout",
     "output_type": "stream",
     "text": [
      "This was the resulting dataframe from the gathered song data\n"
     ]
    }
   ],
   "source": [
    "print('''This was the resulting dataframe from the gathered song data''')\n",
    "\n",
    "# DataFrame from the obtained audio features\n",
    "# full_df = pd.DataFrame(lst_v_lst, columns=k_lst)"
   ]
  },
  {
   "cell_type": "markdown",
   "metadata": {},
   "source": [
    "## Importing newly generated song data from corresponding CSV files\n",
    "- full_track_artist_names: composed of track names corresponding to Audio Features generated amanually (see previous commented out cells)\n",
    "- full_df: contains all Audio Features for over 100k songs\n",
    "- songs_100_df: contains dataset found online that contains same parameters"
   ]
  },
  {
   "cell_type": "code",
   "execution_count": 115,
   "metadata": {},
   "outputs": [
    {
     "data": {
      "text/html": [
       "<div>\n",
       "<style scoped>\n",
       "    .dataframe tbody tr th:only-of-type {\n",
       "        vertical-align: middle;\n",
       "    }\n",
       "\n",
       "    .dataframe tbody tr th {\n",
       "        vertical-align: top;\n",
       "    }\n",
       "\n",
       "    .dataframe thead th {\n",
       "        text-align: right;\n",
       "    }\n",
       "</style>\n",
       "<table border=\"1\" class=\"dataframe\">\n",
       "  <thead>\n",
       "    <tr style=\"text-align: right;\">\n",
       "      <th></th>\n",
       "      <th>danceability</th>\n",
       "      <th>energy</th>\n",
       "      <th>key</th>\n",
       "      <th>loudness</th>\n",
       "      <th>mode</th>\n",
       "      <th>speechiness</th>\n",
       "      <th>acousticness</th>\n",
       "      <th>instrumentalness</th>\n",
       "      <th>liveness</th>\n",
       "      <th>valence</th>\n",
       "      <th>tempo</th>\n",
       "      <th>id</th>\n",
       "      <th>duration_ms</th>\n",
       "      <th>time_signature</th>\n",
       "    </tr>\n",
       "  </thead>\n",
       "  <tbody>\n",
       "    <tr>\n",
       "      <th>0</th>\n",
       "      <td>0.743</td>\n",
       "      <td>0.339</td>\n",
       "      <td>1</td>\n",
       "      <td>-7.678</td>\n",
       "      <td>1</td>\n",
       "      <td>0.4090</td>\n",
       "      <td>0.005820</td>\n",
       "      <td>0.000</td>\n",
       "      <td>0.0812</td>\n",
       "      <td>0.118</td>\n",
       "      <td>203.927</td>\n",
       "      <td>2RM4jf1Xa9zPgMGRDiht8O</td>\n",
       "      <td>238373</td>\n",
       "      <td>4</td>\n",
       "    </tr>\n",
       "    <tr>\n",
       "      <th>1</th>\n",
       "      <td>0.846</td>\n",
       "      <td>0.557</td>\n",
       "      <td>8</td>\n",
       "      <td>-7.259</td>\n",
       "      <td>1</td>\n",
       "      <td>0.4570</td>\n",
       "      <td>0.024400</td>\n",
       "      <td>0.000</td>\n",
       "      <td>0.2860</td>\n",
       "      <td>0.371</td>\n",
       "      <td>159.009</td>\n",
       "      <td>1tHDG53xJNGsItRA3vfVgs</td>\n",
       "      <td>214800</td>\n",
       "      <td>4</td>\n",
       "    </tr>\n",
       "    <tr>\n",
       "      <th>2</th>\n",
       "      <td>0.603</td>\n",
       "      <td>0.723</td>\n",
       "      <td>9</td>\n",
       "      <td>-5.890</td>\n",
       "      <td>0</td>\n",
       "      <td>0.0454</td>\n",
       "      <td>0.025000</td>\n",
       "      <td>0.000</td>\n",
       "      <td>0.0824</td>\n",
       "      <td>0.382</td>\n",
       "      <td>114.966</td>\n",
       "      <td>6Wosx2euFPMT14UXiWudMy</td>\n",
       "      <td>138913</td>\n",
       "      <td>4</td>\n",
       "    </tr>\n",
       "    <tr>\n",
       "      <th>3</th>\n",
       "      <td>0.800</td>\n",
       "      <td>0.579</td>\n",
       "      <td>5</td>\n",
       "      <td>-12.118</td>\n",
       "      <td>0</td>\n",
       "      <td>0.0701</td>\n",
       "      <td>0.029400</td>\n",
       "      <td>0.912</td>\n",
       "      <td>0.0994</td>\n",
       "      <td>0.641</td>\n",
       "      <td>123.003</td>\n",
       "      <td>3J2Jpw61sO7l6Hc7qdYV91</td>\n",
       "      <td>125381</td>\n",
       "      <td>4</td>\n",
       "    </tr>\n",
       "    <tr>\n",
       "      <th>4</th>\n",
       "      <td>0.783</td>\n",
       "      <td>0.792</td>\n",
       "      <td>7</td>\n",
       "      <td>-10.277</td>\n",
       "      <td>1</td>\n",
       "      <td>0.0661</td>\n",
       "      <td>0.000035</td>\n",
       "      <td>0.878</td>\n",
       "      <td>0.0332</td>\n",
       "      <td>0.928</td>\n",
       "      <td>120.047</td>\n",
       "      <td>2jbYvQCyPgX3CdmAzeVeuS</td>\n",
       "      <td>124016</td>\n",
       "      <td>4</td>\n",
       "    </tr>\n",
       "  </tbody>\n",
       "</table>\n",
       "</div>"
      ],
      "text/plain": [
       "   danceability  energy  key  loudness  mode  speechiness  acousticness  \\\n",
       "0         0.743   0.339    1    -7.678     1       0.4090      0.005820   \n",
       "1         0.846   0.557    8    -7.259     1       0.4570      0.024400   \n",
       "2         0.603   0.723    9    -5.890     0       0.0454      0.025000   \n",
       "3         0.800   0.579    5   -12.118     0       0.0701      0.029400   \n",
       "4         0.783   0.792    7   -10.277     1       0.0661      0.000035   \n",
       "\n",
       "   instrumentalness  liveness  valence    tempo                      id  \\\n",
       "0             0.000    0.0812    0.118  203.927  2RM4jf1Xa9zPgMGRDiht8O   \n",
       "1             0.000    0.2860    0.371  159.009  1tHDG53xJNGsItRA3vfVgs   \n",
       "2             0.000    0.0824    0.382  114.966  6Wosx2euFPMT14UXiWudMy   \n",
       "3             0.912    0.0994    0.641  123.003  3J2Jpw61sO7l6Hc7qdYV91   \n",
       "4             0.878    0.0332    0.928  120.047  2jbYvQCyPgX3CdmAzeVeuS   \n",
       "\n",
       "   duration_ms  time_signature  \n",
       "0       238373               4  \n",
       "1       214800               4  \n",
       "2       138913               4  \n",
       "3       125381               4  \n",
       "4       124016               4  "
      ]
     },
     "execution_count": 115,
     "metadata": {},
     "output_type": "execute_result"
    }
   ],
   "source": [
    "# Importing CSV files of +200k songs\n",
    "\n",
    "full_df = pd.read_csv('/Users/flanuer/Downloads/Lambda/Course_material/misc_datasets/100k_song_aud_feat.csv', index_col='Unnamed: 0')\n",
    "drop_col = ['uri']\n",
    "full_df = full_df.drop(drop_col, axis=1)\n",
    "full_df.head()\n",
    "\n",
    "drop_cols = ['track name', 'artist', 'uri']\n",
    "songs_100_df = pd.read_csv('/Users/flanuer/Downloads/Lambda/Course_material/misc_datasets/songs100k.csv', index_col='Unnamed: 0')\n",
    "songs_100_df = songs_100_df.drop(drop_cols, axis=1)\n",
    "songs_100_df.head()"
   ]
  },
  {
   "cell_type": "code",
   "execution_count": 116,
   "metadata": {},
   "outputs": [
    {
     "data": {
      "text/plain": [
       "(234807, 14)"
      ]
     },
     "execution_count": 116,
     "metadata": {},
     "output_type": "execute_result"
    }
   ],
   "source": [
    "# Joining full_df and songs_100_df\n",
    "\n",
    "df = pd.concat([full_df, songs_100_df], ignore_index=True)\n",
    "df.shape"
   ]
  },
  {
   "cell_type": "code",
   "execution_count": 117,
   "metadata": {
    "jupyter": {
     "source_hidden": true
    }
   },
   "outputs": [
    {
     "name": "stdout",
     "output_type": "stream",
     "text": [
      "No need to do anything here.\n"
     ]
    }
   ],
   "source": [
    "print('''No need to do anything here.''')\n",
    "# Exporting dataframe of +100k songs to csv file\n",
    "# full_df.to_csv(r'/Users/flanuer/Downloads/Lambda/Course_material/misc_datasets/100k_song_aud_feat.csv')\n",
    "# full_track_artist_names.to_csv(r'/Users/flanuer/Downloads/Lambda/Course_material/misc_datasets/100k_song_names.csv')"
   ]
  },
  {
   "cell_type": "code",
   "execution_count": 118,
   "metadata": {},
   "outputs": [
    {
     "name": "stdout",
     "output_type": "stream",
     "text": [
      "<class 'pandas.core.frame.DataFrame'>\n",
      "RangeIndex: 234807 entries, 0 to 234806\n",
      "Data columns (total 14 columns):\n",
      " #   Column            Non-Null Count   Dtype  \n",
      "---  ------            --------------   -----  \n",
      " 0   danceability      234807 non-null  float64\n",
      " 1   energy            234807 non-null  float64\n",
      " 2   key               234807 non-null  int64  \n",
      " 3   loudness          234807 non-null  float64\n",
      " 4   mode              234807 non-null  int64  \n",
      " 5   speechiness       234807 non-null  float64\n",
      " 6   acousticness      234807 non-null  float64\n",
      " 7   instrumentalness  234807 non-null  float64\n",
      " 8   liveness          234807 non-null  float64\n",
      " 9   valence           234807 non-null  float64\n",
      " 10  tempo             234807 non-null  float64\n",
      " 11  id                234807 non-null  object \n",
      " 12  duration_ms       234807 non-null  int64  \n",
      " 13  time_signature    234807 non-null  int64  \n",
      "dtypes: float64(9), int64(4), object(1)\n",
      "memory usage: 25.1+ MB\n"
     ]
    }
   ],
   "source": [
    "df.info()"
   ]
  },
  {
   "cell_type": "code",
   "execution_count": 119,
   "metadata": {},
   "outputs": [
    {
     "data": {
      "text/plain": [
       "danceability  energy  key    loudness  mode   speechiness  acousticness  instrumentalness  liveness  valence  tempo  id     duration_ms  time_signature\n",
       "False         False   False  False     False  False        False         False             False     False    False  False  False        False             234807\n",
       "dtype: int64"
      ]
     },
     "execution_count": 119,
     "metadata": {},
     "output_type": "execute_result"
    }
   ],
   "source": [
    "# df.dropna(inplace=True)\n",
    "df.isna().value_counts()"
   ]
  },
  {
   "cell_type": "code",
   "execution_count": 120,
   "metadata": {},
   "outputs": [
    {
     "data": {
      "text/plain": [
       "danceability  energy  key    loudness  mode   speechiness  acousticness  instrumentalness  liveness  valence  tempo  id     duration_ms  time_signature\n",
       "False         False   False  False     False  False        False         False             False     False    False  False  False        False             50\n",
       "dtype: int64"
      ]
     },
     "execution_count": 120,
     "metadata": {},
     "output_type": "execute_result"
    }
   ],
   "source": [
    "top_tracks_df.head()\n",
    "top_tracks_df.isna().value_counts()"
   ]
  },
  {
   "cell_type": "markdown",
   "metadata": {},
   "source": [
    "# Baseline Explorations (ML)\n",
    "- Select type of problem type (class/reg)\n",
    "- Determine model baselines\n",
    "- Model evaluations/comparisons"
   ]
  },
  {
   "cell_type": "code",
   "execution_count": 171,
   "metadata": {},
   "outputs": [],
   "source": [
    "# model takes the features of one user, and uses the library of the second user to predict the most likely  enjoyable songs and generates a playlist\n",
    "\n"
   ]
  },
  {
   "cell_type": "code",
   "execution_count": null,
   "metadata": {},
   "outputs": [],
   "source": []
  }
 ],
 "metadata": {
  "kernelspec": {
   "display_name": "spotify",
   "language": "python",
   "name": "spotify"
  },
  "language_info": {
   "codemirror_mode": {
    "name": "ipython",
    "version": 3
   },
   "file_extension": ".py",
   "mimetype": "text/x-python",
   "name": "python",
   "nbconvert_exporter": "python",
   "pygments_lexer": "ipython3",
   "version": "3.7.4"
  }
 },
 "nbformat": 4,
 "nbformat_minor": 4
}
