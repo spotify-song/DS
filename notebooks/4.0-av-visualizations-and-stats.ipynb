{
 "cells": [
  {
   "cell_type": "markdown",
   "metadata": {},
   "source": [
    "# Visualizations"
   ]
  },
  {
   "cell_type": "code",
   "execution_count": 23,
   "metadata": {},
   "outputs": [],
   "source": [
    "# imports\n",
    "\n",
    "import numpy as np\n",
    "from math import pi\n",
    "import pandas as pd\n",
    "import seaborn as sns\n",
    "from annoy import AnnoyIndex\n",
    "import matplotlib.pyplot as plt\n",
    "from sklearn import preprocessing"
   ]
  },
  {
   "cell_type": "code",
   "execution_count": 24,
   "metadata": {},
   "outputs": [],
   "source": [
    "df = pd.read_csv('/Users/flanuer/Downloads/Lambda/Course_material/misc_datasets/non_dup_200k_song_aud_feat.csv')\n",
    "drop_col = ['Unnamed: 0']\n",
    "df = df.drop(drop_col, axis=1)"
   ]
  },
  {
   "cell_type": "code",
   "execution_count": 25,
   "metadata": {},
   "outputs": [
    {
     "data": {
      "text/html": [
       "<div>\n",
       "<style scoped>\n",
       "    .dataframe tbody tr th:only-of-type {\n",
       "        vertical-align: middle;\n",
       "    }\n",
       "\n",
       "    .dataframe tbody tr th {\n",
       "        vertical-align: top;\n",
       "    }\n",
       "\n",
       "    .dataframe thead th {\n",
       "        text-align: right;\n",
       "    }\n",
       "</style>\n",
       "<table border=\"1\" class=\"dataframe\">\n",
       "  <thead>\n",
       "    <tr style=\"text-align: right;\">\n",
       "      <th></th>\n",
       "      <th>danceability</th>\n",
       "      <th>energy</th>\n",
       "      <th>key</th>\n",
       "      <th>loudness</th>\n",
       "      <th>mode</th>\n",
       "      <th>speechiness</th>\n",
       "      <th>acousticness</th>\n",
       "      <th>instrumentalness</th>\n",
       "      <th>liveness</th>\n",
       "      <th>valence</th>\n",
       "      <th>tempo</th>\n",
       "      <th>id</th>\n",
       "      <th>duration_ms</th>\n",
       "      <th>time_signature</th>\n",
       "    </tr>\n",
       "  </thead>\n",
       "  <tbody>\n",
       "    <tr>\n",
       "      <th>0</th>\n",
       "      <td>0.746</td>\n",
       "      <td>0.765</td>\n",
       "      <td>6</td>\n",
       "      <td>-4.410</td>\n",
       "      <td>0</td>\n",
       "      <td>0.0993</td>\n",
       "      <td>0.0112</td>\n",
       "      <td>0.0</td>\n",
       "      <td>0.0936</td>\n",
       "      <td>0.737</td>\n",
       "      <td>114.044</td>\n",
       "      <td>0v1x6rN6JHRapa03JElljE</td>\n",
       "      <td>199054</td>\n",
       "      <td>4</td>\n",
       "    </tr>\n",
       "    <tr>\n",
       "      <th>1</th>\n",
       "      <td>0.935</td>\n",
       "      <td>0.454</td>\n",
       "      <td>1</td>\n",
       "      <td>-7.509</td>\n",
       "      <td>1</td>\n",
       "      <td>0.3750</td>\n",
       "      <td>0.0194</td>\n",
       "      <td>0.0</td>\n",
       "      <td>0.0824</td>\n",
       "      <td>0.357</td>\n",
       "      <td>133.073</td>\n",
       "      <td>4Oun2ylbjFKMPTiaSbbCih</td>\n",
       "      <td>187541</td>\n",
       "      <td>4</td>\n",
       "    </tr>\n",
       "    <tr>\n",
       "      <th>2</th>\n",
       "      <td>0.548</td>\n",
       "      <td>0.816</td>\n",
       "      <td>0</td>\n",
       "      <td>-4.209</td>\n",
       "      <td>1</td>\n",
       "      <td>0.0465</td>\n",
       "      <td>0.1220</td>\n",
       "      <td>0.0</td>\n",
       "      <td>0.3350</td>\n",
       "      <td>0.557</td>\n",
       "      <td>95.390</td>\n",
       "      <td>6UelLqGlWMcVH1E5c4H7lY</td>\n",
       "      <td>174000</td>\n",
       "      <td>4</td>\n",
       "    </tr>\n",
       "  </tbody>\n",
       "</table>\n",
       "</div>"
      ],
      "text/plain": [
       "   danceability  energy  key  loudness  mode  speechiness  acousticness  \\\n",
       "0         0.746   0.765    6    -4.410     0       0.0993        0.0112   \n",
       "1         0.935   0.454    1    -7.509     1       0.3750        0.0194   \n",
       "2         0.548   0.816    0    -4.209     1       0.0465        0.1220   \n",
       "\n",
       "   instrumentalness  liveness  valence    tempo                      id  \\\n",
       "0               0.0    0.0936    0.737  114.044  0v1x6rN6JHRapa03JElljE   \n",
       "1               0.0    0.0824    0.357  133.073  4Oun2ylbjFKMPTiaSbbCih   \n",
       "2               0.0    0.3350    0.557   95.390  6UelLqGlWMcVH1E5c4H7lY   \n",
       "\n",
       "   duration_ms  time_signature  \n",
       "0       199054               4  \n",
       "1       187541               4  \n",
       "2       174000               4  "
      ]
     },
     "execution_count": 25,
     "metadata": {},
     "output_type": "execute_result"
    }
   ],
   "source": [
    "df.head(3)"
   ]
  },
  {
   "cell_type": "code",
   "execution_count": 26,
   "metadata": {},
   "outputs": [
    {
     "data": {
      "text/html": [
       "<div>\n",
       "<style scoped>\n",
       "    .dataframe tbody tr th:only-of-type {\n",
       "        vertical-align: middle;\n",
       "    }\n",
       "\n",
       "    .dataframe tbody tr th {\n",
       "        vertical-align: top;\n",
       "    }\n",
       "\n",
       "    .dataframe thead th {\n",
       "        text-align: right;\n",
       "    }\n",
       "</style>\n",
       "<table border=\"1\" class=\"dataframe\">\n",
       "  <thead>\n",
       "    <tr style=\"text-align: right;\">\n",
       "      <th></th>\n",
       "      <th>danceability</th>\n",
       "      <th>energy</th>\n",
       "      <th>key</th>\n",
       "      <th>loudness</th>\n",
       "      <th>mode</th>\n",
       "      <th>speechiness</th>\n",
       "      <th>acousticness</th>\n",
       "      <th>instrumentalness</th>\n",
       "      <th>liveness</th>\n",
       "      <th>valence</th>\n",
       "      <th>tempo</th>\n",
       "      <th>duration_ms</th>\n",
       "      <th>time_signature</th>\n",
       "    </tr>\n",
       "  </thead>\n",
       "  <tbody>\n",
       "    <tr>\n",
       "      <th>count</th>\n",
       "      <td>210124.000000</td>\n",
       "      <td>210124.000000</td>\n",
       "      <td>210124.000000</td>\n",
       "      <td>210124.000000</td>\n",
       "      <td>210124.000000</td>\n",
       "      <td>210124.000000</td>\n",
       "      <td>210124.000000</td>\n",
       "      <td>210124.000000</td>\n",
       "      <td>210124.000000</td>\n",
       "      <td>210124.000000</td>\n",
       "      <td>210124.000000</td>\n",
       "      <td>2.101240e+05</td>\n",
       "      <td>210124.000000</td>\n",
       "    </tr>\n",
       "    <tr>\n",
       "      <th>mean</th>\n",
       "      <td>0.567127</td>\n",
       "      <td>0.550861</td>\n",
       "      <td>5.243942</td>\n",
       "      <td>-10.453061</td>\n",
       "      <td>0.627225</td>\n",
       "      <td>0.127020</td>\n",
       "      <td>0.367884</td>\n",
       "      <td>0.211113</td>\n",
       "      <td>0.194406</td>\n",
       "      <td>0.434407</td>\n",
       "      <td>118.455018</td>\n",
       "      <td>2.315242e+05</td>\n",
       "      <td>3.858212</td>\n",
       "    </tr>\n",
       "    <tr>\n",
       "      <th>std</th>\n",
       "      <td>0.189523</td>\n",
       "      <td>0.275391</td>\n",
       "      <td>3.590865</td>\n",
       "      <td>6.846359</td>\n",
       "      <td>0.483544</td>\n",
       "      <td>0.180621</td>\n",
       "      <td>0.357377</td>\n",
       "      <td>0.351130</td>\n",
       "      <td>0.167107</td>\n",
       "      <td>0.257878</td>\n",
       "      <td>30.919423</td>\n",
       "      <td>1.793759e+05</td>\n",
       "      <td>0.562426</td>\n",
       "    </tr>\n",
       "    <tr>\n",
       "      <th>min</th>\n",
       "      <td>0.000000</td>\n",
       "      <td>0.000000</td>\n",
       "      <td>0.000000</td>\n",
       "      <td>-60.000000</td>\n",
       "      <td>0.000000</td>\n",
       "      <td>0.000000</td>\n",
       "      <td>0.000000</td>\n",
       "      <td>0.000000</td>\n",
       "      <td>0.000000</td>\n",
       "      <td>0.000000</td>\n",
       "      <td>0.000000</td>\n",
       "      <td>3.203000e+03</td>\n",
       "      <td>0.000000</td>\n",
       "    </tr>\n",
       "    <tr>\n",
       "      <th>25%</th>\n",
       "      <td>0.447000</td>\n",
       "      <td>0.342000</td>\n",
       "      <td>2.000000</td>\n",
       "      <td>-12.904000</td>\n",
       "      <td>0.000000</td>\n",
       "      <td>0.037800</td>\n",
       "      <td>0.032700</td>\n",
       "      <td>0.000000</td>\n",
       "      <td>0.097400</td>\n",
       "      <td>0.221000</td>\n",
       "      <td>95.038000</td>\n",
       "      <td>1.700645e+05</td>\n",
       "      <td>4.000000</td>\n",
       "    </tr>\n",
       "    <tr>\n",
       "      <th>50%</th>\n",
       "      <td>0.591000</td>\n",
       "      <td>0.585000</td>\n",
       "      <td>5.000000</td>\n",
       "      <td>-8.262000</td>\n",
       "      <td>1.000000</td>\n",
       "      <td>0.053100</td>\n",
       "      <td>0.232000</td>\n",
       "      <td>0.000192</td>\n",
       "      <td>0.124000</td>\n",
       "      <td>0.413000</td>\n",
       "      <td>119.960000</td>\n",
       "      <td>2.077260e+05</td>\n",
       "      <td>4.000000</td>\n",
       "    </tr>\n",
       "    <tr>\n",
       "      <th>75%</th>\n",
       "      <td>0.708000</td>\n",
       "      <td>0.777000</td>\n",
       "      <td>8.000000</td>\n",
       "      <td>-5.748000</td>\n",
       "      <td>1.000000</td>\n",
       "      <td>0.120000</td>\n",
       "      <td>0.713000</td>\n",
       "      <td>0.327000</td>\n",
       "      <td>0.237000</td>\n",
       "      <td>0.631000</td>\n",
       "      <td>138.001000</td>\n",
       "      <td>2.517600e+05</td>\n",
       "      <td>4.000000</td>\n",
       "    </tr>\n",
       "    <tr>\n",
       "      <th>90%</th>\n",
       "      <td>0.797000</td>\n",
       "      <td>0.901000</td>\n",
       "      <td>10.000000</td>\n",
       "      <td>-4.223000</td>\n",
       "      <td>1.000000</td>\n",
       "      <td>0.317000</td>\n",
       "      <td>0.944000</td>\n",
       "      <td>0.887000</td>\n",
       "      <td>0.383000</td>\n",
       "      <td>0.808000</td>\n",
       "      <td>160.034000</td>\n",
       "      <td>3.238270e+05</td>\n",
       "      <td>4.000000</td>\n",
       "    </tr>\n",
       "    <tr>\n",
       "      <th>95%</th>\n",
       "      <td>0.840000</td>\n",
       "      <td>0.946000</td>\n",
       "      <td>11.000000</td>\n",
       "      <td>-3.459000</td>\n",
       "      <td>1.000000</td>\n",
       "      <td>0.475000</td>\n",
       "      <td>0.983000</td>\n",
       "      <td>0.926000</td>\n",
       "      <td>0.573000</td>\n",
       "      <td>0.890000</td>\n",
       "      <td>173.489250</td>\n",
       "      <td>4.100930e+05</td>\n",
       "      <td>4.000000</td>\n",
       "    </tr>\n",
       "    <tr>\n",
       "      <th>max</th>\n",
       "      <td>0.996000</td>\n",
       "      <td>1.000000</td>\n",
       "      <td>11.000000</td>\n",
       "      <td>1.806000</td>\n",
       "      <td>1.000000</td>\n",
       "      <td>0.969000</td>\n",
       "      <td>0.996000</td>\n",
       "      <td>1.000000</td>\n",
       "      <td>0.999000</td>\n",
       "      <td>1.000000</td>\n",
       "      <td>249.983000</td>\n",
       "      <td>5.925082e+06</td>\n",
       "      <td>5.000000</td>\n",
       "    </tr>\n",
       "  </tbody>\n",
       "</table>\n",
       "</div>"
      ],
      "text/plain": [
       "        danceability         energy            key       loudness  \\\n",
       "count  210124.000000  210124.000000  210124.000000  210124.000000   \n",
       "mean        0.567127       0.550861       5.243942     -10.453061   \n",
       "std         0.189523       0.275391       3.590865       6.846359   \n",
       "min         0.000000       0.000000       0.000000     -60.000000   \n",
       "25%         0.447000       0.342000       2.000000     -12.904000   \n",
       "50%         0.591000       0.585000       5.000000      -8.262000   \n",
       "75%         0.708000       0.777000       8.000000      -5.748000   \n",
       "90%         0.797000       0.901000      10.000000      -4.223000   \n",
       "95%         0.840000       0.946000      11.000000      -3.459000   \n",
       "max         0.996000       1.000000      11.000000       1.806000   \n",
       "\n",
       "                mode    speechiness   acousticness  instrumentalness  \\\n",
       "count  210124.000000  210124.000000  210124.000000     210124.000000   \n",
       "mean        0.627225       0.127020       0.367884          0.211113   \n",
       "std         0.483544       0.180621       0.357377          0.351130   \n",
       "min         0.000000       0.000000       0.000000          0.000000   \n",
       "25%         0.000000       0.037800       0.032700          0.000000   \n",
       "50%         1.000000       0.053100       0.232000          0.000192   \n",
       "75%         1.000000       0.120000       0.713000          0.327000   \n",
       "90%         1.000000       0.317000       0.944000          0.887000   \n",
       "95%         1.000000       0.475000       0.983000          0.926000   \n",
       "max         1.000000       0.969000       0.996000          1.000000   \n",
       "\n",
       "            liveness        valence          tempo   duration_ms  \\\n",
       "count  210124.000000  210124.000000  210124.000000  2.101240e+05   \n",
       "mean        0.194406       0.434407     118.455018  2.315242e+05   \n",
       "std         0.167107       0.257878      30.919423  1.793759e+05   \n",
       "min         0.000000       0.000000       0.000000  3.203000e+03   \n",
       "25%         0.097400       0.221000      95.038000  1.700645e+05   \n",
       "50%         0.124000       0.413000     119.960000  2.077260e+05   \n",
       "75%         0.237000       0.631000     138.001000  2.517600e+05   \n",
       "90%         0.383000       0.808000     160.034000  3.238270e+05   \n",
       "95%         0.573000       0.890000     173.489250  4.100930e+05   \n",
       "max         0.999000       1.000000     249.983000  5.925082e+06   \n",
       "\n",
       "       time_signature  \n",
       "count   210124.000000  \n",
       "mean         3.858212  \n",
       "std          0.562426  \n",
       "min          0.000000  \n",
       "25%          4.000000  \n",
       "50%          4.000000  \n",
       "75%          4.000000  \n",
       "90%          4.000000  \n",
       "95%          4.000000  \n",
       "max          5.000000  "
      ]
     },
     "execution_count": 26,
     "metadata": {},
     "output_type": "execute_result"
    }
   ],
   "source": [
    "df.describe(percentiles=[.25, .5, .75, .90, .95])"
   ]
  },
  {
   "cell_type": "markdown",
   "metadata": {},
   "source": [
    "### Cleaning the Data\n",
    "Normalizing Def: Rescaling numeric attributes to range between 0 - 1"
   ]
  },
  {
   "cell_type": "code",
   "execution_count": 27,
   "metadata": {},
   "outputs": [
    {
     "data": {
      "text/plain": [
       "(210124, 14)"
      ]
     },
     "execution_count": 27,
     "metadata": {},
     "output_type": "execute_result"
    }
   ],
   "source": [
    "df.shape"
   ]
  },
  {
   "cell_type": "code",
   "execution_count": 28,
   "metadata": {},
   "outputs": [],
   "source": [
    "def reduce_mem_usage(df, verbose=True):\n",
    "    \"\"\" Function iterates through all the columns of a dataframe and modify the data type\n",
    "        to reduce memory usage.\n",
    "        Credit to: https://www.kaggle.com/gemartin/load-data-reduce-memory-usage\n",
    "        Parameters\n",
    "        ----------\n",
    "        df : Pandas DataFrame\n",
    "        verbose: (True) by default, prints out before and after memory usage\n",
    "        Returns\n",
    "        -------\n",
    "        df : Reduced Memory Pandas DataFrame\n",
    "    \"\"\"\n",
    "\n",
    "    if verbose:\n",
    "        start_mem = df.memory_usage().sum() / 1024**2\n",
    "        print('Memory usage of dataframe is {:.2f} MB'.format(start_mem))\n",
    "\n",
    "    for col in df.columns:\n",
    "        col_type = df[col].dtype\n",
    "\n",
    "        if col_type != object:\n",
    "            c_min = df[col].min()\n",
    "            c_max = df[col].max()\n",
    "            if str(col_type)[:3] == 'int':\n",
    "                if c_min > np.iinfo(np.int8).min and c_max < np.iinfo(np.int8).max:\n",
    "                    df[col] = df[col].astype(np.int8)\n",
    "                elif c_min > np.iinfo(np.int16).min and c_max < np.iinfo(np.int16).max:\n",
    "                    df[col] = df[col].astype(np.int16)\n",
    "                elif c_min > np.iinfo(np.int32).min and c_max < np.iinfo(np.int32).max:\n",
    "                    df[col] = df[col].astype(np.int32)\n",
    "                elif c_min > np.iinfo(np.int64).min and c_max < np.iinfo(np.int64).max:\n",
    "                    df[col] = df[col].astype(np.int64)\n",
    "            else:\n",
    "                if c_min > np.finfo(np.float16).min and c_max < np.finfo(np.float16).max:\n",
    "                    df[col] = df[col].astype(np.float16)\n",
    "                elif c_min > np.finfo(np.float32).min and c_max < np.finfo(np.float32).max:\n",
    "                    df[col] = df[col].astype(np.float32)\n",
    "                else:\n",
    "                    df[col] = df[col].astype(np.float64)\n",
    "    if verbose:\n",
    "        end_mem = df.memory_usage().sum() / 1024**2\n",
    "        print('Memory usage after optimization is: {:.2f} MB'.format(end_mem))\n",
    "        print('Decreased by {:.1f}%'.format(\n",
    "            100 * (start_mem - end_mem) / start_mem))\n",
    "\n",
    "    return df"
   ]
  },
  {
   "cell_type": "code",
   "execution_count": 29,
   "metadata": {},
   "outputs": [
    {
     "name": "stdout",
     "output_type": "stream",
     "text": [
      "Memory usage of dataframe is 22.44 MB\n",
      "Memory usage after optimization is: 6.61 MB\n",
      "Decreased by 70.5%\n"
     ]
    },
    {
     "data": {
      "text/plain": [
       "(210124, 14)"
      ]
     },
     "execution_count": 29,
     "metadata": {},
     "output_type": "execute_result"
    }
   ],
   "source": [
    "df = reduce_mem_usage(df)\n",
    "df.shape"
   ]
  },
  {
   "cell_type": "code",
   "execution_count": 30,
   "metadata": {},
   "outputs": [
    {
     "data": {
      "text/plain": [
       "(False,\n",
       " danceability        False\n",
       " energy              False\n",
       " key                 False\n",
       " loudness            False\n",
       " mode                False\n",
       " speechiness         False\n",
       " acousticness        False\n",
       " instrumentalness    False\n",
       " liveness            False\n",
       " valence             False\n",
       " tempo               False\n",
       " id                  False\n",
       " duration_ms         False\n",
       " time_signature      False\n",
       " dtype: bool,\n",
       " danceability        False\n",
       " energy              False\n",
       " key                 False\n",
       " loudness            False\n",
       " mode                False\n",
       " speechiness         False\n",
       " acousticness        False\n",
       " instrumentalness    False\n",
       " liveness            False\n",
       " valence             False\n",
       " tempo               False\n",
       " id                  False\n",
       " duration_ms         False\n",
       " time_signature      False\n",
       " dtype: bool)"
      ]
     },
     "execution_count": 30,
     "metadata": {},
     "output_type": "execute_result"
    }
   ],
   "source": [
    "# checking for duplicated and NA values in ID column\n",
    "\n",
    "df['id'].duplicated().any(), df.isna().any(), df.isnull().any()"
   ]
  },
  {
   "cell_type": "code",
   "execution_count": 31,
   "metadata": {},
   "outputs": [
    {
     "data": {
      "text/plain": [
       "(189334, 14)"
      ]
     },
     "execution_count": 31,
     "metadata": {},
     "output_type": "execute_result"
    }
   ],
   "source": [
    "# Removing high speechiness values because they are typically vocal tracks of poems etc\n",
    "# .32 was determined by the pd.DataFrame.describe() method; retains 90% of data\n",
    "\n",
    "df = df[df['speechiness'] < .32]\n",
    "df.shape"
   ]
  },
  {
   "cell_type": "markdown",
   "metadata": {},
   "source": [
    "## Approximate Nearest Neighbors (ANN) Model without dimensionality reduction"
   ]
  },
  {
   "cell_type": "code",
   "execution_count": 13,
   "metadata": {},
   "outputs": [
    {
     "data": {
      "text/plain": [
       "array([ 0.97757577,  0.74299462,  0.21746881,  0.85387916, -1.30526954,\n",
       "        0.35009147, -0.96966725, -0.63694419, -0.58619537,  1.16306124,\n",
       "       -0.15088629, -0.20253793,  0.24950356])"
      ]
     },
     "execution_count": 13,
     "metadata": {},
     "output_type": "execute_result"
    }
   ],
   "source": [
    "normalized_X[0]"
   ]
  },
  {
   "cell_type": "code",
   "execution_count": 14,
   "metadata": {},
   "outputs": [],
   "source": [
    "# Applying ANNOY with different distance metric\n",
    "\n",
    "# metrics list\n",
    "metrics = ['angular', 'euclidean', 'manhattan', 'hamming', 'dot']\n",
    "\n",
    "# Using normalized_X because it is in array form and normalize\n",
    "for metric in metrics:\n",
    "    f = len(features)\n",
    "    t = AnnoyIndex(f, metric)\n",
    "    for i in range(len(normalized_X)):\n",
    "        t.add_item(i, normalized_X[i])\n",
    "    t.build(30)\n",
    "    t.save(f'test_{metric}.ann')\n",
    "\n",
    "# f = len(features)\n",
    "# t = AnnoyIndex(f, 'angular')\n",
    "\n",
    "# index maping items; keep track of index mapping\n",
    "# for i in range(len(X)):\n",
    "#     t.add_item(i, X_array[i])\n",
    "\n",
    "# t.build(20)\n",
    "# t.save('test.ann')"
   ]
  },
  {
   "cell_type": "code",
   "execution_count": 15,
   "metadata": {},
   "outputs": [],
   "source": [
    "metric_list = []\n",
    "for metric in metrics:\n",
    "    u = AnnoyIndex(f, metric)\n",
    "    u.load(f'test_{metric}.ann')\n",
    "    globals()[\"test_\" + metric] = u.get_nns_by_item(0, 20, include_distances=True, search_k=15)"
   ]
  },
  {
   "cell_type": "code",
   "execution_count": 16,
   "metadata": {},
   "outputs": [],
   "source": [
    "for metric in metrics:\n",
    "    globals()['song_list_' + metric] = []\n",
    "    for song in globals()['test_' + metric][0]:\n",
    "        globals()['song_list_' + metric].append(df.id.iloc[song])"
   ]
  },
  {
   "cell_type": "markdown",
   "metadata": {},
   "source": [
    "### ANNOY with dimensionality reduction"
   ]
  },
  {
   "cell_type": "code",
   "execution_count": 18,
   "metadata": {},
   "outputs": [
    {
     "data": {
      "text/plain": [
       "danceability        float16\n",
       "energy              float16\n",
       "key                    int8\n",
       "loudness            float16\n",
       "mode                   int8\n",
       "speechiness         float16\n",
       "acousticness        float16\n",
       "instrumentalness    float16\n",
       "liveness            float16\n",
       "valence             float16\n",
       "tempo               float16\n",
       "id                   object\n",
       "duration_ms           int32\n",
       "time_signature         int8\n",
       "dtype: object"
      ]
     },
     "execution_count": 18,
     "metadata": {},
     "output_type": "execute_result"
    }
   ],
   "source": [
    "# categorical encoding of IDs"
   ]
  },
  {
   "cell_type": "code",
   "execution_count": 17,
   "metadata": {},
   "outputs": [],
   "source": [
    "from sklearn.decomposition import PCA\n",
    "from sklearn.preprocessing import StandardScaler"
   ]
  },
  {
   "cell_type": "code",
   "execution_count": 60,
   "metadata": {},
   "outputs": [],
   "source": [
    "pca = PCA()\n",
    "pca.fit(normalized_X)\n",
    "pca_data = pca.transform(normalized_X)"
   ]
  },
  {
   "cell_type": "code",
   "execution_count": 62,
   "metadata": {},
   "outputs": [
    {
     "data": {
      "text/plain": [
       "(189334, 13)"
      ]
     },
     "execution_count": 62,
     "metadata": {},
     "output_type": "execute_result"
    }
   ],
   "source": [
    "pca_data.shape"
   ]
  },
  {
   "cell_type": "code",
   "execution_count": 65,
   "metadata": {},
   "outputs": [
    {
     "name": "stdout",
     "output_type": "stream",
     "text": [
      "tempo               0.995083\n",
      "loudness           -0.090250\n",
      "key                 0.030430\n",
      "time_signature      0.025736\n",
      "mode                0.004030\n",
      "valence             0.003601\n",
      "danceability        0.003565\n",
      "energy              0.003044\n",
      "instrumentalness    0.002994\n",
      "acousticness        0.002952\n",
      "liveness            0.001815\n",
      "duration_ms        -0.001634\n",
      "speechiness         0.000823\n",
      "dtype: float64\n"
     ]
    }
   ],
   "source": [
    "loading_scores = pd.Series(pca.components_[0], index=features)\n",
    "sorted_loading_scores = loading_scores.abs().sort_values(ascending=False)\n",
    "top = sorted_loading_scores[:].index.values\n",
    "print(loading_scores[top])"
   ]
  },
  {
   "cell_type": "code",
   "execution_count": 67,
   "metadata": {},
   "outputs": [],
   "source": [
    "drop_cols = [\n",
    "    'mode',\n",
    "    'valence',\n",
    "    'danceability',\n",
    "    'energy',\n",
    "    'instrumentalness',\n",
    "    'acousticness',\n",
    "    'liveness',\n",
    "    'duration_ms',\n",
    "    'speechiness']\n",
    "df = df.drop(drop_cols, axis=1)"
   ]
  },
  {
   "cell_type": "code",
   "execution_count": 68,
   "metadata": {},
   "outputs": [],
   "source": [
    "features = ['tempo', 'loudness', 'key', 'time_signature']\n",
    "X = df[features]"
   ]
  },
  {
   "cell_type": "code",
   "execution_count": 69,
   "metadata": {},
   "outputs": [],
   "source": [
    "normalized_X = preprocessing.normalize(X)"
   ]
  },
  {
   "cell_type": "code",
   "execution_count": 78,
   "metadata": {},
   "outputs": [],
   "source": [
    "# Applying ANNOY with different distance metric after PCA\n",
    "\n",
    "# metrics list\n",
    "metrics = ['angular', 'euclidean', 'manhattan', 'hamming', 'dot']\n",
    "\n",
    "# Using normalized_X because it is in array form and normalize\n",
    "for metric in metrics:\n",
    "    f = len(features)\n",
    "    t = AnnoyIndex(f, metric)\n",
    "    for i in range(len(normalized_X)):\n",
    "        t.add_item(i, normalized_X[i])\n",
    "    t.build(30)\n",
    "    t.save(f'test_{metric}_pca.ann')"
   ]
  },
  {
   "cell_type": "code",
   "execution_count": 80,
   "metadata": {},
   "outputs": [],
   "source": [
    "metric_list = []\n",
    "for metric in metrics:\n",
    "    u = AnnoyIndex(f, metric)\n",
    "    u.load(f'test_{metric}_pca.ann')\n",
    "    v = u.get_item_vector(0)\n",
    "    globals()[\"test_\" + metric + \"_pca\"] = u.get_nns_by_vector(v, 10, search_k=100)\n",
    "\n",
    "for metric in metrics:\n",
    "    globals()['pca_song_list_' + metric] = []\n",
    "    for song in globals()['test_' + metric + '_pca']:\n",
    "        globals()['pca_song_list_' + metric].append(df.id.iloc[song])"
   ]
  },
  {
   "cell_type": "code",
   "execution_count": 81,
   "metadata": {},
   "outputs": [
    {
     "data": {
      "text/plain": [
       "['0v1x6rN6JHRapa03JElljE',\n",
       " '1Rham8xtHYhHxp5RCySnMk',\n",
       " '51trdVTGB18HFEsb8dEzq1',\n",
       " '10JbxMr5YV6nEM1YtorHES',\n",
       " '4eRfCcicjpjoCaYWylRU7m',\n",
       " '4oPqTEZApxZCx6ILs4xHwu',\n",
       " '5r6IhrGntQ9UUcAG1MNT6F',\n",
       " '1oiUGWvAAxFDt7Q45xOjzg',\n",
       " '0JumfyG7GUshFjxouEXwhw',\n",
       " '2zMqWoeZJlJ7cg7LHjeSuw']"
      ]
     },
     "execution_count": 81,
     "metadata": {},
     "output_type": "execute_result"
    }
   ],
   "source": [
    "pca_song_list_angular"
   ]
  },
  {
   "cell_type": "markdown",
   "metadata": {},
   "source": [
    "# User Statistics\n",
    "- Obtain user library\n",
    "    - Track Audio Features\n",
    "    - Artists\n",
    "    - Playlists\n",
    "    - Track Names\n",
    "    - Genres\n",
    "        - Can be gathered via artist\n",
    "    - All time top songs/artist"
   ]
  },
  {
   "cell_type": "code",
   "execution_count": 49,
   "metadata": {},
   "outputs": [],
   "source": [
    "from os import getenv\n",
    "import spotipy\n",
    "from dotenv import load_dotenv\n",
    "from spotipy.oauth2 import SpotifyOAuth"
   ]
  },
  {
   "cell_type": "code",
   "execution_count": 50,
   "metadata": {},
   "outputs": [],
   "source": [
    "load_dotenv()\n",
    "client_secret = getenv('SPOTIFY_CLIENT_SECRET')\n",
    "client_id = getenv('SPOTIFY_CLIENT_ID')\n",
    "user_id = 'Agustinvargas'\n",
    "\n",
    "# change for deplpoyment\n",
    "uri = getenv('uri')\n",
    "\n",
    "# Scopes: User top track; creates playlist\n",
    "scope = getenv('SCOPE')\n",
    "cache_path = '../../token_cache/'\n",
    "\n",
    "spot_cc = spotipy.oauth2.SpotifyOAuth(\n",
    "                                username=user_id,\n",
    "                                client_id=client_id,\n",
    "                                client_secret=client_secret,\n",
    "                                scope=scope,\n",
    "                                redirect_uri=uri,\n",
    "                                show_dialog=True\n",
    "                                )\n",
    "\n",
    "\n",
    "spot_session = spotipy.Spotify(oauth_manager=spot_cc)"
   ]
  },
  {
   "cell_type": "markdown",
   "metadata": {},
   "source": [
    "### Creating a playlist from the ANNOY generated nearest neighbor songs"
   ]
  },
  {
   "cell_type": "code",
   "execution_count": 96,
   "metadata": {},
   "outputs": [
    {
     "data": {
      "text/plain": [
       "{'snapshot_id': 'MTMsNzVmNDYwZTk3OTNmYWEzZGNhNzNkNzMwMjdiMDM0ZjEzOTMyYjYzYg=='}"
      ]
     },
     "execution_count": 96,
     "metadata": {},
     "output_type": "execute_result"
    }
   ],
   "source": [
    "# spot_session.user_playlist_create(user='37t3cvb5u3o97hin4bsj40abw', name='ANNOY TEST')\n",
    "\n",
    "# spot_session.user_playlist_add_tracks(user='37t3cvb5u3o97hin4bsj40abw', playlist_id='3NMt8PDHIVkYTyzVNusGM7', tracks=pca_song_list_manhattan)\n",
    "\n",
    "# spot_session.user_playlist_remove_all_occurrences_of_tracks(user='37t3cvb5u3o97hin4bsj40abw', playlist_id='3NMt8PDHIVkYTyzVNusGM7', tracks=pca_song_list_manhattan)"
   ]
  },
  {
   "cell_type": "markdown",
   "metadata": {},
   "source": [
    "### Track Audio Features"
   ]
  },
  {
   "cell_type": "code",
   "execution_count": 12,
   "metadata": {},
   "outputs": [],
   "source": [
    "def track_audio_feat(user, all_tracks=None, top_tracks=None, term=None):\n",
    "    \"\"\"Generate DataFrame from user music library.\n",
    "    \n",
    "    Args:\n",
    "        'user': Spotify user ID\n",
    "        'all_tracks': if True, gathers all the track IDs for a\n",
    "        given user's library\n",
    "        'top_tracks': if True, gathers the user's top track IDs\n",
    "        'term': The term should be specified; it allows to identify the\n",
    "        term over which data is being acquired.  short_term refers to\n",
    "        7 days; medium_term refers to 6 months; long_term is all time\n",
    "    Returns:\n",
    "        DataFrame containing the user's music tastes\n",
    "    \"\"\"\n",
    "    artist_lst = []\n",
    "    offset = 0\n",
    "    for _ in range(2):\n",
    "        top_artists = spot_session.current_user_top_artists()\n",
    "    \n",
    "    return None"
   ]
  },
  {
   "cell_type": "code",
   "execution_count": 111,
   "metadata": {},
   "outputs": [
    {
     "data": {
      "text/plain": [
       "'River'"
      ]
     },
     "execution_count": 111,
     "metadata": {},
     "output_type": "execute_result"
    }
   ],
   "source": [
    "trak = spot_session.track(track_id='0NeJjNlprGfZpeX2LQuN6c')\n",
    "trak['name']"
   ]
  },
  {
   "cell_type": "code",
   "execution_count": 112,
   "metadata": {
    "collapsed": true,
    "jupyter": {
     "outputs_hidden": true
    }
   },
   "outputs": [
    {
     "data": {
      "text/plain": [
       "[['contemporary country',\n",
       "  'country',\n",
       "  'country dawn',\n",
       "  'country pop',\n",
       "  'country road',\n",
       "  'modern country rock',\n",
       "  'roots americana',\n",
       "  'texas country'],\n",
       " ['argentine hip hop', 'trap argentino', 'trap latino'],\n",
       " ['alternative americana',\n",
       "  'alternative country',\n",
       "  'ectofolk',\n",
       "  'folk',\n",
       "  'lilith',\n",
       "  'new americana'],\n",
       " ['black thrash',\n",
       "  'crossover thrash',\n",
       "  'death metal',\n",
       "  'metal',\n",
       "  'mexican metal',\n",
       "  'new wave of thrash metal',\n",
       "  'portland metal',\n",
       "  'thrash metal'],\n",
       " ['alternative metal',\n",
       "  'french death metal',\n",
       "  'french metal',\n",
       "  'metal',\n",
       "  'nu metal',\n",
       "  'progressive groove metal'],\n",
       " ['classic swedish pop',\n",
       "  'danspunk',\n",
       "  'svensk progg',\n",
       "  'swedish alternative rock',\n",
       "  'swedish prog'],\n",
       " ['alternative emo',\n",
       "  'anthem emo',\n",
       "  'bubblegrunge',\n",
       "  'emo',\n",
       "  'indie punk',\n",
       "  'indie rock',\n",
       "  'midwest emo'],\n",
       " [],\n",
       " ['shimmer pop'],\n",
       " ['dutch trance', 'edm', 'pop dance', 'progressive house', 'trance'],\n",
       " ['japanese city pop'],\n",
       " ['bay area hip hop',\n",
       "  'cali rap',\n",
       "  'hyphy',\n",
       "  'oakland hip hop',\n",
       "  'west coast trap'],\n",
       " ['indie pop',\n",
       "  'indie poptimism',\n",
       "  'indiecoustica',\n",
       "  'modern alternative rock',\n",
       "  'modern rock',\n",
       "  'piano rock',\n",
       "  'pop rock',\n",
       "  'stomp and holler'],\n",
       " [],\n",
       " ['indie folk',\n",
       "  'new americana',\n",
       "  'outlaw country',\n",
       "  'roots americana',\n",
       "  'roots rock',\n",
       "  'texas country'],\n",
       " ['neo-psychedelic'],\n",
       " ['alternative dance',\n",
       "  'british indie rock',\n",
       "  'indie pop',\n",
       "  'indie rock',\n",
       "  'indietronica',\n",
       "  'modern alternative rock',\n",
       "  'modern rock',\n",
       "  'new rave',\n",
       "  'rock',\n",
       "  'shimmer pop'],\n",
       " ['deep groove house',\n",
       "  'disco house',\n",
       "  'edm',\n",
       "  'future garage',\n",
       "  'house',\n",
       "  'pop dance',\n",
       "  'progressive house',\n",
       "  'tropical house',\n",
       "  'uk dance'],\n",
       " ['chicago soul',\n",
       "  'classic soul',\n",
       "  'disco',\n",
       "  'funk',\n",
       "  'girl group',\n",
       "  'jazz funk',\n",
       "  'motown',\n",
       "  'post-disco',\n",
       "  'quiet storm',\n",
       "  'soul',\n",
       "  'southern soul',\n",
       "  'urban contemporary'],\n",
       " ['latin', 'puerto rican pop', 'reggaeton', 'trap latino'],\n",
       " ['classical', 'classical era']]"
      ]
     },
     "execution_count": 112,
     "metadata": {},
     "output_type": "execute_result"
    }
   ],
   "source": [
    "genres_col = []\n",
    "for track_id in song_ids:\n",
    "    track_info = spot_session.track(track_id)\n",
    "    artist = spot_session.artist(track_info['artists'][0]['id'])\n",
    "    genres_col.append(artist['genres'])\n",
    "genres_col"
   ]
  },
  {
   "cell_type": "code",
   "execution_count": 135,
   "metadata": {},
   "outputs": [],
   "source": [
    "# spot_session.user_playlist_create(user='', name='Annoy_test', public=False)"
   ]
  },
  {
   "cell_type": "code",
   "execution_count": 136,
   "metadata": {},
   "outputs": [],
   "source": [
    "# spot_session.user_playlist_add_tracks(user='', playlist_id='', tracks=)"
   ]
  },
  {
   "cell_type": "code",
   "execution_count": 126,
   "metadata": {},
   "outputs": [],
   "source": [
    "df = pd.read_csv('/Users/flanuer/Downloads/Lambda/Course_material/misc_datasets/kdtree_suggestions.csv')\n",
    "drop_col = ['Unnamed: 0']\n",
    "df = df.drop(drop_col, axis=1)"
   ]
  },
  {
   "cell_type": "code",
   "execution_count": 131,
   "metadata": {},
   "outputs": [],
   "source": [
    "song_ids_2 = df.iloc[1].to_list()"
   ]
  },
  {
   "cell_type": "code",
   "execution_count": null,
   "metadata": {},
   "outputs": [],
   "source": []
  }
 ],
 "metadata": {
  "kernelspec": {
   "display_name": "spotify2",
   "language": "python",
   "name": "spotify2"
  },
  "language_info": {
   "codemirror_mode": {
    "name": "ipython",
    "version": 3
   },
   "file_extension": ".py",
   "mimetype": "text/x-python",
   "name": "python",
   "nbconvert_exporter": "python",
   "pygments_lexer": "ipython3",
   "version": "3.8.5"
  }
 },
 "nbformat": 4,
 "nbformat_minor": 4
}
