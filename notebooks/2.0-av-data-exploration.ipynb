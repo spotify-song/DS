{
 "cells": [
  {
   "cell_type": "markdown",
   "metadata": {},
   "source": [
    "# Setting up a mock DB to store Songs, users, and playlists\n",
    "![](https://github.com/spotify-song/DS/blob/master/references/DB_tables_illu.png?raw=true)\n",
    "### Tables:\n",
    "    - User:\n",
    "        - id\n",
    "        - display_name\n",
    "    - Tokens:\n",
    "        - id\n",
    "        - access_token\n",
    "        - token_type\n",
    "        - expries_in\n",
    "        - refresh_token\n",
    "        - scope\n",
    "        - expires_at\n",
    "        - user\n",
    "    - Tracks\n",
    "        - id\n",
    "        - danceability\n",
    "        - energy\n",
    "        - loudness\n",
    "        - mode\n",
    "        - speechiness\n",
    "        - accousticness\n",
    "        - instrumentalness\n",
    "        - valence\n",
    "        - liveness\n",
    "        - tempo\n",
    "        - duration_ms\n",
    "        - time_signature\n",
    "    - UserPlaylist\n",
    "        - id\n",
    "        - u_id\n",
    "        - uri\n",
    "        - tracks_id"
   ]
  },
  {
   "cell_type": "markdown",
   "metadata": {},
   "source": [
    "## Importing db classes for tables"
   ]
  },
  {
   "cell_type": "code",
   "execution_count": 1,
   "metadata": {},
   "outputs": [],
   "source": [
    "import sys\n",
    "sys.path.insert(0, '../')\n",
    "import api.models.my_db\n",
    "from api.models.my_db import *\n",
    "from api.spotify_users import UserData"
   ]
  },
  {
   "cell_type": "code",
   "execution_count": 2,
   "metadata": {},
   "outputs": [],
   "source": [
    "# imports\n",
    "import sys\n",
    "import json\n",
    "import random\n",
    "import os\n",
    "from os import getenv\n",
    "\n",
    "import spotipy\n",
    "import psycopg2\n",
    "import numpy as np\n",
    "import pandas as pd\n",
    "import spotipy.util as util\n",
    "from dotenv import load_dotenv\n",
    "from sqlalchemy.orm import sessionmaker\n",
    "from json.decoder import JSONDecodeError\n",
    "from sqlalchemy import create_engine, update\n",
    "from sqlalchemy.ext.declarative import declarative_base\n",
    "from spotipy.oauth2 import SpotifyClientCredentials, SpotifyOAuth\n",
    "\n",
    "load_dotenv()\n",
    "\n",
    "client_secret = getenv('SPOTIFY_CLIENT_SECRET')\n",
    "client_id = getenv('SPOTIFY_CLIENT_ID')\n",
    "user_id = 'Agustinvargas'\n",
    "\n",
    "# change for deplpoyment\n",
    "uri = getenv('uri')\n",
    "\n",
    "# Scopes: User top track; creates playlist\n",
    "scope = 'playlist-modify-public user-library-read user-top-read'\n",
    "cache_path = '../../token_cache/'\n",
    "\n",
    "spot_cc = spotipy.oauth2.SpotifyOAuth(\n",
    "                                username=user_id,\n",
    "                                client_id=client_id,\n",
    "                                client_secret=client_secret,\n",
    "                                scope=scope,\n",
    "                                redirect_uri=uri,\n",
    "                                show_dialog=True\n",
    "                                )\n",
    "\n",
    "\n",
    "spot_session = spotipy.Spotify(oauth_manager=spot_cc)"
   ]
  },
  {
   "cell_type": "markdown",
   "metadata": {},
   "source": [
    "## DB import flow needs to be:\n",
    "    - User > tokens\n",
    "    - Tracks > top_tracks\n",
    "    - users/tracks > user_playlists"
   ]
  },
  {
   "cell_type": "markdown",
   "metadata": {},
   "source": [
    "### Get the pertinent data using the UserData() class"
   ]
  },
  {
   "cell_type": "code",
   "execution_count": 11,
   "metadata": {},
   "outputs": [],
   "source": [
    "user = UserData()"
   ]
  },
  {
   "cell_type": "code",
   "execution_count": 13,
   "metadata": {},
   "outputs": [
    {
     "ename": "NameError",
     "evalue": "name 'top_50_aud_feat' is not defined",
     "output_type": "error",
     "traceback": [
      "\u001b[0;31m---------------------------------------------------------------------------\u001b[0m",
      "\u001b[0;31mNameError\u001b[0m                                 Traceback (most recent call last)",
      "\u001b[0;32m<ipython-input-13-5df032a9afbc>\u001b[0m in \u001b[0;36m<module>\u001b[0;34m\u001b[0m\n\u001b[1;32m      1\u001b[0m \u001b[0;32mimport\u001b[0m \u001b[0mpandas\u001b[0m \u001b[0;32mas\u001b[0m \u001b[0mpd\u001b[0m\u001b[0;34m\u001b[0m\u001b[0;34m\u001b[0m\u001b[0m\n\u001b[0;32m----> 2\u001b[0;31m \u001b[0mdf\u001b[0m \u001b[0;34m=\u001b[0m \u001b[0mpd\u001b[0m\u001b[0;34m.\u001b[0m\u001b[0mDataFrame\u001b[0m\u001b[0;34m(\u001b[0m\u001b[0mtop_50_aud_feat\u001b[0m\u001b[0;34m)\u001b[0m\u001b[0;34m\u001b[0m\u001b[0;34m\u001b[0m\u001b[0m\n\u001b[0m",
      "\u001b[0;31mNameError\u001b[0m: name 'top_50_aud_feat' is not defined"
     ]
    }
   ],
   "source": [
    "import pandas as pd\n",
    "df = pd.DataFrame(top_50_aud_feat)"
   ]
  },
  {
   "cell_type": "code",
   "execution_count": 8,
   "metadata": {},
   "outputs": [],
   "source": [
    "df1 = df[:30]\n",
    "df2 = df[20:]"
   ]
  },
  {
   "cell_type": "code",
   "execution_count": 9,
   "metadata": {},
   "outputs": [],
   "source": [
    "users_top_trx = pd.concat([df1, df2])\n",
    "users_top_trx = users_top_trx.drop_duplicates(inplace=False, subset='id')"
   ]
  },
  {
   "cell_type": "code",
   "execution_count": 10,
   "metadata": {},
   "outputs": [
    {
     "data": {
      "text/html": [
       "<div>\n",
       "<style scoped>\n",
       "    .dataframe tbody tr th:only-of-type {\n",
       "        vertical-align: middle;\n",
       "    }\n",
       "\n",
       "    .dataframe tbody tr th {\n",
       "        vertical-align: top;\n",
       "    }\n",
       "\n",
       "    .dataframe thead th {\n",
       "        text-align: right;\n",
       "    }\n",
       "</style>\n",
       "<table border=\"1\" class=\"dataframe\">\n",
       "  <thead>\n",
       "    <tr style=\"text-align: right;\">\n",
       "      <th></th>\n",
       "      <th>danceability</th>\n",
       "      <th>energy</th>\n",
       "      <th>key</th>\n",
       "      <th>loudness</th>\n",
       "      <th>mode</th>\n",
       "      <th>speechiness</th>\n",
       "      <th>acousticness</th>\n",
       "      <th>instrumentalness</th>\n",
       "      <th>liveness</th>\n",
       "      <th>valence</th>\n",
       "      <th>tempo</th>\n",
       "      <th>type</th>\n",
       "      <th>id</th>\n",
       "      <th>uri</th>\n",
       "      <th>track_href</th>\n",
       "      <th>analysis_url</th>\n",
       "      <th>duration_ms</th>\n",
       "      <th>time_signature</th>\n",
       "    </tr>\n",
       "  </thead>\n",
       "  <tbody>\n",
       "    <tr>\n",
       "      <th>0</th>\n",
       "      <td>0.830</td>\n",
       "      <td>0.159</td>\n",
       "      <td>1</td>\n",
       "      <td>-14.461</td>\n",
       "      <td>1</td>\n",
       "      <td>0.0383</td>\n",
       "      <td>0.946</td>\n",
       "      <td>0.000020</td>\n",
       "      <td>0.3620</td>\n",
       "      <td>0.189</td>\n",
       "      <td>104.950</td>\n",
       "      <td>audio_features</td>\n",
       "      <td>0akyEssGRVHstqCSWXusJL</td>\n",
       "      <td>spotify:track:0akyEssGRVHstqCSWXusJL</td>\n",
       "      <td>https://api.spotify.com/v1/tracks/0akyEssGRVHs...</td>\n",
       "      <td>https://api.spotify.com/v1/audio-analysis/0aky...</td>\n",
       "      <td>207400</td>\n",
       "      <td>4</td>\n",
       "    </tr>\n",
       "    <tr>\n",
       "      <th>1</th>\n",
       "      <td>0.726</td>\n",
       "      <td>0.125</td>\n",
       "      <td>5</td>\n",
       "      <td>-9.194</td>\n",
       "      <td>0</td>\n",
       "      <td>0.0803</td>\n",
       "      <td>0.835</td>\n",
       "      <td>0.000000</td>\n",
       "      <td>0.1310</td>\n",
       "      <td>0.277</td>\n",
       "      <td>92.230</td>\n",
       "      <td>audio_features</td>\n",
       "      <td>02gaYAEdeR6poHcBH1KUQF</td>\n",
       "      <td>spotify:track:02gaYAEdeR6poHcBH1KUQF</td>\n",
       "      <td>https://api.spotify.com/v1/tracks/02gaYAEdeR6p...</td>\n",
       "      <td>https://api.spotify.com/v1/audio-analysis/02ga...</td>\n",
       "      <td>183711</td>\n",
       "      <td>4</td>\n",
       "    </tr>\n",
       "    <tr>\n",
       "      <th>2</th>\n",
       "      <td>0.658</td>\n",
       "      <td>0.179</td>\n",
       "      <td>8</td>\n",
       "      <td>-10.866</td>\n",
       "      <td>1</td>\n",
       "      <td>0.0448</td>\n",
       "      <td>0.689</td>\n",
       "      <td>0.000000</td>\n",
       "      <td>0.1700</td>\n",
       "      <td>0.191</td>\n",
       "      <td>128.128</td>\n",
       "      <td>audio_features</td>\n",
       "      <td>0NeJjNlprGfZpeX2LQuN6c</td>\n",
       "      <td>spotify:track:0NeJjNlprGfZpeX2LQuN6c</td>\n",
       "      <td>https://api.spotify.com/v1/tracks/0NeJjNlprGfZ...</td>\n",
       "      <td>https://api.spotify.com/v1/audio-analysis/0NeJ...</td>\n",
       "      <td>238560</td>\n",
       "      <td>4</td>\n",
       "    </tr>\n",
       "    <tr>\n",
       "      <th>3</th>\n",
       "      <td>0.780</td>\n",
       "      <td>0.230</td>\n",
       "      <td>4</td>\n",
       "      <td>-12.706</td>\n",
       "      <td>1</td>\n",
       "      <td>0.0448</td>\n",
       "      <td>0.913</td>\n",
       "      <td>0.002790</td>\n",
       "      <td>0.0798</td>\n",
       "      <td>0.125</td>\n",
       "      <td>123.937</td>\n",
       "      <td>audio_features</td>\n",
       "      <td>6plO0gM4tUvRC9TKFGIuaN</td>\n",
       "      <td>spotify:track:6plO0gM4tUvRC9TKFGIuaN</td>\n",
       "      <td>https://api.spotify.com/v1/tracks/6plO0gM4tUvR...</td>\n",
       "      <td>https://api.spotify.com/v1/audio-analysis/6plO...</td>\n",
       "      <td>240307</td>\n",
       "      <td>4</td>\n",
       "    </tr>\n",
       "    <tr>\n",
       "      <th>4</th>\n",
       "      <td>0.770</td>\n",
       "      <td>0.325</td>\n",
       "      <td>7</td>\n",
       "      <td>-11.301</td>\n",
       "      <td>1</td>\n",
       "      <td>0.0322</td>\n",
       "      <td>0.899</td>\n",
       "      <td>0.000556</td>\n",
       "      <td>0.2200</td>\n",
       "      <td>0.721</td>\n",
       "      <td>103.085</td>\n",
       "      <td>audio_features</td>\n",
       "      <td>54KsfVVnN4YWI2mMrnyUcC</td>\n",
       "      <td>spotify:track:54KsfVVnN4YWI2mMrnyUcC</td>\n",
       "      <td>https://api.spotify.com/v1/tracks/54KsfVVnN4YW...</td>\n",
       "      <td>https://api.spotify.com/v1/audio-analysis/54Ks...</td>\n",
       "      <td>209652</td>\n",
       "      <td>4</td>\n",
       "    </tr>\n",
       "  </tbody>\n",
       "</table>\n",
       "</div>"
      ],
      "text/plain": [
       "   danceability  energy  key  loudness  mode  speechiness  acousticness  \\\n",
       "0         0.830   0.159    1   -14.461     1       0.0383         0.946   \n",
       "1         0.726   0.125    5    -9.194     0       0.0803         0.835   \n",
       "2         0.658   0.179    8   -10.866     1       0.0448         0.689   \n",
       "3         0.780   0.230    4   -12.706     1       0.0448         0.913   \n",
       "4         0.770   0.325    7   -11.301     1       0.0322         0.899   \n",
       "\n",
       "   instrumentalness  liveness  valence    tempo            type  \\\n",
       "0          0.000020    0.3620    0.189  104.950  audio_features   \n",
       "1          0.000000    0.1310    0.277   92.230  audio_features   \n",
       "2          0.000000    0.1700    0.191  128.128  audio_features   \n",
       "3          0.002790    0.0798    0.125  123.937  audio_features   \n",
       "4          0.000556    0.2200    0.721  103.085  audio_features   \n",
       "\n",
       "                       id                                   uri  \\\n",
       "0  0akyEssGRVHstqCSWXusJL  spotify:track:0akyEssGRVHstqCSWXusJL   \n",
       "1  02gaYAEdeR6poHcBH1KUQF  spotify:track:02gaYAEdeR6poHcBH1KUQF   \n",
       "2  0NeJjNlprGfZpeX2LQuN6c  spotify:track:0NeJjNlprGfZpeX2LQuN6c   \n",
       "3  6plO0gM4tUvRC9TKFGIuaN  spotify:track:6plO0gM4tUvRC9TKFGIuaN   \n",
       "4  54KsfVVnN4YWI2mMrnyUcC  spotify:track:54KsfVVnN4YWI2mMrnyUcC   \n",
       "\n",
       "                                          track_href  \\\n",
       "0  https://api.spotify.com/v1/tracks/0akyEssGRVHs...   \n",
       "1  https://api.spotify.com/v1/tracks/02gaYAEdeR6p...   \n",
       "2  https://api.spotify.com/v1/tracks/0NeJjNlprGfZ...   \n",
       "3  https://api.spotify.com/v1/tracks/6plO0gM4tUvR...   \n",
       "4  https://api.spotify.com/v1/tracks/54KsfVVnN4YW...   \n",
       "\n",
       "                                        analysis_url  duration_ms  \\\n",
       "0  https://api.spotify.com/v1/audio-analysis/0aky...       207400   \n",
       "1  https://api.spotify.com/v1/audio-analysis/02ga...       183711   \n",
       "2  https://api.spotify.com/v1/audio-analysis/0NeJ...       238560   \n",
       "3  https://api.spotify.com/v1/audio-analysis/6plO...       240307   \n",
       "4  https://api.spotify.com/v1/audio-analysis/54Ks...       209652   \n",
       "\n",
       "   time_signature  \n",
       "0               4  \n",
       "1               4  \n",
       "2               4  \n",
       "3               4  \n",
       "4               4  "
      ]
     },
     "execution_count": 10,
     "metadata": {},
     "output_type": "execute_result"
    }
   ],
   "source": [
    "\n",
    "# drop_col = ['key', 'mode', 'instrumentalness', 'duration_ms', 'time_signature', 'analysis_url', 'track_href', 'uri', 'id', 'type']\n",
    "# users_top_trx = users_top_trx.drop(drop_col, axis=1)\n",
    "users_top_trx.head()"
   ]
  },
  {
   "cell_type": "code",
   "execution_count": 20,
   "metadata": {},
   "outputs": [],
   "source": [
    "import random\n",
    "\n",
    "users_top_trx_id = random.sample(list(users_top_trx['id']), 5)\n"
   ]
  },
  {
   "cell_type": "code",
   "execution_count": 21,
   "metadata": {},
   "outputs": [],
   "source": [
    "recs = spot_session.recommendations(seed_tracks=users_top_trx_id,\n",
    "                                    limit=50,\n",
    "                                    target_danceability=users_top_trx['danceability'].mean(),\n",
    "                                    target_energy=users_top_trx[\n",
    "                                                                'energy'\n",
    "                                                                ].mean(),\n",
    "                                    target_loudness=users_top_trx[\n",
    "                                                                'loudness'\n",
    "                                                                ].mean(),\n",
    "                                    target_speechiness=users_top_trx[\n",
    "                                                                'speechiness'\n",
    "                                                                ].mean(),\n",
    "                                    target_acousticness=users_top_trx[\n",
    "                                                                'acousticness'\n",
    "                                                                ].mean(),\n",
    "                                    target_valence=users_top_trx[\n",
    "                                                                'valence'\n",
    "                                                                ].mean(),\n",
    "                                    target_liveness=users_top_trx[\n",
    "                                                                'liveness'\n",
    "                                                                ].mean(),\n",
    "                                    target_tempo=users_top_trx[\n",
    "                                                                'tempo'\n",
    "                                                                ].mean()\n",
    "                            )"
   ]
  },
  {
   "cell_type": "code",
   "execution_count": 26,
   "metadata": {},
   "outputs": [
    {
     "data": {
      "text/plain": [
       "['7CyTcdRBnWs3vCCx9kPWFY',\n",
       " '20S5GpuTDgnx9nwBFp5Lpb',\n",
       " '2z3W6iMMVhRj4YYY3rBPKk',\n",
       " '6aommJFM8i3iT4inKuDSXh',\n",
       " '1cJkG6gu8P0sUfAyYHMUIb',\n",
       " '1mbuSss0OVqfS00y7yCNCZ',\n",
       " '6VT2jR1Y4KLCXKZVo1JiQU',\n",
       " '2ALEhWrcpAdOC7YYJBQIre',\n",
       " '2BWao7MNRld2ucMxswvxaU',\n",
       " '7lFcRLIrpzjPd2Ytp13Ml3',\n",
       " '6UQIDBUAknHTNyDKJnCJfe',\n",
       " '7jC9oz02D4KHAd85ej8lUe',\n",
       " '4DOPoeO6dEOMv9fbwCBKos',\n",
       " '1ZnGM9Hb83H5ySQzNK2LJ0',\n",
       " '1xjG9J2yC5kCWJfwqYvnk9',\n",
       " '6lb5BPqGeB5H6BTjzIplav',\n",
       " '0Z8c7bgYXsHvKDJ2eLUBXV',\n",
       " '2eC5qZtIGv427GEvbhkGei',\n",
       " '6Lmw9XlDKK5qvVQ2qk0mDk',\n",
       " '51wUFdgpNsV8cVzu7i6N0l',\n",
       " '4m1jesCFX1gQtIRFirfwCW',\n",
       " '02PT20DulS4wVbekDl4zhk',\n",
       " '4fQkGF3euv3UIoOXEXsPZo',\n",
       " '4zFPUEMucYleIIUnYVoeZf',\n",
       " '6kyqvHEWqcSlWObg2bQj6M',\n",
       " '07nm40KyxxOt3zCCTmewUR',\n",
       " '0JTg7E0zK9T2DgRbzv3OfY',\n",
       " '1oQLLvCmCSTiU9LoPstLlC',\n",
       " '4oI6nz5540UmFqDh4i3yay',\n",
       " '3nFtEpm4PZYPhV9G6nwDhK',\n",
       " '7MtVPRGtZl6rPjMfLoI3Lh',\n",
       " '55DyBUkjebkcYhDGfEXitR',\n",
       " '7erD8TKGNjHhNDqKAkEhMI',\n",
       " '6yb8ktQyg2mH4fOUeIYkd5',\n",
       " '2Jpw6uRsDncpCYkvdrfTTk',\n",
       " '69VfaraLe5onolFj90bgyj',\n",
       " '3pGgwcALM9UVOGb4y7JDio',\n",
       " '1ABfD8SwfreTiCDnouPb5a',\n",
       " '4BT8JGrwOj34Qvsf81RtJB',\n",
       " '7dOhYmFsSnexnf5PljYJrF',\n",
       " '1Bh0UzthW8pKEnYg7v40Oa',\n",
       " '6fNJm8sYmCBbmkKpKgTReA',\n",
       " '22jFQdFpqMpANcqpD0pXOY',\n",
       " '3XlgnHlzPia0v8szVKgSQI',\n",
       " '0gCXhpwJHP8Ghz7eO8w4Tn',\n",
       " '3QIQtCPni57ZcSPzz7JDxt',\n",
       " '2TiTcWEs1CldfTx7fOGfS4',\n",
       " '2ahUaJKZpeVF2ynKmUE2Ok',\n",
       " '3f31OcVzX5qeKAmytC3J6s',\n",
       " '6C2gOOLZkLem9CtXcsCqRn']"
      ]
     },
     "execution_count": 26,
     "metadata": {},
     "output_type": "execute_result"
    }
   ],
   "source": [
    "tracks = []\n",
    "for _ in recs['tracks']:\n",
    "    tracks.append(_['id'])\n",
    "tracks"
   ]
  },
  {
   "cell_type": "code",
   "execution_count": 92,
   "metadata": {},
   "outputs": [
    {
     "data": {
      "text/plain": [
       "{'collaborative': False,\n",
       " 'description': '',\n",
       " 'external_urls': {'spotify': 'https://open.spotify.com/playlist/2Pk3OLPiVXIZHieWs5ZGHp'},\n",
       " 'followers': {'href': None, 'total': 0},\n",
       " 'href': 'https://api.spotify.com/v1/playlists/2Pk3OLPiVXIZHieWs5ZGHp',\n",
       " 'id': '2Pk3OLPiVXIZHieWs5ZGHp',\n",
       " 'images': [],\n",
       " 'name': 'test',\n",
       " 'owner': {'display_name': 'Agustinvargas',\n",
       "  'external_urls': {'spotify': 'https://open.spotify.com/user/37t3cvb5u3o97hin4bsj40abw'},\n",
       "  'href': 'https://api.spotify.com/v1/users/37t3cvb5u3o97hin4bsj40abw',\n",
       "  'id': '37t3cvb5u3o97hin4bsj40abw',\n",
       "  'type': 'user',\n",
       "  'uri': 'spotify:user:37t3cvb5u3o97hin4bsj40abw'},\n",
       " 'primary_color': None,\n",
       " 'public': True,\n",
       " 'snapshot_id': 'MSwyZTU5NzQ1OWNlNWY4NGJhNTJkNDJiMDI1ZGJmNDBlOTY0MDMzOGJi',\n",
       " 'tracks': {'href': 'https://api.spotify.com/v1/playlists/2Pk3OLPiVXIZHieWs5ZGHp/tracks',\n",
       "  'items': [],\n",
       "  'limit': 100,\n",
       "  'next': None,\n",
       "  'offset': 0,\n",
       "  'previous': None,\n",
       "  'total': 0},\n",
       " 'type': 'playlist',\n",
       " 'uri': 'spotify:playlist:2Pk3OLPiVXIZHieWs5ZGHp'}"
      ]
     },
     "execution_count": 92,
     "metadata": {},
     "output_type": "execute_result"
    }
   ],
   "source": [
    "# pllist = spot_session.user_playlist_create(user=current_user_info['id'], name='test', public=True)\n",
    "pllist"
   ]
  },
  {
   "cell_type": "code",
   "execution_count": 95,
   "metadata": {},
   "outputs": [
    {
     "data": {
      "text/plain": [
       "{'snapshot_id': 'Myw2ZDdiNzNiYmExZWE2MDNkMjE2NTk3NzQ0YjI0ZWQwZDgyYTQxOTMz'}"
      ]
     },
     "execution_count": 95,
     "metadata": {},
     "output_type": "execute_result"
    }
   ],
   "source": [
    "spot_session.user_playlist_add_tracks(user=current_user_info['id'], playlist_id=pllist['id'], tracks=trx_for_ply)"
   ]
  },
  {
   "cell_type": "code",
   "execution_count": 5,
   "metadata": {},
   "outputs": [],
   "source": [
    "session2 = user.add_tracks(top_50_trx_ids=top_50_trx_ids, top_50_aud_feat=top_50_aud_feat, session=session)"
   ]
  },
  {
   "cell_type": "code",
   "execution_count": 14,
   "metadata": {},
   "outputs": [],
   "source": [
    "# Create session\n",
    "session = user.Session()"
   ]
  },
  {
   "cell_type": "markdown",
   "metadata": {},
   "source": [
    "### First we create/find a user"
   ]
  },
  {
   "cell_type": "markdown",
   "metadata": {},
   "source": [
    "### Instantiate token add the user1 data"
   ]
  },
  {
   "cell_type": "code",
   "execution_count": 16,
   "metadata": {},
   "outputs": [],
   "source": [
    "# Instantiating User() object corresponding to user table in DB\n",
    "\n",
    "user1 = User(spot_id='avargas-274', display_name='avargas-274')"
   ]
  },
  {
   "cell_type": "markdown",
   "metadata": {},
   "source": [
    "### Instantiate a track"
   ]
  },
  {
   "cell_type": "code",
   "execution_count": 7,
   "metadata": {},
   "outputs": [
    {
     "name": "stdout",
     "output_type": "stream",
     "text": [
      "importing a track into the database for a given user and play list\n"
     ]
    }
   ],
   "source": [
    "print('importing a track into the database for a given user and play list')\n",
    "# trk2 = Tracks(\n",
    "#             id=user_dict['Top Track IDs'][1],\n",
    "#             danceability=user_dict['Track Audio Features'][1]['danceability'],\n",
    "#             energy=user_dict['Track Audio Features'][1]['energy'],\n",
    "#             key=user_dict['Track Audio Features'][1]['key'],\n",
    "#             loudness=user_dict['Track Audio Features'][1]['loudness'],\n",
    "#             mode=user_dict['Track Audio Features'][1]['mode'],\n",
    "#             speechiness=user_dict['Track Audio Features'][1]['speechiness'],\n",
    "#             acousticness=user_dict['Track Audio Features'][1]['acousticness'],\n",
    "#             instrumentalness=user_dict['Track Audio Features'][1]['instrumentalness'],\n",
    "#             valence=user_dict['Track Audio Features'][1]['valence'],\n",
    "#             liveness=user_dict['Track Audio Features'][1]['liveness'],\n",
    "#             tempo=user_dict['Track Audio Features'][1]['tempo'],\n",
    "#             duration_ms=user_dict['Track Audio Features'][1]['duration_ms'],\n",
    "#             time_signature=user_dict['Track Audio Features'][1]['time_signature']\n",
    "#             )"
   ]
  },
  {
   "cell_type": "markdown",
   "metadata": {},
   "source": [
    "### Checking to see if song exists in DB if not then add it to db"
   ]
  },
  {
   "cell_type": "code",
   "execution_count": 27,
   "metadata": {},
   "outputs": [
    {
     "name": "stdout",
     "output_type": "stream",
     "text": [
      "track with id 02gaYAEdeR6poHcBH1KUQF does not exists, so we'll up date it\n"
     ]
    }
   ],
   "source": [
    "trk_sesh = session.query(Tracks).filter(Tracks.id == trk2.id).first()\n",
    "if trk_sesh is None:\n",
    "    print(f\"track with id {trk2.id} does not exists, so we'll up date it\")\n",
    "    session.add(trk2)\n",
    "    session.commit()\n",
    "else:\n",
    "    print(f\"The song with id {trk2.id} is already in our DB\")"
   ]
  },
  {
   "cell_type": "markdown",
   "metadata": {},
   "source": [
    "### Creating `Tracks` objects, and adding to DB using `session.add_all()`"
   ]
  },
  {
   "cell_type": "markdown",
   "metadata": {},
   "source": [
    "# Completed Functions for the `UserData` class\n",
    "    Functions completed:\n",
    "        - UserData().check_for_user(): checks if user exists in DB if\n",
    "        - UserData().add_tracks(): checks to see if tracks exist in DB if they don't it updates them"
   ]
  },
  {
   "cell_type": "code",
   "execution_count": 30,
   "metadata": {},
   "outputs": [],
   "source": [
    "def check_for_user(user_id, spot_cc):\n",
    "    \"\"\"\n",
    "    Checks for user in DB.\n",
    "\n",
    "    Input:\n",
    "        - current_user_info: This object contains ID and displa_name for\n",
    "          the user\n",
    "        - spot_cc: Object for the spotify credentials connection\n",
    "\n",
    "    Output:\n",
    "        - : User() object from the my_db module\n",
    "             contains q.id (user id) and q.display_name (user display name)\n",
    "    \"\"\"\n",
    "    session = user.Session()\n",
    "    engine = user.engine\n",
    "    Base = user.base\n",
    "    user_id = user_id\n",
    "    spot_cc = spot_cc\n",
    "\n",
    "    user1 = User(\n",
    "                spot_id=user_id,\n",
    "                )\n",
    "\n",
    "    # update user and commit, then update token, and commit\n",
    "    display_name_q = session.query(\n",
    "                                    User\n",
    "                                    ).filter(\n",
    "                                            User.display_name ==\n",
    "                                            user1.display_name\n",
    "                                            ).first()\n",
    "\n",
    "    # checking if user exists, if not then add user and token\n",
    "    # if exists, check if token exists, if not add\n",
    "    # if token exists, update using refresh_key\n",
    "    if display_name_q is None:\n",
    "        session.add(user1)\n",
    "        session.commit()\n",
    "        token = Tokens(\n",
    "                    # Instead of \"user_dict['Tokens Info']\"\" it should\n",
    "                    # be \"token_info\"\n",
    "                    access_token=token_info['access_token'],\n",
    "                    token_type=token_info['token_type'],\n",
    "                    expires_in=token_info['expires_in'],\n",
    "                    refresh_token=token_info['refresh_token'],\n",
    "                    scope=token_info['scope'],\n",
    "                    expires_at=token_info['expires_at'],\n",
    "                    # Still user \"user1\" because the id is not changing,\n",
    "                    # simply adding mans to the db\n",
    "                    user_token=user1\n",
    "                    )\n",
    "        session.add(token)\n",
    "        session.commit()\n",
    "    # Else, check if user has corresponding token that is not expired\n",
    "    else:\n",
    "        print(f\"User {user1.display_name} already exists in DataBase;\\\n",
    "                checking for token\")\n",
    "        token_q = session.query(\n",
    "                                Tokens\n",
    "                                ).filter(\n",
    "                                        Tokens.user == user1.id\n",
    "                                        ).first()\n",
    "        if token_q is None:\n",
    "            print(f\"We don't have a token for {user1.display_name},\\\n",
    "                    adding new token\")\n",
    "            token = Tokens(\n",
    "                        # \"token_info\" to add tokens to db\n",
    "                        access_token=token_info['access_token'],\n",
    "                        token_type=token_info['token_type'],\n",
    "                        expires_in=token_info['expires_in'],\n",
    "                        refresh_token=token_info['refresh_token'],\n",
    "                        scope=token_info['scope'],\n",
    "                        expires_at=token_info['expires_at'],\n",
    "                        # Still user \"user1\" because the id is not changing\n",
    "                        # simply adding mans to the db\n",
    "                        user_token=user1\n",
    "                        )\n",
    "            session.add(token)\n",
    "            session.commit()\n",
    "        # if the token exists refresh it, and update the value in table\n",
    "        else:\n",
    "            print(f\"{user1.display_name} has a token, updating it\")\n",
    "            accs_token_refresh = spot_cc.refresh_access_token(\n",
    "                                                    token_q.refresh_token\n",
    "                                                    )\n",
    "            token_info = spot_cc.get_access_token(as_dict=True)\n",
    "            update_token = update(Tokens).where(\n",
    "                                            Tokens.user == user1.id\n",
    "                                                ).values(\n",
    "                                                access_token=token_info[\n",
    "                                                            'access_token'\n",
    "                                                                ],\n",
    "                                                expires_in=token_info[\n",
    "                                                            'expires_in'\n",
    "                                                                ],\n",
    "                                                refresh_token=token_info[\n",
    "                                                            'refresh_token'\n",
    "                                                                ],\n",
    "                                                expires_at=token_info[\n",
    "                                                            'expires_at'\n",
    "                                                                ]\n",
    "                                                        )\n",
    "            session.execute(update_token)\n",
    "            session.commit()\n",
    "\n",
    "    return session, user1"
   ]
  },
  {
   "cell_type": "code",
   "execution_count": 3,
   "metadata": {},
   "outputs": [
    {
     "data": {
      "text/plain": [
       "'avargas-274'"
      ]
     },
     "execution_count": 3,
     "metadata": {},
     "output_type": "execute_result"
    }
   ],
   "source": [
    "engine = create_engine(getenv('DATABASE_URL'))\n",
    "Session = sessionmaker(autocommit=False, autoflush=False, bind=engine)\n",
    "session = Session()\n",
    "base = declarative_base()\n",
    "\n",
    "user_id = 'avargas-274'\n",
    "\n",
    "user_id_q = session.query(User).filter(User.spot_id == user_id).first()\n",
    "user_id_q.display_name"
   ]
  },
  {
   "cell_type": "code",
   "execution_count": 6,
   "metadata": {},
   "outputs": [],
   "source": [
    "def add_tracks(self, top_50_trx_ids, top_50_aud_feat, session):\n",
    "    \"\"\"\n",
    "    This function is used when the user does not have their top 50 trx in\n",
    "    our db, and we need to add them after adding the user.\n",
    "\n",
    "    Input:\n",
    "        - top_50_trx_ids: List of 50 alpha-neumeric track IDs\n",
    "        - top_50_aud_feat: List of dicts containing feat data\n",
    "\n",
    "    Output:\n",
    "        - Updates DB with the track id and track feature data\n",
    "        - DB session: object\n",
    "    \"\"\"\n",
    "    top_50_aud_feat = top_50_aud_feat\n",
    "    top_50_trx_ids = top_50_trx_ids\n",
    "    session = session\n",
    "\n",
    "    trx = []\n",
    "    for k, v in enumerate(top_50_aud_feat):\n",
    "        trk_sesh = session.query(\n",
    "                                Tracks\n",
    "                                ).filter(\n",
    "                                        Tracks.id == top_50_trx_ids[k]\n",
    "                                        ).first()\n",
    "        if trk_sesh is not None:\n",
    "            continue\n",
    "        globals()['trk_' + str(k)] = Tracks(\n",
    "                                    id=top_50_trx_ids[k],\n",
    "                                    danceability=v['danceability'],\n",
    "                                    energy=v['energy'],\n",
    "                                    key=v['key'],\n",
    "                                    loudness=v['loudness'],\n",
    "                                    mode=v['mode'],\n",
    "                                    speechiness=v['speechiness'],\n",
    "                                    acousticness=v['acousticness'],\n",
    "                                    instrumentalness=v['instrumentalness'],\n",
    "                                    valence=v['valence'],\n",
    "                                    liveness=v['liveness'],\n",
    "                                    tempo=v['tempo'],\n",
    "                                    duration_ms=v['duration_ms'],\n",
    "                                    time_signature=v['time_signature']\n",
    "                                    )\n",
    "        trx.append(globals()['trk_' + str(k)])\n",
    "\n",
    "    session.add_all(trx)\n",
    "    session.commit()\n",
    "\n",
    "    return session"
   ]
  }
 ],
 "metadata": {
  "kernelspec": {
   "display_name": "spotify2",
   "language": "python",
   "name": "spotify2"
  },
  "language_info": {
   "codemirror_mode": {
    "name": "ipython",
    "version": 3
   },
   "file_extension": ".py",
   "mimetype": "text/x-python",
   "name": "python",
   "nbconvert_exporter": "python",
   "pygments_lexer": "ipython3",
   "version": "3.8.5"
  }
 },
 "nbformat": 4,
 "nbformat_minor": 4
}
