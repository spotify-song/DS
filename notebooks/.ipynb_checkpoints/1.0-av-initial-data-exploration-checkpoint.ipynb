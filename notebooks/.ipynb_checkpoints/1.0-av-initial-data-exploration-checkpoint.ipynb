{
 "cells": [
  {
   "cell_type": "markdown",
   "metadata": {},
   "source": [
    "# Exploratory Analysis"
   ]
  },
  {
   "cell_type": "markdown",
   "metadata": {},
   "source": [
    "## Eploring SpotiPy\n",
    "- Explore available data\n",
    "- Select features of interest\n",
    "- Generate initial dataframe and database"
   ]
  },
  {
   "cell_type": "markdown",
   "metadata": {},
   "source": [
    "###### Note:  Potentially building a recomender system that can take a set of the most frequently played songs from one user, and match them with a second users profile; potentially between courting couples and friends"
   ]
  },
  {
   "cell_type": "code",
   "execution_count": 8,
   "metadata": {},
   "outputs": [],
   "source": [
    "# imports\n",
    "\n",
    "import os\n",
    "import sys\n",
    "import json\n",
    "import spotipy\n",
    "import webbrowser\n",
    "from os import getenv\n",
    "import spotipy.util as util\n",
    "from dotenv import load_dotenv\n",
    "from json.decoder import JSONDecodeError\n",
    "from spotipy.oauth2 import SpotifyClientCredentials"
   ]
  },
  {
   "cell_type": "code",
   "execution_count": 23,
   "metadata": {},
   "outputs": [],
   "source": [
    "# Connecting to the API\n",
    "\n",
    "load_dotenv()  # this imports all .env variables\n",
    "\n",
    "# Setting up env variables to connect to API\n",
    "uri = getenv('uri') # must match in the Spotify app dashboard\n",
    "SPOTIFY_CLIENT_ID = getenv('SPOTIFY_CLIENT_ID')\n",
    "SPOTIFY_CLIENT_SECRET = getenv('SPOTIFY_CLIENT_SECRET')\n",
    "SPOTIFY_USER_ID = getenv('USER_ID')\n",
    "username = getenv('USER_ID')\n",
    "\n",
    "# Access token to obtain user info\n",
    "token = util.prompt_for_user_token(username=username,\n",
    "                                   scope=None,\n",
    "                                   client_id=SPOTIFY_CLIENT_ID,\n",
    "                                   client_secret=SPOTIFY_CLIENT_SECRET,\n",
    "                                   redirect_uri=uri)\n",
    "\n",
    "# activating spotify session\n",
    "spotify_session = spotipy.Spotify(auth=token)"
   ]
  },
  {
   "cell_type": "code",
   "execution_count": null,
   "metadata": {},
   "outputs": [],
   "source": []
  },
  {
   "cell_type": "markdown",
   "metadata": {},
   "source": [
    "# Baseline Explorations\n",
    "- Select type of problem type (class/reg)\n",
    "- Determine model baselines\n",
    "- Model evaluations/comparisons"
   ]
  },
  {
   "cell_type": "code",
   "execution_count": null,
   "metadata": {},
   "outputs": [],
   "source": []
  }
 ],
 "metadata": {
  "kernelspec": {
   "display_name": "spotify",
   "language": "python",
   "name": "spotify"
  },
  "language_info": {
   "codemirror_mode": {
    "name": "ipython",
    "version": 3
   },
   "file_extension": ".py",
   "mimetype": "text/x-python",
   "name": "python",
   "nbconvert_exporter": "python",
   "pygments_lexer": "ipython3",
   "version": "3.7.4"
  }
 },
 "nbformat": 4,
 "nbformat_minor": 4
}
