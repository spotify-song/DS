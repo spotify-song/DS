{
 "cells": [
  {
   "cell_type": "markdown",
   "metadata": {},
   "source": [
    "# Track Data Collection Notebook"
   ]
  },
  {
   "cell_type": "code",
   "execution_count": 65,
   "metadata": {},
   "outputs": [],
   "source": [
    "from os import getenv\n",
    "from sqlalchemy import create_engine, update\n",
    "from sqlalchemy.ext.declarative import declarative_base\n",
    "from dotenv import load_dotenv\n",
    "from sqlalchemy.orm import sessionmaker\n",
    "import spotipy\n",
    "from spotipy.client import SpotifyException\n",
    "import pandas as pd\n",
    "from collections import Counter\n",
    "from gensim.utils import tokenize\n",
    "import time\n",
    "import tqdm\n",
    "import json\n",
    "\n",
    "load_dotenv()\n",
    "\n",
    "uri = getenv('uri') # must match in the Spotify app dashboard\n",
    "SPOTIFY_CLIENT_ID = getenv('SPOTIFY_CLIENT_ID')\n",
    "SPOTIFY_CLIENT_SECRET = getenv('SPOTIFY_CLIENT_SECRET')\n",
    "# cache_path = ('../.user_cache')\n",
    "scope = 'playlist-modify-public user-library-read user-top-read'\n",
    "\n",
    "spot_cc = spotipy.oauth2.SpotifyOAuth(\n",
    "                                    username='',\n",
    "                                    client_id=SPOTIFY_CLIENT_ID,\n",
    "                                    client_secret=SPOTIFY_CLIENT_SECRET,\n",
    "#                                     cache_path=cache_path,\n",
    "                                    scope=scope,\n",
    "                                    redirect_uri=uri\n",
    "                                    )\n",
    "spot = spotipy.Spotify(auth_manager=spot_cc)"
   ]
  },
  {
   "cell_type": "markdown",
   "metadata": {},
   "source": [
    "## Gathering user playlists"
   ]
  },
  {
   "cell_type": "code",
   "execution_count": 7,
   "metadata": {},
   "outputs": [],
   "source": [
    "# playlist IDs for 'spotify', '37t3cvb5u3o97hin4bsj40abw', 'dlanguren', 'gabriela_ayala19', 'rueics5ld3iok5kotetlsly8h'\n",
    "\n",
    "playlist_ids = []\n",
    "users_lst = ['spotify', '37t3cvb5u3o97hin4bsj40abw', 'dlanguren', 'gabriela_ayala19', 'rueics5ld3iok5kotetlsly8h']\n",
    "for user in users_lst:\n",
    "    playlists = spot.user_playlists(user)\n",
    "    while playlists:\n",
    "        for i, playlist in enumerate(playlists['items']):\n",
    "            playlist_ids.append(playlist['id'])\n",
    "        if playlists['next']:\n",
    "            playlists = spot.next(playlists)\n",
    "        else:\n",
    "            playlists = None"
   ]
  },
  {
   "cell_type": "code",
   "execution_count": 8,
   "metadata": {},
   "outputs": [
    {
     "data": {
      "text/plain": [
       "1454"
      ]
     },
     "execution_count": 8,
     "metadata": {},
     "output_type": "execute_result"
    }
   ],
   "source": [
    "len(playlist_ids)"
   ]
  },
  {
   "cell_type": "markdown",
   "metadata": {},
   "source": [
    "## Getting tracks from a playlists"
   ]
  },
  {
   "cell_type": "code",
   "execution_count": 9,
   "metadata": {},
   "outputs": [],
   "source": [
    "trx = []\n",
    "for i in playlist_ids:\n",
    "    offset = 0\n",
    "    while True:\n",
    "        response = spot.playlist_tracks(i,\n",
    "                                       offset=offset,\n",
    "                                       fields='items.track.id')\n",
    "        offset = offset + len(response['items'])\n",
    "        if len(response['items']) == 0:\n",
    "            break\n",
    "        for j in response['items']:\n",
    "            if j['track'] == None or j['track']['id'] == None:\n",
    "                continue\n",
    "            trx.append(j['track']['id'])"
   ]
  },
  {
   "cell_type": "code",
   "execution_count": 10,
   "metadata": {},
   "outputs": [
    {
     "name": "stdout",
     "output_type": "stream",
     "text": [
      "102495\n"
     ]
    },
    {
     "data": {
      "text/plain": [
       "102495"
      ]
     },
     "execution_count": 10,
     "metadata": {},
     "output_type": "execute_result"
    }
   ],
   "source": [
    "# removing Nonetype track IDs from the trx list\n",
    "\n",
    "print(len(trx))\n",
    "for k, trk in enumerate(trx):\n",
    "    if trk == None:\n",
    "        trx.pop(k)\n",
    "        print(k, trk)\n",
    "len(trx)"
   ]
  },
  {
   "cell_type": "markdown",
   "metadata": {},
   "source": [
    "## Gathering track audio features"
   ]
  },
  {
   "cell_type": "code",
   "execution_count": 11,
   "metadata": {},
   "outputs": [],
   "source": [
    "import sys\n",
    "sys.path.insert(0, '../api/')\n",
    "from spotify_users import UserData"
   ]
  },
  {
   "cell_type": "code",
   "execution_count": 14,
   "metadata": {},
   "outputs": [],
   "source": [
    "le_test = UserData()\n",
    "audio_fe = le_test.get_audio_features(track_ids=trx, spot_session=spot)"
   ]
  },
  {
   "cell_type": "code",
   "execution_count": 15,
   "metadata": {},
   "outputs": [],
   "source": [
    "lst_val_lst = []\n",
    "for vals in audio_fe:\n",
    "    val_lst = []\n",
    "    col_lst = []\n",
    "    if vals == None:\n",
    "        continue\n",
    "    for _, val in vals.items():\n",
    "        val_lst.append(val)\n",
    "        col_lst.append(_)\n",
    "    lst_val_lst.append(val_lst)\n",
    "    "
   ]
  },
  {
   "cell_type": "code",
   "execution_count": 16,
   "metadata": {},
   "outputs": [
    {
     "data": {
      "text/html": [
       "<div>\n",
       "<style scoped>\n",
       "    .dataframe tbody tr th:only-of-type {\n",
       "        vertical-align: middle;\n",
       "    }\n",
       "\n",
       "    .dataframe tbody tr th {\n",
       "        vertical-align: top;\n",
       "    }\n",
       "\n",
       "    .dataframe thead th {\n",
       "        text-align: right;\n",
       "    }\n",
       "</style>\n",
       "<table border=\"1\" class=\"dataframe\">\n",
       "  <thead>\n",
       "    <tr style=\"text-align: right;\">\n",
       "      <th></th>\n",
       "      <th>danceability</th>\n",
       "      <th>energy</th>\n",
       "      <th>key</th>\n",
       "      <th>loudness</th>\n",
       "      <th>mode</th>\n",
       "      <th>speechiness</th>\n",
       "      <th>acousticness</th>\n",
       "      <th>instrumentalness</th>\n",
       "      <th>liveness</th>\n",
       "      <th>valence</th>\n",
       "      <th>tempo</th>\n",
       "      <th>id</th>\n",
       "      <th>duration_ms</th>\n",
       "      <th>time_signature</th>\n",
       "    </tr>\n",
       "  </thead>\n",
       "  <tbody>\n",
       "    <tr>\n",
       "      <th>0</th>\n",
       "      <td>0.721</td>\n",
       "      <td>0.745</td>\n",
       "      <td>7</td>\n",
       "      <td>-3.508</td>\n",
       "      <td>0</td>\n",
       "      <td>0.0366</td>\n",
       "      <td>0.15100</td>\n",
       "      <td>0.000001</td>\n",
       "      <td>0.3720</td>\n",
       "      <td>0.6990</td>\n",
       "      <td>90.988</td>\n",
       "      <td>6FuGJB290AQMAHTfjOYVaK</td>\n",
       "      <td>192745</td>\n",
       "      <td>4</td>\n",
       "    </tr>\n",
       "    <tr>\n",
       "      <th>1</th>\n",
       "      <td>0.736</td>\n",
       "      <td>0.802</td>\n",
       "      <td>0</td>\n",
       "      <td>-4.759</td>\n",
       "      <td>1</td>\n",
       "      <td>0.0864</td>\n",
       "      <td>0.46800</td>\n",
       "      <td>0.000000</td>\n",
       "      <td>0.0940</td>\n",
       "      <td>0.6750</td>\n",
       "      <td>144.005</td>\n",
       "      <td>7igeByaBM0MgGsgXtNxDJ7</td>\n",
       "      <td>172325</td>\n",
       "      <td>4</td>\n",
       "    </tr>\n",
       "    <tr>\n",
       "      <th>2</th>\n",
       "      <td>0.702</td>\n",
       "      <td>0.825</td>\n",
       "      <td>6</td>\n",
       "      <td>-3.787</td>\n",
       "      <td>0</td>\n",
       "      <td>0.0601</td>\n",
       "      <td>0.00883</td>\n",
       "      <td>0.000000</td>\n",
       "      <td>0.0674</td>\n",
       "      <td>0.9150</td>\n",
       "      <td>102.977</td>\n",
       "      <td>463CkQjx2Zk1yXoBuierM9</td>\n",
       "      <td>203064</td>\n",
       "      <td>4</td>\n",
       "    </tr>\n",
       "    <tr>\n",
       "      <th>3</th>\n",
       "      <td>0.709</td>\n",
       "      <td>0.548</td>\n",
       "      <td>10</td>\n",
       "      <td>-8.493</td>\n",
       "      <td>1</td>\n",
       "      <td>0.3530</td>\n",
       "      <td>0.65000</td>\n",
       "      <td>0.000002</td>\n",
       "      <td>0.1330</td>\n",
       "      <td>0.5430</td>\n",
       "      <td>83.995</td>\n",
       "      <td>1tkg4EHVoqnhR6iFEXb60y</td>\n",
       "      <td>160000</td>\n",
       "      <td>4</td>\n",
       "    </tr>\n",
       "    <tr>\n",
       "      <th>4</th>\n",
       "      <td>0.631</td>\n",
       "      <td>0.239</td>\n",
       "      <td>11</td>\n",
       "      <td>-7.071</td>\n",
       "      <td>0</td>\n",
       "      <td>0.0398</td>\n",
       "      <td>0.86400</td>\n",
       "      <td>0.000000</td>\n",
       "      <td>0.1160</td>\n",
       "      <td>0.0927</td>\n",
       "      <td>79.859</td>\n",
       "      <td>4y4spB9m0Q6026KfkAvy9Q</td>\n",
       "      <td>149297</td>\n",
       "      <td>4</td>\n",
       "    </tr>\n",
       "  </tbody>\n",
       "</table>\n",
       "</div>"
      ],
      "text/plain": [
       "   danceability  energy  key  loudness  mode  speechiness  acousticness  \\\n",
       "0         0.721   0.745    7    -3.508     0       0.0366       0.15100   \n",
       "1         0.736   0.802    0    -4.759     1       0.0864       0.46800   \n",
       "2         0.702   0.825    6    -3.787     0       0.0601       0.00883   \n",
       "3         0.709   0.548   10    -8.493     1       0.3530       0.65000   \n",
       "4         0.631   0.239   11    -7.071     0       0.0398       0.86400   \n",
       "\n",
       "   instrumentalness  liveness  valence    tempo                      id  \\\n",
       "0          0.000001    0.3720   0.6990   90.988  6FuGJB290AQMAHTfjOYVaK   \n",
       "1          0.000000    0.0940   0.6750  144.005  7igeByaBM0MgGsgXtNxDJ7   \n",
       "2          0.000000    0.0674   0.9150  102.977  463CkQjx2Zk1yXoBuierM9   \n",
       "3          0.000002    0.1330   0.5430   83.995  1tkg4EHVoqnhR6iFEXb60y   \n",
       "4          0.000000    0.1160   0.0927   79.859  4y4spB9m0Q6026KfkAvy9Q   \n",
       "\n",
       "   duration_ms  time_signature  \n",
       "0       192745               4  \n",
       "1       172325               4  \n",
       "2       203064               4  \n",
       "3       160000               4  \n",
       "4       149297               4  "
      ]
     },
     "execution_count": 16,
     "metadata": {},
     "output_type": "execute_result"
    }
   ],
   "source": [
    "test_df = pd.DataFrame(lst_val_lst, columns=col_lst)\n",
    "drop_col = ['uri', 'analysis_url', 'track_href', 'type']\n",
    "test_df = test_df.drop(drop_col, axis=1)\n",
    "test_df.head()"
   ]
  },
  {
   "cell_type": "code",
   "execution_count": 17,
   "metadata": {},
   "outputs": [],
   "source": [
    "# Exporting dataframe of +100k songs to csv file\n",
    "# test_df.to_csv(r'/Users/flanuer/Downloads/Lambda/Course_material/misc_datasets/11_10_100k_song_aud_feat.csv')"
   ]
  },
  {
   "cell_type": "markdown",
   "metadata": {},
   "source": [
    "## Importing and combining data"
   ]
  },
  {
   "cell_type": "code",
   "execution_count": 99,
   "metadata": {},
   "outputs": [
    {
     "data": {
      "text/html": [
       "<div>\n",
       "<style scoped>\n",
       "    .dataframe tbody tr th:only-of-type {\n",
       "        vertical-align: middle;\n",
       "    }\n",
       "\n",
       "    .dataframe tbody tr th {\n",
       "        vertical-align: top;\n",
       "    }\n",
       "\n",
       "    .dataframe thead th {\n",
       "        text-align: right;\n",
       "    }\n",
       "</style>\n",
       "<table border=\"1\" class=\"dataframe\">\n",
       "  <thead>\n",
       "    <tr style=\"text-align: right;\">\n",
       "      <th></th>\n",
       "      <th>danceability</th>\n",
       "      <th>energy</th>\n",
       "      <th>key</th>\n",
       "      <th>loudness</th>\n",
       "      <th>mode</th>\n",
       "      <th>speechiness</th>\n",
       "      <th>acousticness</th>\n",
       "      <th>instrumentalness</th>\n",
       "      <th>liveness</th>\n",
       "      <th>valence</th>\n",
       "      <th>tempo</th>\n",
       "      <th>id</th>\n",
       "      <th>duration_ms</th>\n",
       "      <th>time_signature</th>\n",
       "    </tr>\n",
       "  </thead>\n",
       "  <tbody>\n",
       "    <tr>\n",
       "      <th>0</th>\n",
       "      <td>0.743</td>\n",
       "      <td>0.339</td>\n",
       "      <td>1</td>\n",
       "      <td>-7.678</td>\n",
       "      <td>1</td>\n",
       "      <td>0.4090</td>\n",
       "      <td>0.00582</td>\n",
       "      <td>0.0</td>\n",
       "      <td>0.0812</td>\n",
       "      <td>0.118</td>\n",
       "      <td>203.927</td>\n",
       "      <td>2RM4jf1Xa9zPgMGRDiht8O</td>\n",
       "      <td>238373</td>\n",
       "      <td>4</td>\n",
       "    </tr>\n",
       "    <tr>\n",
       "      <th>1</th>\n",
       "      <td>0.846</td>\n",
       "      <td>0.557</td>\n",
       "      <td>8</td>\n",
       "      <td>-7.259</td>\n",
       "      <td>1</td>\n",
       "      <td>0.4570</td>\n",
       "      <td>0.02440</td>\n",
       "      <td>0.0</td>\n",
       "      <td>0.2860</td>\n",
       "      <td>0.371</td>\n",
       "      <td>159.009</td>\n",
       "      <td>1tHDG53xJNGsItRA3vfVgs</td>\n",
       "      <td>214800</td>\n",
       "      <td>4</td>\n",
       "    </tr>\n",
       "    <tr>\n",
       "      <th>2</th>\n",
       "      <td>0.603</td>\n",
       "      <td>0.723</td>\n",
       "      <td>9</td>\n",
       "      <td>-5.890</td>\n",
       "      <td>0</td>\n",
       "      <td>0.0454</td>\n",
       "      <td>0.02500</td>\n",
       "      <td>0.0</td>\n",
       "      <td>0.0824</td>\n",
       "      <td>0.382</td>\n",
       "      <td>114.966</td>\n",
       "      <td>6Wosx2euFPMT14UXiWudMy</td>\n",
       "      <td>138913</td>\n",
       "      <td>4</td>\n",
       "    </tr>\n",
       "  </tbody>\n",
       "</table>\n",
       "</div>"
      ],
      "text/plain": [
       "   danceability  energy  key  loudness  mode  speechiness  acousticness  \\\n",
       "0         0.743   0.339    1    -7.678     1       0.4090       0.00582   \n",
       "1         0.846   0.557    8    -7.259     1       0.4570       0.02440   \n",
       "2         0.603   0.723    9    -5.890     0       0.0454       0.02500   \n",
       "\n",
       "   instrumentalness  liveness  valence    tempo                      id  \\\n",
       "0               0.0    0.0812    0.118  203.927  2RM4jf1Xa9zPgMGRDiht8O   \n",
       "1               0.0    0.2860    0.371  159.009  1tHDG53xJNGsItRA3vfVgs   \n",
       "2               0.0    0.0824    0.382  114.966  6Wosx2euFPMT14UXiWudMy   \n",
       "\n",
       "   duration_ms  time_signature  \n",
       "0       238373               4  \n",
       "1       214800               4  \n",
       "2       138913               4  "
      ]
     },
     "execution_count": 99,
     "metadata": {},
     "output_type": "execute_result"
    }
   ],
   "source": [
    "latest_df = pd.read_csv('/Users/flanuer/Downloads/Lambda/Course_material/misc_datasets/100k_song_aud_feat.csv')#, index_col='id')\n",
    "drop_col = ['uri', 'Unnamed: 0']\n",
    "latest_df = latest_df.drop(drop_col, axis=1)\n",
    "latest_df.head(3)\n",
    "\n",
    "full_df = pd.read_csv('/Users/flanuer/Downloads/Lambda/Course_material/misc_datasets/100k_song_aud_feat.csv')#, index_col='id')\n",
    "drop_col = ['uri', 'Unnamed: 0']\n",
    "full_df = full_df.drop(drop_col, axis=1)\n",
    "full_df.head(3)\n",
    "\n",
    "drop_cols = ['track name', 'artist', 'uri', 'Unnamed: 0']\n",
    "songs_100_df = pd.read_csv('/Users/flanuer/Downloads/Lambda/Course_material/misc_datasets/songs100k.csv')#, index_col='id')\n",
    "songs_100_df = songs_100_df.drop(drop_cols, axis=1)\n",
    "songs_100_df.head(3)"
   ]
  },
  {
   "cell_type": "code",
   "execution_count": 100,
   "metadata": {},
   "outputs": [
    {
     "data": {
      "text/plain": [
       "((338951, 14), (104144, 14), (130663, 14))"
      ]
     },
     "execution_count": 100,
     "metadata": {},
     "output_type": "execute_result"
    }
   ],
   "source": [
    "# need to concat all of the dataframes without duplicate songs\n",
    "first_df = pd.concat([full_df, songs_100_df, latest_df])\n",
    "first_df.shape, full_df.shape, songs_100_df.shape, latest_df.shape"
   ]
  },
  {
   "cell_type": "code",
   "execution_count": 101,
   "metadata": {},
   "outputs": [
    {
     "data": {
      "text/plain": [
       "(210124, 14)"
      ]
     },
     "execution_count": 101,
     "metadata": {},
     "output_type": "execute_result"
    }
   ],
   "source": [
    "df = first_df.drop_duplicates(inplace=False, subset='id')\n",
    "df.shape"
   ]
  },
  {
   "cell_type": "code",
   "execution_count": 105,
   "metadata": {},
   "outputs": [],
   "source": [
    "# Exporting dataframe of +100k songs to csv file\n",
    "\n",
    "# df.to_csv(r'/Users/flanuer/Downloads/Lambda/Course_material/misc_datasets/non_dup_200k_song_aud_feat.csv')"
   ]
  }
 ],
 "metadata": {
  "kernelspec": {
   "display_name": "spotify2",
   "language": "python",
   "name": "spotify2"
  },
  "language_info": {
   "codemirror_mode": {
    "name": "ipython",
    "version": 3
   },
   "file_extension": ".py",
   "mimetype": "text/x-python",
   "name": "python",
   "nbconvert_exporter": "python",
   "pygments_lexer": "ipython3",
   "version": "3.8.5"
  }
 },
 "nbformat": 4,
 "nbformat_minor": 4
}
