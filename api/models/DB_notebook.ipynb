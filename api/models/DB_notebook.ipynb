{
 "cells": [
  {
   "cell_type": "markdown",
   "metadata": {},
   "source": [
    "# Setting up a mock DB to store Songs, users, and playlists\n",
    "![](https://github.com/spotify-song/DS/blob/master/api/data/DB_tables_illu.png?raw=true)\n",
    "### Tables:\n",
    "    - User:\n",
    "        - id\n",
    "        - display_name\n",
    "    - Tokens:\n",
    "        - id\n",
    "        - access_token\n",
    "        - token_type\n",
    "        - expries_in\n",
    "        - refresh_token\n",
    "        - scope\n",
    "        - expires_at\n",
    "        - user\n",
    "    - Tracks\n",
    "        - id\n",
    "        - danceability\n",
    "        - energy\n",
    "        - loudness\n",
    "        - mode\n",
    "        - speechiness\n",
    "        - accousticness\n",
    "        - instrumentalness\n",
    "        - valence\n",
    "        - liveness\n",
    "        - tempo\n",
    "        - duration_ms\n",
    "        - time_signature\n",
    "    - UserPlaylist\n",
    "        - id\n",
    "        - u_id\n",
    "        - uri\n",
    "        - tracks_id"
   ]
  },
  {
   "cell_type": "markdown",
   "metadata": {},
   "source": [
    "## Setting up db classes for data import"
   ]
  },
  {
   "cell_type": "code",
   "execution_count": 1,
   "metadata": {},
   "outputs": [],
   "source": [
    "from os import getenv\n",
    "from dotenv import load_dotenv\n",
    "\n",
    "import sqlalchemy\n",
    "from sqlalchemy import create_engine, Column, Integer, String, ForeignKey, Float\n",
    "from sqlalchemy.ext.declarative import declarative_base\n",
    "from sqlalchemy.orm import sessionmaker, relationship, backref, exists\n",
    "\n",
    "load_dotenv()\n",
    "\n",
    "# connecting to DB\n",
    "engine = create_engine(getenv('DATABASE_URL'))\n",
    "Session = sessionmaker(\n",
    "                autocommit=False,\n",
    "                autoflush=False,\n",
    "                bind=engine\n",
    "                )\n",
    "\n",
    "Base = declarative_base()"
   ]
  },
  {
   "cell_type": "code",
   "execution_count": 2,
   "metadata": {},
   "outputs": [],
   "source": [
    "class User(Base):\n",
    "    __tablename__ = 'user'\n",
    "    \n",
    "    id = Column(String, primary_key=True, index=True)\n",
    "    display_name = Column(String, unique=True, nullable=False)\n",
    "    \n",
    "    # Backref allows you to update values in a different table\n",
    "    # set the table name then the back arg will be used as the psudo\n",
    "    # column that will fill the foreign key in the corresponding table\n",
    "    # in the case of the value below, the 'token' value will be used to\n",
    "    # fill the 'user_id' column in the 'Tokens' table\n",
    "    # Ex: Tokens(all_token_column_names=all_token_values, user_token=User(object))\n",
    "    token = relationship('Tokens', backref='user_token')\n",
    "    user_playlist = relationship('UserPlaylist', backref='user_id')\n",
    "    \n",
    "    \n",
    "    def __repr__(self):\n",
    "        return \"<User(display_name='%s')>\" % (self.display_name)\n",
    "\n",
    "\n",
    "\n",
    "class Tokens(Base):\n",
    "    __tablename__ = 'tokens'\n",
    "    \n",
    "    id = Column(Integer, primary_key=True, index=True)\n",
    "    access_token = Column(String, unique=True, nullable=False)\n",
    "    token_type = Column(String, unique=False, nullable=False)\n",
    "    expires_in = Column(Integer, unique=False, nullable=False)\n",
    "    refresh_token = Column(String, unique=True, nullable=False)\n",
    "    scope = Column(String, unique=False, nullable=False)\n",
    "    expires_at = Column(Integer, unique=False, nullable=False)\n",
    "    user = Column(String, ForeignKey('user.id'))\n",
    "    \n",
    "    def __repr__(self):\n",
    "        return \"<Tokens(\\\n",
    "        access_token='%s',\\\n",
    "        token_type='%s',\\\n",
    "        expires_in='%s',\\\n",
    "        refresh_token='%s',\\\n",
    "        scope='%s',\\\n",
    "        expires_at='%s',\\\n",
    "        user='%s')>\" % (\n",
    "            self.access_token,\n",
    "            self.token_type,\n",
    "            self.expires_in,\n",
    "            self.refresh_token,\n",
    "            self.scope,\n",
    "            self.expires_at,\n",
    "            self.user\n",
    "            )\n",
    "\n",
    "\n",
    "class Tracks(Base):\n",
    "    __tablename__ = 'tracks'\n",
    "    \n",
    "    id = Column(String, primary_key=True)\n",
    "    danceability = Column(Float)\n",
    "    energy = Column(Float)\n",
    "    key = Column(Integer)\n",
    "    loudness = Column(Float)\n",
    "    mode = Column(Integer)\n",
    "    speechiness = Column(Float)\n",
    "    acousticness = Column(Float)\n",
    "    instrumentalness = Column(Float)\n",
    "    valence = Column(Float)\n",
    "    liveness = Column(Float)\n",
    "    tempo = Column(Float)\n",
    "    duration_ms = Column(Integer)\n",
    "    time_signature = Column(Integer)\n",
    "    \n",
    "    user_ply_lst = relationship('UserPlaylist', backref='track_id', uselist=False)\n",
    "    \n",
    "    def __repr__(self):\n",
    "        return \"<Tracks Data(danceability='%s', energy='%s', key='%s', loudness='%s',\\\n",
    "                mode='%s', speechiness='%s', acousticness='%s', instrumentalness='%s',\\\n",
    "                liveness='%s', valence='%s', tempo='%s', duration_ms='%s',\\\n",
    "                time_signature='%s')\" % (\n",
    "                        self.danceability,\n",
    "                        self.energy,\n",
    "                        self.key,\n",
    "                        self.loudness,\n",
    "                        self.mode,\n",
    "                        self.speechiness,\n",
    "                        self.acousticness,\n",
    "                        self.instrumentalness,\n",
    "                        self.valence,\n",
    "                        self.liveness,\n",
    "                        self.tempo,\n",
    "                        self.duration_ms,\n",
    "                        self.time_signature\n",
    "                        )\n",
    "\n",
    "\n",
    "class UserPlaylist(Base):\n",
    "    '''When running this class, make sure to set the user_id arg to the\n",
    "        user object it corresponds to; same goes for the track_id arg\n",
    "        (note: track_id is diff from tracks_id) to the tracks object\n",
    "        user_id = User()object  to fill the u_id arg ForeignKey\n",
    "        track_id = Tracks()object  to fill the tracks_id arg ForeignKey'''\n",
    "    \n",
    "    __tablename__ = 'user_playlist'\n",
    "    \n",
    "    id = Column(Integer, primary_key=True, index=True)\n",
    "    u_id = Column(String, ForeignKey('user.id'))           # User_ID\n",
    "    tracks_id = Column(String, ForeignKey('tracks.id'))    # Track_ID\n",
    "    uri = Column(String)                                    # Playlist_URI\n",
    "    \n",
    "    def __repr__(self):\n",
    "        return \"<User Playlist(u_id='%s', tracks_id='%s', uri='%s')\" % (\n",
    "                                                    self.u_id,\n",
    "                                                    self.tracks_id,\n",
    "                                                    self.uri\n",
    "                                                    )\n",
    "\n",
    "\n"
   ]
  },
  {
   "cell_type": "markdown",
   "metadata": {},
   "source": [
    "## DB import flow needs to be:\n",
    "    - User > tokens\n",
    "    - Tracks > top_tracks\n",
    "    - users/tracks > user_playlists"
   ]
  },
  {
   "cell_type": "markdown",
   "metadata": {},
   "source": [
    "### Get the pertinent data using the UserData() class"
   ]
  },
  {
   "cell_type": "code",
   "execution_count": 3,
   "metadata": {},
   "outputs": [
    {
     "name": "stdout",
     "output_type": "stream",
     "text": [
      "\n",
      "\n"
     ]
    }
   ],
   "source": [
    "import sys\n",
    "sys.path.insert(0, '../')\n",
    "from spotify_users import UserData\n",
    "user = UserData()\n",
    "user_dict = user.user_top_50(user_id='Agustinvargas')"
   ]
  },
  {
   "cell_type": "code",
   "execution_count": 4,
   "metadata": {},
   "outputs": [
    {
     "name": "stdout",
     "output_type": "stream",
     "text": [
      "0.83 0.159 1 -14.461 1 0.0383 0.946 2.02e-05 0.189 0.362 104.95 207400 4\n"
     ]
    }
   ],
   "source": [
    "# Token details\n",
    "# user_dict['Tokens Info']['access_token']\n",
    "# user_dict['Tokens Info']['token_type']\n",
    "# user_dict['Tokens Info']['expires_in']\n",
    "# user_dict['Tokens Info']['scope']\n",
    "# user_dict['Tokens Info']['expires_at']\n",
    "# user_dict['Tokens Info']['refresh_token']\n",
    "\n",
    "# Data for a given user: Token, ID, Display Name, Top 50 tracks, Track Audio Features\n",
    "# print(user_dict['User ID'],\n",
    "#       user_dict['Display Name'],\n",
    "#       user_dict['Top Track IDs'],\n",
    "#       user_dict['Track Audio Features'])\n",
    "\n",
    "\n",
    "# Track audio features (the dict contains audio feats for all 50 tracks)\n",
    "print(\n",
    "    user_dict['Track Audio Features'][0]['danceability'],\n",
    "    user_dict['Track Audio Features'][0]['energy'],\n",
    "    user_dict['Track Audio Features'][0]['key'],\n",
    "    user_dict['Track Audio Features'][0]['loudness'],\n",
    "    user_dict['Track Audio Features'][0]['mode'],\n",
    "    user_dict['Track Audio Features'][0]['speechiness'],\n",
    "    user_dict['Track Audio Features'][0]['acousticness'],\n",
    "    user_dict['Track Audio Features'][0]['instrumentalness'],\n",
    "    user_dict['Track Audio Features'][0]['valence'],\n",
    "    user_dict['Track Audio Features'][0]['liveness'],\n",
    "    user_dict['Track Audio Features'][0]['tempo'],\n",
    "    user_dict['Track Audio Features'][0]['duration_ms'],\n",
    "    user_dict['Track Audio Features'][0]['time_signature']\n",
    "    )"
   ]
  },
  {
   "cell_type": "markdown",
   "metadata": {},
   "source": [
    "### First we create a user"
   ]
  },
  {
   "cell_type": "code",
   "execution_count": 5,
   "metadata": {},
   "outputs": [],
   "source": [
    "user1 = User(id=user_dict['User ID'], display_name=user_dict['Display Name'])"
   ]
  },
  {
   "cell_type": "code",
   "execution_count": 6,
   "metadata": {},
   "outputs": [
    {
     "data": {
      "text/plain": [
       "('37t3cvb5u3o97hin4bsj40abw', 'Agustinvargas')"
      ]
     },
     "execution_count": 6,
     "metadata": {},
     "output_type": "execute_result"
    }
   ],
   "source": [
    "# here the user needs to be added to the database so that we can update a `user_id` for the token ForeignKey\n",
    "user1.id, user1.display_name"
   ]
  },
  {
   "cell_type": "code",
   "execution_count": 23,
   "metadata": {},
   "outputs": [],
   "source": [
    "# session = Session()\n",
    "session.add(user1)\n",
    "session.commit()"
   ]
  },
  {
   "cell_type": "markdown",
   "metadata": {},
   "source": [
    "### Instantiate token add the user1 data"
   ]
  },
  {
   "cell_type": "code",
   "execution_count": 7,
   "metadata": {},
   "outputs": [],
   "source": [
    "token1 = Tokens(\n",
    "        access_token=user_dict['Tokens Info']['access_token'],\n",
    "        token_type=user_dict['Tokens Info']['token_type'],\n",
    "        expires_in=user_dict['Tokens Info']['expires_in'],\n",
    "        refresh_token=user_dict['Tokens Info']['refresh_token'],\n",
    "        scope=user_dict['Tokens Info']['scope'],\n",
    "        expires_at=user_dict['Tokens Info']['expires_at'],\n",
    "        # user_token is the foreign key populated using the user primary key\n",
    "        user=user1.id\n",
    "        )"
   ]
  },
  {
   "cell_type": "markdown",
   "metadata": {},
   "source": [
    "### Instantiate a track"
   ]
  },
  {
   "cell_type": "code",
   "execution_count": 7,
   "metadata": {},
   "outputs": [],
   "source": [
    "# importing a track into the database for a given user and play list\n",
    "trk = Tracks(\n",
    "            id=user_dict['Top Track IDs'][0],\n",
    "            danceability=user_dict['Track Audio Features'][0]['danceability'],\n",
    "            energy=user_dict['Track Audio Features'][0]['energy'],\n",
    "            key=user_dict['Track Audio Features'][0]['key'],\n",
    "            loudness=user_dict['Track Audio Features'][0]['loudness'],\n",
    "            mode=user_dict['Track Audio Features'][0]['mode'],\n",
    "            speechiness=user_dict['Track Audio Features'][0]['speechiness'],\n",
    "            acousticness=user_dict['Track Audio Features'][0]['acousticness'],\n",
    "            instrumentalness=user_dict['Track Audio Features'][0]['instrumentalness'],\n",
    "            valence=user_dict['Track Audio Features'][0]['valence'],\n",
    "            liveness=user_dict['Track Audio Features'][0]['liveness'],\n",
    "            tempo=user_dict['Track Audio Features'][0]['tempo'],\n",
    "            duration_ms=user_dict['Track Audio Features'][0]['duration_ms'],\n",
    "            time_signature=user_dict['Track Audio Features'][0]['time_signature']\n",
    "            )"
   ]
  },
  {
   "cell_type": "code",
   "execution_count": 10,
   "metadata": {},
   "outputs": [],
   "source": [
    "\n",
    "for k, v in enumerate(user_dict['Track Audio Features']):\n",
    "    globals()['trk' + str(k)] = Tracks(\n",
    "            id=user_dict['Top Track IDs'][k],\n",
    "            danceability=v['danceability'],\n",
    "            energy=v['energy'],\n",
    "            key=v['key'],\n",
    "            loudness=v['loudness'],\n",
    "            mode=v['mode'],\n",
    "            speechiness=v['speechiness'],\n",
    "            acousticness=v['acousticness'],\n",
    "            instrumentalness=v['instrumentalness'],\n",
    "            valence=v['valence'],\n",
    "            liveness=v['liveness'],\n",
    "            tempo=v['tempo'],\n",
    "            duration_ms=v['duration_ms'],\n",
    "            time_signature=v['time_signature']\n",
    "            )\n",
    "    globals()['play_lst' + str(k)] = UserPlaylist(\n",
    "            u_id=user1,\n",
    "            user_ply_lst=globals()['trk' + str(k)]\n",
    "            )"
   ]
  },
  {
   "cell_type": "code",
   "execution_count": 10,
   "metadata": {},
   "outputs": [],
   "source": [
    "# If user and track not in DB use:\n",
    "\n",
    "playlist_test = UserPlaylist(\n",
    "            u_id=user1.id,\n",
    "            tracks_id=trk.id\n",
    "        )"
   ]
  },
  {
   "cell_type": "code",
   "execution_count": 11,
   "metadata": {},
   "outputs": [
    {
     "data": {
      "text/plain": [
       "<User Playlist(u_id='37t3cvb5u3o97hin4bsj40abw', tracks_id='0akyEssGRVHstqCSWXusJL', uri='None')"
      ]
     },
     "execution_count": 11,
     "metadata": {},
     "output_type": "execute_result"
    }
   ],
   "source": [
    "# if user and track in DB use:\n",
    "\n",
    "playlist_test = UserPlaylist(\n",
    "            user_id=\"user in db\",\n",
    "            track_id=\"track ID in db\"\n",
    ")"
   ]
  },
  {
   "cell_type": "code",
   "execution_count": 24,
   "metadata": {},
   "outputs": [
    {
     "name": "stdout",
     "output_type": "stream",
     "text": [
      "<User(display_name='Agustinvargas')>\n"
     ]
    }
   ],
   "source": [
    "# Query to check if user exists in DB, if not returns None\n",
    "\n",
    "q = session.query(User).filter(User.id == '37t3cvb5u3o97hin4bsj40abw').first()\n",
    "print(q)"
   ]
  },
  {
   "cell_type": "code",
   "execution_count": 26,
   "metadata": {},
   "outputs": [
    {
     "name": "stdout",
     "output_type": "stream",
     "text": [
      "False\n"
     ]
    }
   ],
   "source": [
    "print(q is None)"
   ]
  },
  {
   "cell_type": "code",
   "execution_count": 1,
   "metadata": {},
   "outputs": [],
   "source": [
    "import sys\n",
    "sys.path.insert(0, '../')\n",
    "from spotify_users import UserData"
   ]
  },
  {
   "cell_type": "code",
   "execution_count": 2,
   "metadata": {},
   "outputs": [],
   "source": [
    "users_data = UserData()"
   ]
  },
  {
   "cell_type": "code",
   "execution_count": 3,
   "metadata": {},
   "outputs": [
    {
     "name": "stdout",
     "output_type": "stream",
     "text": [
      "User Agustinvargas already exists in DataBase;                    checking for token\n",
      "Agustinvargas has a token, updating it\n"
     ]
    }
   ],
   "source": [
    "user1 = users_data.check_for_user()"
   ]
  },
  {
   "cell_type": "code",
   "execution_count": 5,
   "metadata": {},
   "outputs": [],
   "source": [
    "user_id_2 = '37t3cvb5u3o97hin4bsj40abw'\n",
    "\n",
    "user2_top_50_aud_feat = users_data.get_playlists_trx(\n",
    "                                    spot_session=user1['spot_session'],\n",
    "                                    user2=user_id_2\n",
    "                                    )"
   ]
  },
  {
   "cell_type": "code",
   "execution_count": 7,
   "metadata": {},
   "outputs": [],
   "source": [
    "from spotify_users import CreatePlaylist\n",
    "\n",
    "playlist_gen = CreatePlaylist()\n",
    "playlist = playlist_gen.create_playlist(\n",
    "                        user1_top_aud_feat=user1['top_50_aud_feat'],\n",
    "                        user2_top_aud_feat=user2_top_50_aud_feat,\n",
    "                        spot_session=user1['spot_session'],\n",
    "                        user_info=user1['user_info'],\n",
    "                        user2=user_id_2\n",
    "                        )"
   ]
  },
  {
   "cell_type": "code",
   "execution_count": 8,
   "metadata": {},
   "outputs": [
    {
     "data": {
      "text/plain": [
       "'spotify:playlist:3H9kLAxsmyr51cyIqLMON6'"
      ]
     },
     "execution_count": 8,
     "metadata": {},
     "output_type": "execute_result"
    }
   ],
   "source": [
    "playlist['URI']"
   ]
  },
  {
   "cell_type": "code",
   "execution_count": null,
   "metadata": {},
   "outputs": [],
   "source": []
  }
 ],
 "metadata": {
  "kernelspec": {
   "display_name": "spotify",
   "language": "python",
   "name": "spotify"
  },
  "language_info": {
   "codemirror_mode": {
    "name": "ipython",
    "version": 3
   },
   "file_extension": ".py",
   "mimetype": "text/x-python",
   "name": "python",
   "nbconvert_exporter": "python",
   "pygments_lexer": "ipython3",
   "version": "3.7.4"
  }
 },
 "nbformat": 4,
 "nbformat_minor": 4
}
