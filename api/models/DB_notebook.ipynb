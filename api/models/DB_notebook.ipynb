{
 "cells": [
  {
   "cell_type": "markdown",
   "metadata": {},
   "source": [
    "# Setting up a mock DB to store Songs, users, and playlists\n",
    "![](https://github.com/spotify-song/DS/blob/master/api/data/DB_tables_illu.png?raw=true)\n",
    "### Tables:\n",
    "    - User:\n",
    "        - id\n",
    "        - display_name\n",
    "    - Tokens:\n",
    "        - id\n",
    "        - access_token\n",
    "        - token_type\n",
    "        - expries_in\n",
    "        - refresh_token\n",
    "        - scope\n",
    "        - expires_at\n",
    "        - user\n",
    "    - Tracks\n",
    "        - id\n",
    "        - danceability\n",
    "        - energy\n",
    "        - loudness\n",
    "        - mode\n",
    "        - speechiness\n",
    "        - accousticness\n",
    "        - instrumentalness\n",
    "        - valence\n",
    "        - liveness\n",
    "        - tempo\n",
    "        - duration_ms\n",
    "        - time_signature\n",
    "    - UserPlaylist\n",
    "        - id\n",
    "        - u_id\n",
    "        - uri\n",
    "        - tracks_id"
   ]
  },
  {
   "cell_type": "markdown",
   "metadata": {},
   "source": [
    "## DB import flow needs to be:\n",
    "    - User > tokens\n",
    "    - Tracks > top_tracks\n",
    "    - users/tracks > user_playlists"
   ]
  },
  {
   "cell_type": "markdown",
   "metadata": {},
   "source": [
    "### Get the pertinent data using the UserData() class"
   ]
  },
  {
   "cell_type": "code",
   "execution_count": 1,
   "metadata": {},
   "outputs": [],
   "source": [
    "import sys\n",
    "sys.path.insert(0, '../')\n",
    "from spotify_users import UserData"
   ]
  },
  {
   "cell_type": "code",
   "execution_count": 2,
   "metadata": {},
   "outputs": [],
   "source": [
    "users_data = UserData()"
   ]
  },
  {
   "cell_type": "code",
   "execution_count": 3,
   "metadata": {},
   "outputs": [
    {
     "name": "stdout",
     "output_type": "stream",
     "text": [
      "User Agustinvargas already exists in DataBase;                    checking for token\n",
      "Agustinvargas has a token, updating it\n"
     ]
    }
   ],
   "source": [
    "user1 = users_data.check_for_user()"
   ]
  },
  {
   "cell_type": "code",
   "execution_count": 5,
   "metadata": {},
   "outputs": [],
   "source": [
    "user_id_2 = '37t3cvb5u3o97hin4bsj40abw'\n",
    "\n",
    "user2_top_50_aud_feat = users_data.get_playlists_trx(\n",
    "                                    spot_session=user1['spot_session'],\n",
    "                                    user2=user_id_2\n",
    "                                    )"
   ]
  },
  {
   "cell_type": "code",
   "execution_count": 7,
   "metadata": {},
   "outputs": [],
   "source": [
    "from spotify_users import CreatePlaylist\n",
    "\n",
    "playlist_gen = CreatePlaylist()\n",
    "playlist = playlist_gen.create_playlist(\n",
    "                        user1_top_aud_feat=user1['top_50_aud_feat'],\n",
    "                        user2_top_aud_feat=user2_top_50_aud_feat,\n",
    "                        spot_session=user1['spot_session'],\n",
    "                        user_info=user1['user_info'],\n",
    "                        user2=user_id_2\n",
    "                        )"
   ]
  },
  {
   "cell_type": "code",
   "execution_count": 8,
   "metadata": {},
   "outputs": [
    {
     "data": {
      "text/plain": [
       "'spotify:playlist:3H9kLAxsmyr51cyIqLMON6'"
      ]
     },
     "execution_count": 8,
     "metadata": {},
     "output_type": "execute_result"
    }
   ],
   "source": [
    "playlist['URI']"
   ]
  },
  {
   "cell_type": "code",
   "execution_count": null,
   "metadata": {},
   "outputs": [],
   "source": []
  }
 ],
 "metadata": {
  "kernelspec": {
   "display_name": "spotify2",
   "language": "python",
   "name": "spotify2"
  },
  "language_info": {
   "codemirror_mode": {
    "name": "ipython",
    "version": 3
   },
   "file_extension": ".py",
   "mimetype": "text/x-python",
   "name": "python",
   "nbconvert_exporter": "python",
   "pygments_lexer": "ipython3",
   "version": "3.8.5"
  }
 },
 "nbformat": 4,
 "nbformat_minor": 4
}
