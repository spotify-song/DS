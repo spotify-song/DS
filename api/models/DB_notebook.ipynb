{
 "cells": [
  {
   "cell_type": "markdown",
   "metadata": {},
   "source": [
    "# Setting up a mock DB to store Songs, users, and playlists\n",
    "![](https://github.com/spotify-song/DS/blob/master/references/DB_tables_illu.png?raw=true)\n",
    "### Tables:\n",
    "    - User:\n",
    "        - id\n",
    "        - display_name\n",
    "    - Tokens:\n",
    "        - id\n",
    "        - access_token\n",
    "        - token_type\n",
    "        - expries_in\n",
    "        - refresh_token\n",
    "        - scope\n",
    "        - expires_at\n",
    "        - user\n",
    "    - Tracks\n",
    "        - id\n",
    "        - danceability\n",
    "        - energy\n",
    "        - loudness\n",
    "        - mode\n",
    "        - speechiness\n",
    "        - accousticness\n",
    "        - instrumentalness\n",
    "        - valence\n",
    "        - liveness\n",
    "        - tempo\n",
    "        - duration_ms\n",
    "        - time_signature\n",
    "    - UserPlaylist\n",
    "        - id\n",
    "        - u_id\n",
    "        - uri\n",
    "        - tracks_id"
   ]
  },
  {
   "cell_type": "markdown",
   "metadata": {},
   "source": [
    "## DB import flow needs to be:\n",
    "    - User > tokens\n",
    "    - Tracks > top_tracks\n",
    "    - users/tracks > user_playlists"
   ]
  },
  {
   "cell_type": "markdown",
   "metadata": {},
   "source": [
    "### Get the pertinent data using the UserData() class"
   ]
  },
  {
   "cell_type": "code",
   "execution_count": 31,
   "metadata": {},
   "outputs": [],
   "source": [
    "import sys\n",
    "sys.path.insert(0, '../')\n",
    "from spotify_users import UserData"
   ]
  },
  {
   "cell_type": "markdown",
   "metadata": {},
   "source": [
    "## Plan:\n",
    "    - check to see how we can use the access token and the refresh token to perform analysis.\n"
   ]
  },
  {
   "cell_type": "code",
   "execution_count": 1,
   "metadata": {},
   "outputs": [],
   "source": [
    "from os import getenv\n",
    "from dotenv import load_dotenv\n",
    "import spotipy\n",
    "from spotipy.oauth2 import SpotifyClientCredentials, SpotifyOAuth\n",
    "\n",
    "load_dotenv()\n",
    "\n",
    "client_secret = getenv('SPOTIFY_CLIENT_SECRET')\n",
    "client_id = getenv('SPOTIFY_CLIENT_ID')\n",
    "scope = getenv('SCOPE')\n",
    "uri = getenv('uri')\n",
    "\n",
    "spot_oauth = spotipy.oauth2.SpotifyOAuth(\n",
    "                                    client_id=client_id,\n",
    "                                    client_secret=client_secret,\n",
    "                                    scope=scope,\n",
    "                                    redirect_uri=uri,\n",
    "                                    )\n",
    "spot_session = spotipy.Spotify(oauth_manager=spot_oauth)"
   ]
  },
  {
   "cell_type": "code",
   "execution_count": 10,
   "metadata": {},
   "outputs": [],
   "source": [
    "token_info = spot_oauth.refresh_access_token()"
   ]
  },
  {
   "cell_type": "code",
   "execution_count": null,
   "metadata": {},
   "outputs": [],
   "source": []
  },
  {
   "cell_type": "code",
   "execution_count": null,
   "metadata": {},
   "outputs": [],
   "source": []
  },
  {
   "cell_type": "code",
   "execution_count": 9,
   "metadata": {},
   "outputs": [],
   "source": [
    "token_info = spot_oauth.is_token_expired()"
   ]
  },
  {
   "cell_type": "code",
   "execution_count": null,
   "metadata": {},
   "outputs": [],
   "source": []
  },
  {
   "cell_type": "code",
   "execution_count": null,
   "metadata": {},
   "outputs": [],
   "source": []
  },
  {
   "cell_type": "code",
   "execution_count": null,
   "metadata": {},
   "outputs": [],
   "source": []
  }
 ],
 "metadata": {
  "kernelspec": {
   "display_name": "spotify2",
   "language": "python",
   "name": "spotify2"
  },
  "language_info": {
   "codemirror_mode": {
    "name": "ipython",
    "version": 3
   },
   "file_extension": ".py",
   "mimetype": "text/x-python",
   "name": "python",
   "nbconvert_exporter": "python",
   "pygments_lexer": "ipython3",
   "version": "3.8.5"
  }
 },
 "nbformat": 4,
 "nbformat_minor": 4
}
