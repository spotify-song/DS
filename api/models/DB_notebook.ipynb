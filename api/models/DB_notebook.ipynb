{
 "cells": [
  {
   "cell_type": "markdown",
   "metadata": {},
   "source": [
    "# DB Tables:\n",
    " - User\n",
    " - Tokens\n",
    " - Tracks\n",
    " - playlists\n",
    " \n",
    "![](https://github.com/spotify-song/DS/blob/master/references/DB_tables_illu.png?raw=true)\n"
   ]
  },
  {
   "cell_type": "code",
   "execution_count": 31,
   "metadata": {},
   "outputs": [],
   "source": [
    "import sys\n",
    "sys.path.insert(0, '../')\n",
    "from spotify_users import UserData"
   ]
  },
  {
   "cell_type": "markdown",
   "metadata": {},
   "source": [
    "## Plan:\n",
    " - BE sends JSON (token, and user info) to DS API\n",
    " - DS API requests user music data from SpotifyAPI\n",
    " - DS API stores strack info in DB\n",
    " - DS API generates visualizations given user info\n"
   ]
  },
  {
   "cell_type": "code",
   "execution_count": 11,
   "metadata": {},
   "outputs": [
    {
     "name": "stderr",
     "output_type": "stream",
     "text": [
      "<ipython-input-11-4aee2c216b00>:1: DeprecationWarning: You're using 'as_dict = True'.get_access_token will return the token string directly in future versions. Please adjust your code accordingly, or use get_cached_token instead.\n",
      "  token_info = spot_oauth.get_access_token()\n"
     ]
    }
   ],
   "source": [
    "token_info = spot_oauth.get_access_token()"
   ]
  },
  {
   "cell_type": "code",
   "execution_count": 12,
   "metadata": {},
   "outputs": [],
   "source": [
    "access_token = token_info['access_token']"
   ]
  },
  {
   "cell_type": "code",
   "execution_count": 13,
   "metadata": {},
   "outputs": [
    {
     "data": {
      "text/plain": [
       "1603243140"
      ]
     },
     "execution_count": 13,
     "metadata": {},
     "output_type": "execute_result"
    }
   ],
   "source": [
    "# Drops expires_at key value pair\n",
    "token_info.pop('expires_at')"
   ]
  },
  {
   "cell_type": "code",
   "execution_count": 20,
   "metadata": {},
   "outputs": [],
   "source": [
    "top_trx = sp.current_user_top_tracks()"
   ]
  },
  {
   "cell_type": "code",
   "execution_count": 1,
   "metadata": {},
   "outputs": [],
   "source": [
    "import sys\n",
    "sys.path.insert(0, '../')\n",
    "import models.my_db\n",
    "from models.my_db import *\n",
    "\n",
    "from os import getenv\n",
    "from sqlalchemy import create_engine, update\n",
    "from sqlalchemy.ext.declarative import declarative_base\n",
    "from dotenv import load_dotenv\n",
    "from sqlalchemy.orm import sessionmaker\n",
    "\n",
    "load_dotenv()\n",
    "\n",
    "\n",
    "engine = create_engine(getenv('DATABASE_URL'))\n",
    "Session = sessionmaker(\n",
    "                        autocommit=False,\n",
    "                        autoflush=False,\n",
    "                        bind=engine\n",
    "                        )\n",
    "base = declarative_base()"
   ]
  },
  {
   "cell_type": "code",
   "execution_count": 2,
   "metadata": {},
   "outputs": [],
   "source": [
    "session = Session()"
   ]
  },
  {
   "cell_type": "code",
   "execution_count": 3,
   "metadata": {},
   "outputs": [],
   "source": [
    "user_id = 1"
   ]
  },
  {
   "cell_type": "code",
   "execution_count": 4,
   "metadata": {},
   "outputs": [],
   "source": [
    "user = User() \n",
    "user_id_query = session.query(User).filter(User.id==user_id).first()"
   ]
  },
  {
   "cell_type": "code",
   "execution_count": 21,
   "metadata": {},
   "outputs": [
    {
     "data": {
      "text/plain": [
       "'avargas-274'"
      ]
     },
     "execution_count": 21,
     "metadata": {},
     "output_type": "execute_result"
    }
   ],
   "source": [
    "user_id_query.display_name"
   ]
  },
  {
   "cell_type": "code",
   "execution_count": 6,
   "metadata": {},
   "outputs": [],
   "source": [
    "token = Tokens()"
   ]
  },
  {
   "cell_type": "code",
   "execution_count": 7,
   "metadata": {},
   "outputs": [],
   "source": [
    "user_1_token_q = session.query(Tokens).filter(Tokens.user==user_id_query.id).first()"
   ]
  },
  {
   "cell_type": "code",
   "execution_count": 63,
   "metadata": {},
   "outputs": [],
   "source": [
    "user_1_token_q.access_token = token_ref['access_token']\n",
    "session.commit()"
   ]
  },
  {
   "cell_type": "code",
   "execution_count": 11,
   "metadata": {},
   "outputs": [],
   "source": [
    "spot_session = spotipy.Spotify(auth=user_1_token_q.access_token)"
   ]
  },
  {
   "cell_type": "code",
   "execution_count": 13,
   "metadata": {},
   "outputs": [],
   "source": [
    "from os import getenv\n",
    "from dotenv import load_dotenv\n",
    "import spotipy\n",
    "from spotipy.oauth2 import SpotifyClientCredentials, SpotifyOAuth\n",
    "\n",
    "load_dotenv()\n",
    "\n",
    "client_secret = getenv('SPOTIFY_CLIENT_SECRET')\n",
    "client_id = getenv('SPOTIFY_CLIENT_ID')\n",
    "cache_path = \"..\"\n",
    "scope = getenv('SCOPE')\n",
    "uri = getenv('uri')\n",
    "user = 'cody'\n",
    "\n",
    "\n",
    "spot_oauth = spotipy.oauth2.SpotifyOAuth(\n",
    "                                    username=user,\n",
    "                                    client_id=client_id,\n",
    "                                    client_secret=client_secret,\n",
    "                                    scope=scope,\n",
    "                                    redirect_uri=uri,\n",
    "                                    )"
   ]
  },
  {
   "cell_type": "code",
   "execution_count": 52,
   "metadata": {},
   "outputs": [],
   "source": [
    "token_info = {'access_token': user_1_token_q.access_token, 'token_type': user_1_token_q.token_type,\n",
    "             'expires_in': user_1_token_q.expires_in, 'refresh_token': user_1_token_q.refresh_token,\n",
    "             'expires_at': 1603317204, 'scope': user_1_token_q.scope}"
   ]
  },
  {
   "cell_type": "code",
   "execution_count": 54,
   "metadata": {},
   "outputs": [],
   "source": [
    "expired_token = spot_oauth.is_token_expired(token_info)"
   ]
  },
  {
   "cell_type": "code",
   "execution_count": 57,
   "metadata": {},
   "outputs": [],
   "source": [
    "spot_session = spotipy.Spotify(auth=tokn['access_token'])"
   ]
  },
  {
   "cell_type": "code",
   "execution_count": 64,
   "metadata": {},
   "outputs": [],
   "source": [
    "token_ref = spot_oauth.refresh_access_token(token_info['refresh_token'])\n"
   ]
  }
 ],
 "metadata": {
  "kernelspec": {
   "display_name": "spotify2",
   "language": "python",
   "name": "spotify2"
  },
  "language_info": {
   "codemirror_mode": {
    "name": "ipython",
    "version": 3
   },
   "file_extension": ".py",
   "mimetype": "text/x-python",
   "name": "python",
   "nbconvert_exporter": "python",
   "pygments_lexer": "ipython3",
   "version": "3.8.5"
  }
 },
 "nbformat": 4,
 "nbformat_minor": 4
}
