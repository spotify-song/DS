{
 "cells": [
  {
   "cell_type": "markdown",
   "metadata": {},
   "source": [
    "# DB Tables:\n",
    " - User\n",
    " - Tokens\n",
    " - Tracks\n",
    " - playlists\n",
    " \n",
    "![](https://github.com/spotify-song/DS/blob/master/references/DB_tables_illu.png?raw=true)\n"
   ]
  },
  {
   "cell_type": "code",
   "execution_count": 1,
   "metadata": {},
   "outputs": [],
   "source": [
    "import sys\n",
    "sys.path.insert(0, '../')\n",
    "from spotify_users import UserData\n",
    "from db import *"
   ]
  },
  {
   "cell_type": "code",
   "execution_count": 2,
   "metadata": {},
   "outputs": [],
   "source": [
    "from os import getenv\n",
    "from sqlalchemy import create_engine, update\n",
    "from sqlalchemy.ext.declarative import declarative_base\n",
    "from dotenv import load_dotenv\n",
    "from sqlalchemy.orm import sessionmaker\n",
    "import spotipy\n",
    "\n",
    "load_dotenv()\n",
    "\n",
    "\n",
    "engine = create_engine(getenv('DATABASE_URL'))\n",
    "Session = sessionmaker(\n",
    "                        autocommit=False,\n",
    "                        autoflush=False,\n",
    "                        bind=engine\n",
    "                        )\n",
    "base = declarative_base()\n",
    "\n",
    "session = Session()"
   ]
  },
  {
   "cell_type": "code",
   "execution_count": 3,
   "metadata": {},
   "outputs": [],
   "source": [
    "uri = getenv('uri') # must match in the Spotify app dashboard\n",
    "SPOTIFY_CLIENT_ID = getenv('SPOTIFY_CLIENT_ID')\n",
    "SPOTIFY_CLIENT_SECRET = getenv('SPOTIFY_CLIENT_SECRET')\n",
    "# cache_path = ('../.user_cache')\n",
    "scope = 'playlist-modify-public user-library-read user-top-read'\n",
    "\n",
    "spot_cc = spotipy.oauth2.SpotifyOAuth(\n",
    "                                    username='',\n",
    "                                    client_id=SPOTIFY_CLIENT_ID,\n",
    "                                    client_secret=SPOTIFY_CLIENT_SECRET,\n",
    "#                                     cache_path=cache_path,\n",
    "                                    scope=scope,\n",
    "                                    redirect_uri=uri\n",
    "                                    )\n",
    "spot = spotipy.Spotify(auth_manager=spot_cc)"
   ]
  },
  {
   "cell_type": "code",
   "execution_count": 4,
   "metadata": {},
   "outputs": [
    {
     "data": {
      "text/plain": [
       "{'display_name': 'Agustinvargas',\n",
       " 'external_urls': {'spotify': 'https://open.spotify.com/user/37t3cvb5u3o97hin4bsj40abw'},\n",
       " 'followers': {'href': None, 'total': 1},\n",
       " 'href': 'https://api.spotify.com/v1/users/37t3cvb5u3o97hin4bsj40abw',\n",
       " 'id': '37t3cvb5u3o97hin4bsj40abw',\n",
       " 'images': [{'height': None,\n",
       "   'url': 'https://i.scdn.co/image/ab6775700000ee85246625e42b2e0e895ea9449e',\n",
       "   'width': None}],\n",
       " 'type': 'user',\n",
       " 'uri': 'spotify:user:37t3cvb5u3o97hin4bsj40abw'}"
      ]
     },
     "execution_count": 4,
     "metadata": {},
     "output_type": "execute_result"
    }
   ],
   "source": [
    "le_usero = spot.current_user()\n",
    "le_usero"
   ]
  },
  {
   "cell_type": "code",
   "execution_count": 21,
   "metadata": {},
   "outputs": [
    {
     "data": {
      "text/plain": [
       "'37t3cvb5u3o97hin4bsj40abw'"
      ]
     },
     "execution_count": 21,
     "metadata": {},
     "output_type": "execute_result"
    }
   ],
   "source": [
    "le_usero['id']"
   ]
  },
  {
   "cell_type": "code",
   "execution_count": 6,
   "metadata": {},
   "outputs": [],
   "source": [
    "top_trackies = spot.current_user_top_tracks(limit=50, time_range='long_term')"
   ]
  },
  {
   "cell_type": "code",
   "execution_count": 7,
   "metadata": {},
   "outputs": [],
   "source": [
    "top_tracks = spot.current_user_top_tracks(limit=50, time_range='long_term')\n",
    "top_tracks_id = [top_tracks['items'][x]['id'] for x in range(len(top_tracks['items']))]\n",
    "top_50_aud_feat = spot.audio_features(tracks=top_tracks_id)"
   ]
  },
  {
   "cell_type": "code",
   "execution_count": 8,
   "metadata": {},
   "outputs": [
    {
     "name": "stdout",
     "output_type": "stream",
     "text": [
      "0akyEssGRVHstqCSWXusJL\n",
      "6plO0gM4tUvRC9TKFGIuaN\n",
      "02gaYAEdeR6poHcBH1KUQF\n",
      "0NeJjNlprGfZpeX2LQuN6c\n",
      "7kWFRZdedr2gtfE8JDumVZ\n",
      "5iSpfk6cDOSYePagAoG639\n",
      "57mLRN6tfXwTRvp9oPWpop\n",
      "54KsfVVnN4YWI2mMrnyUcC\n",
      "1s3WD4gbNoEXHiuSTmAKaK\n",
      "1jecO8NeYLsVWVptITz4c1\n",
      "6KseaEAFSS63N2NPZtDnRL\n",
      "4zFPUEMucYleIIUnYVoeZf\n",
      "52N0IV8hLVkRmnpFclmCzK\n",
      "1IF5UcqRO42D12vYwceOY6\n",
      "71Mj2THXRicZhTFGzln3al\n",
      "2UxrK7r4cyQOSh7wvdQTe1\n",
      "17OkYffr0SdAcpcbwMkDDG\n",
      "0JfsIu62NVXNQl2s7ATN37\n",
      "0107Auhv91hE49iLoxtayt\n",
      "4cJOLN346rtOty3UPACsao\n",
      "51wUFdgpNsV8cVzu7i6N0l\n",
      "6Zy0ITa16EjCAbbGuPzdRi\n",
      "7v3YlquaNhK2GYKzxovSEp\n",
      "4RrOSjdnV8rkpIuOIfkKYS\n",
      "1sJev5Y7VI2Ke8AwUpnh0l\n",
      "3PUbNbybe6dTMWdUt9vQ02\n",
      "2TzkIzgzIHhewMxyh1u4hh\n",
      "325e3Lkx4AodxGNsqHiaG4\n",
      "6fcS6fncRVP8rldHjriZHS\n",
      "1yTJg3lyUPmwbnve82twH5\n",
      "3QIQtCPni57ZcSPzz7JDxt\n",
      "5ONAA8z6SvFBniu8zXz1Ax\n",
      "7ukRl9q1yVYO2j5SXwvjaB\n",
      "4utNmwmHfwvzPBT3kMtwEN\n",
      "0xSqHQ5wv80hNkpU50vPc7\n",
      "3PVgZvHQdNJHR0ZLN1u8vn\n",
      "1VA0QtG2DXGF4k6fYz70PE\n",
      "2nU1HJ8GcMPkatnvI6KjP4\n",
      "4RNYL9drYkmWYpDyfknta9\n",
      "58iNllszkXpDOcYRgcfLfH\n",
      "4Mkpse99DB8TNijNjPpCbn\n",
      "4m6rvm52fAgZk7ffqgevcV\n",
      "3iRppHTSuWMVJVMdMD9knF\n",
      "7KX65PC1UZuImsUInThbav\n",
      "0K8e1rZtElzIykiPXEsYR6\n",
      "0Ifpy4Xfab0hEexidy1Enh\n",
      "4ehkZtzPTbjsRULRfQSWYu\n",
      "5xtBRnNNSUihY0J6zi4Ytc\n",
      "3bWMCH2M7JWUga1WRagDzs\n",
      "3HNKZy1An5Jlnb02lcV2yd\n"
     ]
    }
   ],
   "source": [
    "for k, v in enumerate(top_50_aud_feat):\n",
    "    print(v['id'])"
   ]
  },
  {
   "cell_type": "code",
   "execution_count": 9,
   "metadata": {},
   "outputs": [
    {
     "data": {
      "text/plain": [
       "['2Pk3OLPiVXIZHieWs5ZGHp',\n",
       " '5xT24CFEoMM2udviqtc3Pb',\n",
       " '3CzEMPwUNr3Ci2U1C8nvM6',\n",
       " '3BwjT1CuslwpMqNnPK4mYe',\n",
       " '2sSerqYIlV8MbGdACTnFTG',\n",
       " '2J33VEAP3HnxACz0ntmKau']"
      ]
     },
     "execution_count": 9,
     "metadata": {},
     "output_type": "execute_result"
    }
   ],
   "source": [
    "# get's user playlists\n",
    "playlists = spot.user_playlists('37t3cvb5u3o97hin4bsj40abw')\n",
    "playlist_ids = []\n",
    "for playlist_item in playlists['items']:\n",
    "    playlist_ids.append(playlist_item['id'])\n",
    "\n",
    "playlist_ids"
   ]
  },
  {
   "cell_type": "code",
   "execution_count": 10,
   "metadata": {},
   "outputs": [],
   "source": [
    "# get's playlist tracks\n",
    "all_tracks_ids = []\n",
    "for playlist_id in playlist_ids:\n",
    "    playlist_trx = spot.playlist_tracks(playlist_id, offset=1, fields='items.track.id')\n",
    "    for trx in playlist_trx['items']:\n",
    "        all_tracks_ids.append(trx['track']['id'])"
   ]
  },
  {
   "cell_type": "code",
   "execution_count": 11,
   "metadata": {},
   "outputs": [
    {
     "data": {
      "text/plain": [
       "159"
      ]
     },
     "execution_count": 11,
     "metadata": {},
     "output_type": "execute_result"
    }
   ],
   "source": [
    "len(all_tracks_ids)"
   ]
  },
  {
   "cell_type": "markdown",
   "metadata": {},
   "source": [
    "### Code for `UserData.get_audio_features()` method"
   ]
  },
  {
   "cell_type": "code",
   "execution_count": 28,
   "metadata": {},
   "outputs": [],
   "source": [
    "# takes all saved tracks for a given user\n",
    "lst = []\n",
    "offset = 0\n",
    "result = spot.current_user_saved_tracks(offset=offset)\n",
    "while result['next'] != None:\n",
    "    result = spot.current_user_saved_tracks(offset=offset)\n",
    "    lst.append(result['items'])\n",
    "    offset += 20\n",
    "\n",
    "new_lst = []\n",
    "for val in lst:\n",
    "    for trk in val:\n",
    "        new_lst.append(trk['track']['id'])"
   ]
  },
  {
   "cell_type": "code",
   "execution_count": 29,
   "metadata": {},
   "outputs": [
    {
     "data": {
      "text/plain": [
       "('52N0IV8hLVkRmnpFclmCzK', '325e3Lkx4AodxGNsqHiaG4')"
      ]
     },
     "execution_count": 29,
     "metadata": {},
     "output_type": "execute_result"
    }
   ],
   "source": [
    "# getting track id from result\n",
    "result['items'][1]['track']['id'], lst[1][19]['track']['id']\n"
   ]
  },
  {
   "cell_type": "markdown",
   "metadata": {},
   "source": [
    "### Code for `UserData.get_audio_features()` method"
   ]
  },
  {
   "cell_type": "code",
   "execution_count": 31,
   "metadata": {},
   "outputs": [],
   "source": [
    "new_lst = []\n",
    "for val in lst:\n",
    "    for trk in val:\n",
    "        new_lst.append(trk['track']['id'])"
   ]
  },
  {
   "cell_type": "code",
   "execution_count": 18,
   "metadata": {},
   "outputs": [
    {
     "name": "stdout",
     "output_type": "stream",
     "text": [
      "0 50\n",
      "50 100\n",
      "100 150\n"
     ]
    }
   ],
   "source": [
    "# runs through the list of track IDs and generates the a list of audio features\n",
    "# for each of the songs\n",
    "\n",
    "offset = 50\n",
    "onset = 0\n",
    "audio_feat = []\n",
    "while offset:\n",
    "    print(onset, offset)\n",
    "    if offset >= len(new_lst):\n",
    "        audio_feat.append(spot.audio_features(tracks=new_lst[onset:]))\n",
    "        break\n",
    "    audio_feat.append(spot.audio_features(tracks=new_lst[onset:offset]))\n",
    "    onset += 50\n",
    "    offset += 50"
   ]
  },
  {
   "cell_type": "code",
   "execution_count": 54,
   "metadata": {},
   "outputs": [
    {
     "data": {
      "text/plain": [
       "(134, 134)"
      ]
     },
     "execution_count": 54,
     "metadata": {},
     "output_type": "execute_result"
    }
   ],
   "source": [
    "# Condenses the audio_features to a single list\n",
    "\n",
    "lster = []\n",
    "for i in audio_feat:\n",
    "    for j in i:\n",
    "        lster.append(j)\n",
    "len(lster), len(new_lst)"
   ]
  },
  {
   "cell_type": "code",
   "execution_count": 17,
   "metadata": {},
   "outputs": [],
   "source": [
    "# testing the get_audio_features method in the UserData class 💃 \n",
    "\n",
    "test = UserData()\n",
    "audio_fe = test.get_audio_features(track_ids=new_lst, spot_session=spot)"
   ]
  },
  {
   "cell_type": "code",
   "execution_count": 24,
   "metadata": {},
   "outputs": [],
   "source": [
    "playlist_trks = test.get_playlists_trx(spot_session=spot, user_id=le_usero['id'])"
   ]
  }
 ],
 "metadata": {
  "kernelspec": {
   "display_name": "spotify2",
   "language": "python",
   "name": "spotify2"
  },
  "language_info": {
   "codemirror_mode": {
    "name": "ipython",
    "version": 3
   },
   "file_extension": ".py",
   "mimetype": "text/x-python",
   "name": "python",
   "nbconvert_exporter": "python",
   "pygments_lexer": "ipython3",
   "version": "3.8.5"
  }
 },
 "nbformat": 4,
 "nbformat_minor": 4
}
