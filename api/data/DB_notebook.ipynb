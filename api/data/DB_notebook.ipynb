{
 "cells": [
  {
   "cell_type": "markdown",
   "metadata": {},
   "source": [
    "# Setting up a mock DB to store Songs, users, and playlists"
   ]
  },
  {
   "cell_type": "markdown",
   "metadata": {},
   "source": [
    "![](https://github.com/spotify-song/DS/blob/master/api/data/DB_tables_illu.png?raw=true)"
   ]
  },
  {
   "cell_type": "code",
   "execution_count": 1,
   "metadata": {},
   "outputs": [],
   "source": [
    "import sys\n",
    "sys.path.insert(0, '../')\n",
    "from spotify_users import User\n",
    "from my_db import UpdateTables"
   ]
  },
  {
   "cell_type": "code",
   "execution_count": 2,
   "metadata": {},
   "outputs": [
    {
     "name": "stdout",
     "output_type": "stream",
     "text": [
      "\n",
      "\n",
      "('Agustinvargas',) not in db\n",
      "('Agustinvargas',) was added to table\n"
     ]
    },
    {
     "data": {
      "text/plain": [
       "{'Display Name': 'Agustinvargas',\n",
       " 'Tokens Info': 'token_info',\n",
       " 'User ID': 'avargas-274',\n",
       " 'Top Track IDs': ['0akyEssGRVHstqCSWXusJL',\n",
       "  '02gaYAEdeR6poHcBH1KUQF',\n",
       "  '0NeJjNlprGfZpeX2LQuN6c',\n",
       "  '6plO0gM4tUvRC9TKFGIuaN',\n",
       "  '54KsfVVnN4YWI2mMrnyUcC',\n",
       "  '5iSpfk6cDOSYePagAoG639',\n",
       "  '1jecO8NeYLsVWVptITz4c1',\n",
       "  '1s3WD4gbNoEXHiuSTmAKaK',\n",
       "  '6KseaEAFSS63N2NPZtDnRL',\n",
       "  '57mLRN6tfXwTRvp9oPWpop',\n",
       "  '52N0IV8hLVkRmnpFclmCzK',\n",
       "  '4zFPUEMucYleIIUnYVoeZf',\n",
       "  '7kWFRZdedr2gtfE8JDumVZ',\n",
       "  '1IF5UcqRO42D12vYwceOY6',\n",
       "  '2UxrK7r4cyQOSh7wvdQTe1',\n",
       "  '0107Auhv91hE49iLoxtayt',\n",
       "  '4cJOLN346rtOty3UPACsao',\n",
       "  '17OkYffr0SdAcpcbwMkDDG',\n",
       "  '71Mj2THXRicZhTFGzln3al',\n",
       "  '0JfsIu62NVXNQl2s7ATN37',\n",
       "  '6Zy0ITa16EjCAbbGuPzdRi',\n",
       "  '1sJev5Y7VI2Ke8AwUpnh0l',\n",
       "  '4RNYL9drYkmWYpDyfknta9',\n",
       "  '7v3YlquaNhK2GYKzxovSEp',\n",
       "  '4RrOSjdnV8rkpIuOIfkKYS',\n",
       "  '1yTJg3lyUPmwbnve82twH5',\n",
       "  '3PUbNbybe6dTMWdUt9vQ02',\n",
       "  '51wUFdgpNsV8cVzu7i6N0l',\n",
       "  '6fcS6fncRVP8rldHjriZHS',\n",
       "  '0xSqHQ5wv80hNkpU50vPc7',\n",
       "  '2TzkIzgzIHhewMxyh1u4hh',\n",
       "  '5ONAA8z6SvFBniu8zXz1Ax',\n",
       "  '58iNllszkXpDOcYRgcfLfH',\n",
       "  '3PVgZvHQdNJHR0ZLN1u8vn',\n",
       "  '3QIQtCPni57ZcSPzz7JDxt',\n",
       "  '1VA0QtG2DXGF4k6fYz70PE',\n",
       "  '4OwOKRIKlO7wsDitlUN4QH',\n",
       "  '4utNmwmHfwvzPBT3kMtwEN',\n",
       "  '4ehkZtzPTbjsRULRfQSWYu',\n",
       "  '2nU1HJ8GcMPkatnvI6KjP4',\n",
       "  '7ukRl9q1yVYO2j5SXwvjaB',\n",
       "  '7KX65PC1UZuImsUInThbav',\n",
       "  '4Mkpse99DB8TNijNjPpCbn',\n",
       "  '0Ifpy4Xfab0hEexidy1Enh',\n",
       "  '5xtBRnNNSUihY0J6zi4Ytc',\n",
       "  '3iRppHTSuWMVJVMdMD9knF',\n",
       "  '0K8e1rZtElzIykiPXEsYR6',\n",
       "  '3HNKZy1An5Jlnb02lcV2yd',\n",
       "  '4m6rvm52fAgZk7ffqgevcV',\n",
       "  '2Qbfa4aPnpHOyUWd1EZQD2']}"
      ]
     },
     "execution_count": 2,
     "metadata": {},
     "output_type": "execute_result"
    }
   ],
   "source": [
    "user1 = User()\n",
    "user1.user_top_50('')"
   ]
  },
  {
   "cell_type": "markdown",
   "metadata": {},
   "source": [
    "## Adding user's `display_name` to the users table"
   ]
  },
  {
   "cell_type": "code",
   "execution_count": 3,
   "metadata": {},
   "outputs": [
    {
     "name": "stdout",
     "output_type": "stream",
     "text": [
      "('cody',) already in DB\n"
     ]
    }
   ],
   "source": [
    "from os import getenv\n",
    "from dotenv import load_dotenv\n",
    "import psycopg2\n",
    "\n",
    "load_dotenv()\n",
    "\n",
    "# connecting to DB\n",
    "conn = psycopg2.connect(user=getenv('DB_USER'),\n",
    "                        password=getenv('DB_PASSWORD'),\n",
    "                        host=getenv('DB_HOST'),\n",
    "                        port=getenv('DB_PORT'),\n",
    "                        database=getenv('DB_DATABASE'))\n",
    "\n",
    "curs = conn.cursor()\n",
    "\n",
    "# execute to users table\n",
    "user_id = ''\n",
    "display_name = 'Agustinvargas'\n",
    "\n",
    "user_tbl_insert_query = \"\"\"\n",
    "    INSERT INTO users (DISPLAY_NAME)\n",
    "    VALUES (%s)\n",
    "    \"\"\"\n",
    "check_for_user_query = \"\"\"\n",
    "    SELECT display_name\n",
    "    FROM users\n",
    "    WHERE display_name = (%s)\n",
    "    \"\"\"\n",
    "check_for_user = (user_id,)\n",
    "\n",
    "record_to_insert = (user_id,)\n",
    "\n",
    "# checks for user in DB\n",
    "user_check = curs.execute(check_for_user_query, check_for_user)\n",
    "\n",
    "# if user exists, close connection\n",
    "if curs.fetchone() == check_for_user:\n",
    "    print(f\"{user_id} exists in db\")\n",
    "\n",
    "# If user does not exist, insert into db\n",
    "else:\n",
    "    print(\"failed to find user in table\")\n",
    "    curs.execute(user_tbl_insert_query, record_to_insert)\n",
    "    curs.execute(check_for_user_query, check_for_user)\n",
    "    record = curs.fetchone()\n",
    "    conn.commit()\n",
    "    print(f\"{record} was added to table\")\n",
    "\n",
    "curs.close()\n",
    "conn.close()\n",
    "print(\"PostgreSQL connection is closed\")\n"
   ]
  },
  {
   "cell_type": "code",
   "execution_count": null,
   "metadata": {},
   "outputs": [],
   "source": []
  }
 ],
 "metadata": {
  "kernelspec": {
   "display_name": "spotify",
   "language": "python",
   "name": "spotify"
  },
  "language_info": {
   "codemirror_mode": {
    "name": "ipython",
    "version": 3
   },
   "file_extension": ".py",
   "mimetype": "text/x-python",
   "name": "python",
   "nbconvert_exporter": "python",
   "pygments_lexer": "ipython3",
   "version": "3.7.4"
  }
 },
 "nbformat": 4,
 "nbformat_minor": 4
}
