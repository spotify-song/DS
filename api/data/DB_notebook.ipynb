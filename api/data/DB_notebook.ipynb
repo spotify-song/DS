{
 "cells": [
  {
   "cell_type": "markdown",
   "metadata": {},
   "source": [
    "# Setting up a mock DB to store Songs, users, and playlists"
   ]
  },
  {
   "cell_type": "markdown",
   "metadata": {},
   "source": [
    "![](db_tables_illu.png)"
   ]
  },
  {
   "cell_type": "code",
   "execution_count": 1,
   "metadata": {},
   "outputs": [],
   "source": [
    "import sys\n",
    "sys.path.insert(0, '../')\n",
    "from spotify_users import User"
   ]
  },
  {
   "cell_type": "code",
   "execution_count": 2,
   "metadata": {},
   "outputs": [
    {
     "name": "stdout",
     "output_type": "stream",
     "text": [
      "\n",
      "\n",
      "            User authentication requires interaction with your\n",
      "            web browser. Once you enter your credentials and\n",
      "            give authorization, you will be redirected to\n",
      "            a url.  Paste that url you were directed to to\n",
      "            complete the authorization.\n",
      "\n",
      "        \n",
      "Opened https://accounts.spotify.com/authorize?client_id=933b2272683d4796a86dd9a524514edb&response_type=code&redirect_uri=http%3A%2F%2Flocalhost%3A8888%2Flab&scope=playlist-modify-public+user-library-read+user-top-read in your browser\n",
      "\n",
      "\n"
     ]
    },
    {
     "name": "stdin",
     "output_type": "stream",
     "text": [
      "Enter the URL you were redirected to:  http://localhost:8888/lab/workspaces/auto-8?code=AQDxy6hnRvKcCdPn9RmTxfv1EgAnAJg4put8wPsgM9vZBKdRb5sRrZof12XGjSe5mrvPEbVdPGd1JL6hl0gH9WFLx9P8jaHqCh8QaZ_qh9hjDMr3nYlizCf7p8BIQDQ6MkgouauLdcXa9Bt0QrPVJ5VlNO83_jEzF4abFUy03_hjMTXQmX-0o6x2tPQC-CKJuByfCKJ4MZLVtWFV5zIqO3BBrBbBph04vzUiMDRMdCRoL5PYM99w\n"
     ]
    },
    {
     "name": "stdout",
     "output_type": "stream",
     "text": [
      "\n",
      "\n",
      "\n",
      "\n"
     ]
    },
    {
     "data": {
      "text/plain": [
       "{'Top Tracks tokens': {'access_token': 'BQD7s82yoN75zDFAJDJUhdQp1Q8TkizFX6-j5ZQKeZsBaiMKltlSPMcYlPjSEs4e6e6xrl-4-VF1HQvtUxjmA9CX--lZww5LggyF09mc-9R0NY21_XBgeHTHq8276JGcuTMbcr2Jm4KPzXfc2uKL7uvVIhp_s440BWuAk0NmjJ5Nx7ICyXLO2wqGmFTa8-rvnq1N5kkYvfikwLRqTNA',\n",
       "  'token_type': 'Bearer',\n",
       "  'expires_in': 3600,\n",
       "  'refresh_token': 'AQAw1qiYzEo5YictluvpDw0MttffoGGafrHjGAbQd2z6HJ-MsRs55pquuWREItFy_RMx54-GtSgWj82vuoFhFKTmbWDZlg-8a6PNNk7K-AApt2n5DTPeCxnzYqY16g51SjQ',\n",
       "  'scope': 'playlist-modify-public user-library-read user-top-read',\n",
       "  'expires_at': 1599775598},\n",
       " 'User': {''},\n",
       " 'Top Track IDs': ['0akyEssGRVHstqCSWXusJL',\n",
       "  '02gaYAEdeR6poHcBH1KUQF',\n",
       "  '0NeJjNlprGfZpeX2LQuN6c',\n",
       "  '6plO0gM4tUvRC9TKFGIuaN',\n",
       "  '54KsfVVnN4YWI2mMrnyUcC',\n",
       "  '5iSpfk6cDOSYePagAoG639',\n",
       "  '6KseaEAFSS63N2NPZtDnRL',\n",
       "  '1jecO8NeYLsVWVptITz4c1',\n",
       "  '1s3WD4gbNoEXHiuSTmAKaK',\n",
       "  '57mLRN6tfXwTRvp9oPWpop',\n",
       "  '52N0IV8hLVkRmnpFclmCzK',\n",
       "  '4zFPUEMucYleIIUnYVoeZf',\n",
       "  '1IF5UcqRO42D12vYwceOY6',\n",
       "  '4cJOLN346rtOty3UPACsao',\n",
       "  '7kWFRZdedr2gtfE8JDumVZ',\n",
       "  '2UxrK7r4cyQOSh7wvdQTe1',\n",
       "  '0107Auhv91hE49iLoxtayt',\n",
       "  '17OkYffr0SdAcpcbwMkDDG',\n",
       "  '0JfsIu62NVXNQl2s7ATN37',\n",
       "  '71Mj2THXRicZhTFGzln3al',\n",
       "  '6Zy0ITa16EjCAbbGuPzdRi',\n",
       "  '1sJev5Y7VI2Ke8AwUpnh0l',\n",
       "  '4RNYL9drYkmWYpDyfknta9',\n",
       "  '7v3YlquaNhK2GYKzxovSEp',\n",
       "  '1yTJg3lyUPmwbnve82twH5',\n",
       "  '51wUFdgpNsV8cVzu7i6N0l',\n",
       "  '4RrOSjdnV8rkpIuOIfkKYS',\n",
       "  '3PUbNbybe6dTMWdUt9vQ02',\n",
       "  '6fcS6fncRVP8rldHjriZHS',\n",
       "  '0xSqHQ5wv80hNkpU50vPc7',\n",
       "  '2TzkIzgzIHhewMxyh1u4hh',\n",
       "  '5ONAA8z6SvFBniu8zXz1Ax',\n",
       "  '3PVgZvHQdNJHR0ZLN1u8vn',\n",
       "  '4OwOKRIKlO7wsDitlUN4QH',\n",
       "  '3QIQtCPni57ZcSPzz7JDxt',\n",
       "  '58iNllszkXpDOcYRgcfLfH',\n",
       "  '4utNmwmHfwvzPBT3kMtwEN',\n",
       "  '1VA0QtG2DXGF4k6fYz70PE',\n",
       "  '2nU1HJ8GcMPkatnvI6KjP4',\n",
       "  '7ukRl9q1yVYO2j5SXwvjaB',\n",
       "  '4ehkZtzPTbjsRULRfQSWYu',\n",
       "  '7KX65PC1UZuImsUInThbav',\n",
       "  '0Ifpy4Xfab0hEexidy1Enh',\n",
       "  '5xtBRnNNSUihY0J6zi4Ytc',\n",
       "  '3iRppHTSuWMVJVMdMD9knF',\n",
       "  '4m6rvm52fAgZk7ffqgevcV',\n",
       "  '4Mkpse99DB8TNijNjPpCbn',\n",
       "  '0K8e1rZtElzIykiPXEsYR6',\n",
       "  '3HNKZy1An5Jlnb02lcV2yd',\n",
       "  '2Qbfa4aPnpHOyUWd1EZQD2']}"
      ]
     },
     "execution_count": 2,
     "metadata": {},
     "output_type": "execute_result"
    }
   ],
   "source": [
    "user1 = User()\n",
    "user1.user_top_50('')"
   ]
  },
  {
   "cell_type": "code",
   "execution_count": null,
   "metadata": {},
   "outputs": [],
   "source": []
  }
 ],
 "metadata": {
  "kernelspec": {
   "display_name": "spotify",
   "language": "python",
   "name": "spotify"
  },
  "language_info": {
   "codemirror_mode": {
    "name": "ipython",
    "version": 3
   },
   "file_extension": ".py",
   "mimetype": "text/x-python",
   "name": "python",
   "nbconvert_exporter": "python",
   "pygments_lexer": "ipython3",
   "version": "3.7.4"
  }
 },
 "nbformat": 4,
 "nbformat_minor": 4
}
