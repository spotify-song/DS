{
 "cells": [
  {
   "cell_type": "markdown",
   "metadata": {},
   "source": [
    "# Setting up a mock DB to store Songs, users, and playlists"
   ]
  },
  {
   "cell_type": "markdown",
   "metadata": {},
   "source": [
    "![](https://github.com/spotify-song/DS/blob/master/api/data/DB_tables_illu.png?raw=true)"
   ]
  },
  {
   "cell_type": "code",
   "execution_count": 1,
   "metadata": {},
   "outputs": [],
   "source": []
  },
  {
   "cell_type": "code",
   "execution_count": 3,
   "metadata": {},
   "outputs": [
    {
     "name": "stdout",
     "output_type": "stream",
     "text": [
      "\n",
      "\n"
     ]
    }
   ],
   "source": [
    "import sys\n",
    "sys.path.insert(0, '../')\n",
    "from spotify_users import User\n",
    "user = User()\n",
    "token_dict = user.user_top_50(user_id='Agustinvargas')"
   ]
  },
  {
   "cell_type": "code",
   "execution_count": 4,
   "metadata": {},
   "outputs": [
    {
     "data": {
      "text/plain": [
       "'Agustinvargas'"
      ]
     },
     "execution_count": 4,
     "metadata": {},
     "output_type": "execute_result"
    }
   ],
   "source": [
    "# token_dict['Tokens Info']['access_token']\n",
    "# token_dict['Tokens Info']['token_type']\n",
    "# token_dict['Tokens Info']['expires_in']\n",
    "# token_dict['Tokens Info']['scope']\n",
    "# token_dict['Tokens Info']['expires_at']\n",
    "# token_dict['Tokens Info']['refresh_token']\n",
    "token_dict['User ID']\n",
    "token_dict['Display Name']"
   ]
  },
  {
   "cell_type": "markdown",
   "metadata": {},
   "source": [
    "## Adding user's `display_name` to the users table"
   ]
  },
  {
   "cell_type": "code",
   "execution_count": 5,
   "metadata": {},
   "outputs": [],
   "source": [
    "from os import getenv\n",
    "from dotenv import load_dotenv\n",
    "import psycopg2\n",
    "\n",
    "import sqlalchemy\n",
    "from sqlalchemy import create_engine, Column, Integer, String, ForeignKey\n",
    "from sqlalchemy.ext.declarative import declarative_base\n",
    "from sqlalchemy.orm import sessionmaker, relationship, backref\n",
    "\n",
    "load_dotenv()\n",
    "\n",
    "# connecting to DB\n",
    "engine = create_engine(getenv('DATABASE_URL'))\n",
    "Session = sessionmaker(\n",
    "                autocommit=False,\n",
    "                autoflush=False,\n",
    "                bind=engine\n",
    "                )\n",
    "\n",
    "Base = declarative_base()"
   ]
  },
  {
   "cell_type": "code",
   "execution_count": 6,
   "metadata": {},
   "outputs": [],
   "source": [
    "class User(Base):\n",
    "    __tablename__ = 'users'\n",
    "    \n",
    "    id = Column(Integer, primary_key=True, index=True)\n",
    "    display_name = Column(String, unique=True, nullable=False)\n",
    "    \n",
    "    token = relationship('Tokens', backref='user_token', uselist=False)\n",
    "    \n",
    "    def __repr__(self):\n",
    "        return \"<User(display_name='%s')>\" % (self.display_name)\n",
    "\n",
    "\n",
    "\n",
    "class Tokens(Base):\n",
    "    __tablename__ = 'tokens'\n",
    "    \n",
    "    id = Column(Integer, primary_key=True, index=True)\n",
    "    access_token = Column(String, unique=True, nullable=False)\n",
    "    token_type = Column(String, unique=False, nullable=False)\n",
    "    expires_in = Column(Integer, unique=False, nullable=False)\n",
    "    refresh_token = Column(String, unique=True, nullable=False)\n",
    "    scope = Column(String, unique=False, nullable=False)\n",
    "    expires_at = Column(Integer, unique=False, nullable=False)\n",
    "    user = Column(String, unique=True, nullable=False)\n",
    "    user_id = Column(Integer, ForeignKey('users.id'))\n",
    "    \n",
    "    def __repr__(self):\n",
    "        return \"<Tokens(\\\n",
    "        access_token='%s',\\\n",
    "        token_type='%s',\\\n",
    "        expires_in='%s',\\\n",
    "        refresh_token='%s',\\\n",
    "        scope='%s',\\\n",
    "        expires_at='%s',\\\n",
    "        user='%s',\\\n",
    "        user_id='%s')>\" % (\n",
    "            self.id,\n",
    "            self.access_token,\n",
    "            self.token_type,\n",
    "            self.expires_in,\n",
    "            self.refresh_token,\n",
    "            self.scope,\n",
    "            self.expires_at,\n",
    "            self.user,\n",
    "            self.user_id)\n",
    "\n"
   ]
  },
  {
   "cell_type": "code",
   "execution_count": 7,
   "metadata": {},
   "outputs": [
    {
     "data": {
      "text/plain": [
       "<User(display_name='Agustinvargas')>"
      ]
     },
     "execution_count": 7,
     "metadata": {},
     "output_type": "execute_result"
    }
   ],
   "source": [
    "u1 = User(display_name=token_dict['Display Name'])\n",
    "u1"
   ]
  },
  {
   "cell_type": "code",
   "execution_count": 8,
   "metadata": {},
   "outputs": [],
   "source": [
    "session = Session()\n",
    "session.add(u1)\n",
    "session.commit()"
   ]
  },
  {
   "cell_type": "code",
   "execution_count": 9,
   "metadata": {},
   "outputs": [],
   "source": [
    "t1 = Tokens(\n",
    "        access_token=token_dict['Tokens Info']['access_token'],\n",
    "        token_type=token_dict['Tokens Info']['token_type'],\n",
    "        expires_in=token_dict['Tokens Info']['expires_in'],\n",
    "        refresh_token=token_dict['Tokens Info']['refresh_token'],\n",
    "        scope=token_dict['Tokens Info']['scope'],\n",
    "        expires_at=token_dict['Tokens Info']['expires_at'],\n",
    "        user=token_dict['User ID'],\n",
    "        user_token=u1\n",
    "        )"
   ]
  },
  {
   "cell_type": "code",
   "execution_count": 10,
   "metadata": {},
   "outputs": [],
   "source": [
    "session.add(t1)\n",
    "session.commit()"
   ]
  },
  {
   "cell_type": "code",
   "execution_count": 11,
   "metadata": {},
   "outputs": [],
   "source": [
    "session.close()"
   ]
  },
  {
   "cell_type": "code",
   "execution_count": null,
   "metadata": {},
   "outputs": [],
   "source": []
  },
  {
   "cell_type": "code",
   "execution_count": null,
   "metadata": {},
   "outputs": [],
   "source": []
  }
 ],
 "metadata": {
  "kernelspec": {
   "display_name": "spotify",
   "language": "python",
   "name": "spotify"
  },
  "language_info": {
   "codemirror_mode": {
    "name": "ipython",
    "version": 3
   },
   "file_extension": ".py",
   "mimetype": "text/x-python",
   "name": "python",
   "nbconvert_exporter": "python",
   "pygments_lexer": "ipython3",
   "version": "3.7.4"
  }
 },
 "nbformat": 4,
 "nbformat_minor": 4
}
