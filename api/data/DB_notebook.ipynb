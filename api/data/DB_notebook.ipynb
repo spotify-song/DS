{
 "cells": [
  {
   "cell_type": "markdown",
   "metadata": {},
   "source": [
    "# Setting up a mock DB to store Songs, users, and playlists\n",
    "![](https://github.com/spotify-song/DS/blob/master/api/data/DB_tables_illu.png?raw=true)\n",
    "### Tables:\n",
    "    - User:\n",
    "        - id\n",
    "        - display_name\n",
    "    - Tokens:\n",
    "        - id\n",
    "        - access_token\n",
    "        - token_type\n",
    "        - expries_in\n",
    "        - refresh_token\n",
    "        - scope\n",
    "        - expires_at\n",
    "        - user\n",
    "    - Tracks\n",
    "        - id\n",
    "        - danceability\n",
    "        - energy\n",
    "        - loudness\n",
    "        - mode\n",
    "        - speechiness\n",
    "        - accousticness\n",
    "        - instrumentalness\n",
    "        - valence\n",
    "        - liveness\n",
    "        - tempo\n",
    "        - duration_ms\n",
    "        - time_signature\n",
    "    - UserPlaylist\n",
    "        - id\n",
    "        - u_id\n",
    "        - uri\n",
    "        - tracks_id"
   ]
  },
  {
   "cell_type": "markdown",
   "metadata": {},
   "source": [
    "## Importing db classes for tables"
   ]
  },
  {
   "cell_type": "code",
   "execution_count": 1,
   "metadata": {},
   "outputs": [],
   "source": [
    "import sys\n",
    "sys.path.insert(0, '../')\n",
    "import models.my_db\n",
    "from models.my_db import *\n",
    "from spotify_users import UserData"
   ]
  },
  {
   "cell_type": "markdown",
   "metadata": {},
   "source": [
    "## DB import flow needs to be:\n",
    "    - User > tokens\n",
    "    - Tracks > top_tracks\n",
    "    - users/tracks > user_playlists"
   ]
  },
  {
   "cell_type": "markdown",
   "metadata": {},
   "source": [
    "### Get the pertinent data using the UserData() class"
   ]
  },
  {
   "cell_type": "code",
   "execution_count": 2,
   "metadata": {},
   "outputs": [
    {
     "name": "stdout",
     "output_type": "stream",
     "text": [
      "\n",
      "\n"
     ]
    }
   ],
   "source": [
    "user = UserData()\n",
    "user_dict = user.user_top_50(user_id='Agustinvargas')"
   ]
  },
  {
   "cell_type": "code",
   "execution_count": 3,
   "metadata": {},
   "outputs": [],
   "source": [
    "spot_cc = user_dict['spotify connect']\n",
    "current_user_info = user_dict['Current User Info']\n",
    "token_info = user_dict['Tokens Info']\n",
    "top_50_trx_ids = user_dict['Top Track IDs']\n",
    "top_50_aud_feat = user_dict['Track Audio Features']"
   ]
  },
  {
   "cell_type": "code",
   "execution_count": 4,
   "metadata": {},
   "outputs": [
    {
     "name": "stdout",
     "output_type": "stream",
     "text": [
      "User Agustinvargas already exists in DataBase;                    checking for token\n",
      "Agustinvargas has a token, updating it\n",
      "\n",
      "\n"
     ]
    }
   ],
   "source": [
    "session, user1 = user.check_for_user(current_user_info=current_user_info, spot_cc=spot_cc)"
   ]
  },
  {
   "cell_type": "code",
   "execution_count": 5,
   "metadata": {},
   "outputs": [],
   "source": [
    "session2 = user.add_tracks(top_50_trx_ids=top_50_trx_ids, top_50_aud_feat=top_50_aud_feat, session=session)"
   ]
  },
  {
   "cell_type": "code",
   "execution_count": 4,
   "metadata": {},
   "outputs": [
    {
     "name": "stdout",
     "output_type": "stream",
     "text": [
      "0.726 0.125 5 -9.194 0 0.0803 0.835 0 0.277 0.131 92.23 183711 4\n"
     ]
    }
   ],
   "source": [
    "# Token details\n",
    "# user_dict['Tokens Info']['access_token']\n",
    "# user_dict['Tokens Info']['token_type']\n",
    "# user_dict['Tokens Info']['expires_in']\n",
    "# user_dict['Tokens Info']['scope']\n",
    "# user_dict['Tokens Info']['expires_at']\n",
    "# user_dict['Tokens Info']['refresh_token']\n",
    "\n",
    "# Data for a given user: Token, ID, Display Name, Top 50 tracks, Track Audio Features\n",
    "# print(user_dict['User ID'],\n",
    "#       user_dict['Display Name'],\n",
    "#       user_dict['Top Track IDs'],\n",
    "#       user_dict['Track Audio Features'])\n",
    "\n",
    "\n",
    "# Track audio features (the dict contains audio feats for all 50 tracks)\n",
    "print(\n",
    "    user_dict['Track Audio Features'][1]['danceability'],\n",
    "    user_dict['Track Audio Features'][1]['energy'],\n",
    "    user_dict['Track Audio Features'][1]['key'],\n",
    "    user_dict['Track Audio Features'][1]['loudness'],\n",
    "    user_dict['Track Audio Features'][1]['mode'],\n",
    "    user_dict['Track Audio Features'][1]['speechiness'],\n",
    "    user_dict['Track Audio Features'][1]['acousticness'],\n",
    "    user_dict['Track Audio Features'][1]['instrumentalness'],\n",
    "    user_dict['Track Audio Features'][1]['valence'],\n",
    "    user_dict['Track Audio Features'][1]['liveness'],\n",
    "    user_dict['Track Audio Features'][1]['tempo'],\n",
    "    user_dict['Track Audio Features'][1]['duration_ms'],\n",
    "    user_dict['Track Audio Features'][1]['time_signature']\n",
    "    )"
   ]
  },
  {
   "cell_type": "code",
   "execution_count": 5,
   "metadata": {},
   "outputs": [],
   "source": [
    "# Create session\n",
    "session = user.Session()"
   ]
  },
  {
   "cell_type": "markdown",
   "metadata": {},
   "source": [
    "### First we create/find a user"
   ]
  },
  {
   "cell_type": "markdown",
   "metadata": {},
   "source": [
    "### Instantiate token add the user1 data"
   ]
  },
  {
   "cell_type": "code",
   "execution_count": 6,
   "metadata": {},
   "outputs": [],
   "source": [
    "# instantiating User() object corresponding to user table in DB\n",
    "\n",
    "user1 = User(id=user_dict['User ID'], display_name=user_dict['Display Name'])"
   ]
  },
  {
   "cell_type": "markdown",
   "metadata": {},
   "source": [
    "### Instantiate a track"
   ]
  },
  {
   "cell_type": "code",
   "execution_count": 7,
   "metadata": {
    "jupyter": {
     "source_hidden": true
    }
   },
   "outputs": [
    {
     "name": "stdout",
     "output_type": "stream",
     "text": [
      "importing a track into the database for a given user and play list\n"
     ]
    }
   ],
   "source": [
    "print('importing a track into the database for a given user and play list')\n",
    "# trk2 = Tracks(\n",
    "#             id=user_dict['Top Track IDs'][1],\n",
    "#             danceability=user_dict['Track Audio Features'][1]['danceability'],\n",
    "#             energy=user_dict['Track Audio Features'][1]['energy'],\n",
    "#             key=user_dict['Track Audio Features'][1]['key'],\n",
    "#             loudness=user_dict['Track Audio Features'][1]['loudness'],\n",
    "#             mode=user_dict['Track Audio Features'][1]['mode'],\n",
    "#             speechiness=user_dict['Track Audio Features'][1]['speechiness'],\n",
    "#             acousticness=user_dict['Track Audio Features'][1]['acousticness'],\n",
    "#             instrumentalness=user_dict['Track Audio Features'][1]['instrumentalness'],\n",
    "#             valence=user_dict['Track Audio Features'][1]['valence'],\n",
    "#             liveness=user_dict['Track Audio Features'][1]['liveness'],\n",
    "#             tempo=user_dict['Track Audio Features'][1]['tempo'],\n",
    "#             duration_ms=user_dict['Track Audio Features'][1]['duration_ms'],\n",
    "#             time_signature=user_dict['Track Audio Features'][1]['time_signature']\n",
    "#             )"
   ]
  },
  {
   "cell_type": "markdown",
   "metadata": {},
   "source": [
    "### Checking to see if song exists in DB if not then add it to db"
   ]
  },
  {
   "cell_type": "code",
   "execution_count": 27,
   "metadata": {},
   "outputs": [
    {
     "name": "stdout",
     "output_type": "stream",
     "text": [
      "track with id 02gaYAEdeR6poHcBH1KUQF does not exists, so we'll up date it\n"
     ]
    }
   ],
   "source": [
    "trk_sesh = session.query(Tracks).filter(Tracks.id == trk2.id).first()\n",
    "if trk_sesh is None:\n",
    "    print(f\"track with id {trk2.id} does not exists, so we'll up date it\")\n",
    "    session.add(trk2)\n",
    "    session.commit()\n",
    "else:\n",
    "    print(f\"The song with id {trk2.id} is already in our DB\")"
   ]
  },
  {
   "cell_type": "markdown",
   "metadata": {},
   "source": [
    "### Creating `Tracks` objects, and adding to DB using `session.add_all()`"
   ]
  },
  {
   "cell_type": "markdown",
   "metadata": {},
   "source": [
    "# Completed Functions for the `UserData` class\n",
    "    Functions completed:\n",
    "        - UserData().check_for_user(): checks if user exists in DB if\n",
    "        - UserData().add_tracks(): checks to see if tracks exist in DB if they don't it updates them"
   ]
  },
  {
   "cell_type": "code",
   "execution_count": 8,
   "metadata": {
    "jupyter": {
     "source_hidden": true
    }
   },
   "outputs": [],
   "source": [
    "def check_for_user(self, current_user_info, spot_cc):\n",
    "    \"\"\"\n",
    "    Checks for user in DB.\n",
    "\n",
    "    Input:\n",
    "        - current_user_info: This object contains ID and displa_name for\n",
    "          the user\n",
    "        - spot_cc: Object for the spotify credentials connection\n",
    "\n",
    "    Output:\n",
    "        - : User() object from the my_db module\n",
    "             contains q.id (user id) and q.display_name (user display name)\n",
    "    \"\"\"\n",
    "    session = self.Session()\n",
    "    engine = self.engine\n",
    "    Base = self.base\n",
    "    current_user_info = current_user_info\n",
    "    spot_cc = spot_cc\n",
    "\n",
    "    user1 = User(\n",
    "                id=current_user_info['id'],\n",
    "                display_name=current_user_info['display_name']\n",
    "                )\n",
    "\n",
    "    # update user and commit, then update token, and commit\n",
    "    display_name_q = session.query(\n",
    "                                    User\n",
    "                                    ).filter(\n",
    "                                            User.display_name ==\n",
    "                                            user1.display_name\n",
    "                                            ).first()\n",
    "\n",
    "    # checking if user exists, if not then add user and token\n",
    "    # if exists, check if token exists, if not add\n",
    "    # if token exists, update using refresh_key\n",
    "    if display_name_q is None:\n",
    "        session.add(user1)\n",
    "        session.commit()\n",
    "        token = Tokens(\n",
    "                    # Instead of of \"user_dict['Tokens Info']\"\" it should\n",
    "                    # be \"token_info\"\n",
    "                    access_token=token_info['access_token'],\n",
    "                    token_type=token_info['token_type'],\n",
    "                    expires_in=token_info['expires_in'],\n",
    "                    refresh_token=token_info['refresh_token'],\n",
    "                    scope=token_info['scope'],\n",
    "                    expires_at=token_info['expires_at'],\n",
    "                    # Still user \"user1\" because the id is not changing,\n",
    "                    # simply adding mans to the db\n",
    "                    user_token=user1\n",
    "                    )\n",
    "        session.add(token)\n",
    "        session.commit()\n",
    "    # Else, check if user has corresponding token that is not expired\n",
    "    else:\n",
    "        print(f\"User {user1.display_name} already exists in DataBase;\\\n",
    "                checking for token\")\n",
    "        token_q = session.query(\n",
    "                                Tokens\n",
    "                                ).filter(\n",
    "                                        Tokens.user == user1.id\n",
    "                                        ).first()\n",
    "        if token_q is None:\n",
    "            print(f\"We don't have a token for {user1.display_name},\\\n",
    "                    adding new token\")\n",
    "            token = Tokens(\n",
    "                        # \"token_info\" to add tokens to db\n",
    "                        access_token=token_info['access_token'],\n",
    "                        token_type=token_info['token_type'],\n",
    "                        expires_in=token_info['expires_in'],\n",
    "                        refresh_token=token_info['refresh_token'],\n",
    "                        scope=token_info['scope'],\n",
    "                        expires_at=token_info['expires_at'],\n",
    "                        # Still user \"user1\" because the id is not changing\n",
    "                        # simply adding mans to the db\n",
    "                        user_token=user1\n",
    "                        )\n",
    "            session.add(token)\n",
    "            session.commit()\n",
    "        # if the token exists refresh it, and update the value in table\n",
    "        else:\n",
    "            print(f\"{user1.display_name} has a token, updating it\")\n",
    "            accs_token_refresh = spot_cc.refresh_access_token(\n",
    "                                                    token_q.refresh_token\n",
    "                                                    )\n",
    "            token_info = spot_cc.get_access_token(as_dict=True)\n",
    "            update_token = update(Tokens).where(\n",
    "                                            Tokens.user == user1.id\n",
    "                                                ).values(\n",
    "                                                access_token=token_info[\n",
    "                                                            'access_token'\n",
    "                                                                ],\n",
    "                                                expires_in=token_info[\n",
    "                                                            'expires_in'\n",
    "                                                                ],\n",
    "                                                refresh_token=token_info[\n",
    "                                                            'refresh_token'\n",
    "                                                                ],\n",
    "                                                expires_at=token_info[\n",
    "                                                            'expires_at'\n",
    "                                                                ]\n",
    "                                                        )\n",
    "            session.execute(update_token)\n",
    "            session.commit()\n",
    "\n",
    "    return session, user1"
   ]
  },
  {
   "cell_type": "code",
   "execution_count": 6,
   "metadata": {
    "jupyter": {
     "source_hidden": true
    }
   },
   "outputs": [],
   "source": [
    "def add_tracks(self, top_50_trx_ids, top_50_aud_feat, session):\n",
    "    \"\"\"\n",
    "    This function is used when the user does not have their top 50 trx in\n",
    "    our db, and we need to add them after adding the user.\n",
    "\n",
    "    Input:\n",
    "        - top_50_trx_ids: List of 50 alpha-neumeric track IDs\n",
    "        - top_50_aud_feat: List of dicts containing feat data\n",
    "\n",
    "    Output:\n",
    "        - Updates DB with the track id and track feature data\n",
    "        - DB session: object\n",
    "    \"\"\"\n",
    "    top_50_aud_feat = top_50_aud_feat\n",
    "    top_50_trx_ids = top_50_trx_ids\n",
    "    session = session\n",
    "\n",
    "    trx = []\n",
    "    for k, v in enumerate(top_50_aud_feat):\n",
    "        trk_sesh = session.query(\n",
    "                                Tracks\n",
    "                                ).filter(\n",
    "                                        Tracks.id == top_50_trx_ids[k]\n",
    "                                        ).first()\n",
    "        if trk_sesh is not None:\n",
    "            continue\n",
    "        globals()['trk_' + str(k)] = Tracks(\n",
    "                                    id=top_50_trx_ids[k],\n",
    "                                    danceability=v['danceability'],\n",
    "                                    energy=v['energy'],\n",
    "                                    key=v['key'],\n",
    "                                    loudness=v['loudness'],\n",
    "                                    mode=v['mode'],\n",
    "                                    speechiness=v['speechiness'],\n",
    "                                    acousticness=v['acousticness'],\n",
    "                                    instrumentalness=v['instrumentalness'],\n",
    "                                    valence=v['valence'],\n",
    "                                    liveness=v['liveness'],\n",
    "                                    tempo=v['tempo'],\n",
    "                                    duration_ms=v['duration_ms'],\n",
    "                                    time_signature=v['time_signature']\n",
    "                                    )\n",
    "        trx.append(globals()['trk_' + str(k)])\n",
    "\n",
    "    session.add_all(trx)\n",
    "    session.commit()\n",
    "\n",
    "    return session"
   ]
  },
  {
   "cell_type": "code",
   "execution_count": null,
   "metadata": {},
   "outputs": [],
   "source": []
  }
 ],
 "metadata": {
  "kernelspec": {
   "display_name": "spotify",
   "language": "python",
   "name": "spotify"
  },
  "language_info": {
   "codemirror_mode": {
    "name": "ipython",
    "version": 3
   },
   "file_extension": ".py",
   "mimetype": "text/x-python",
   "name": "python",
   "nbconvert_exporter": "python",
   "pygments_lexer": "ipython3",
   "version": "3.7.4"
  }
 },
 "nbformat": 4,
 "nbformat_minor": 4
}
