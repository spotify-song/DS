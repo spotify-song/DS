{
 "cells": [
  {
   "cell_type": "markdown",
   "metadata": {},
   "source": [
    "# Setting up a mock DB to store Songs, users, and playlists"
   ]
  },
  {
   "cell_type": "markdown",
   "metadata": {},
   "source": [
    "![](https://github.com/spotify-song/DS/blob/master/api/data/DB_tables_illu.png?raw=true)"
   ]
  },
  {
   "cell_type": "code",
   "execution_count": 1,
   "metadata": {},
   "outputs": [],
   "source": []
  },
  {
   "cell_type": "code",
   "execution_count": 1,
   "metadata": {},
   "outputs": [],
   "source": [
    "import sys\n",
    "sys.path.insert(0, '../')\n",
    "from spotify_users import User\n",
    "from my_db import UpdateTables"
   ]
  },
  {
   "cell_type": "code",
   "execution_count": 5,
   "metadata": {},
   "outputs": [
    {
     "data": {
      "text/plain": [
       "'37t3cvb5u3o97hin4bsj40abw'"
      ]
     },
     "execution_count": 5,
     "metadata": {},
     "output_type": "execute_result"
    }
   ],
   "source": [
    "# token_info['Tokens Info']['access_token']\n",
    "# token_info['Tokens Info']['token_type']\n",
    "# token_info['Tokens Info']['expires_in']\n",
    "# token_info['Tokens Info']['scope']\n",
    "# token_info['Tokens Info']['expires_at']\n",
    "# token_info['Tokens Info']['refresh_token']\n",
    "token_info['User ID']['id']"
   ]
  },
  {
   "cell_type": "markdown",
   "metadata": {},
   "source": [
    "## Adding user's `display_name` to the users table"
   ]
  },
  {
   "cell_type": "code",
   "execution_count": 3,
   "metadata": {},
   "outputs": [
    {
     "name": "stdout",
     "output_type": "stream",
     "text": [
      "('cody',) already in DB\n"
     ]
    }
   ],
   "source": [
    "from os import getenv\n",
    "from dotenv import load_dotenv\n",
    "import psycopg2\n",
    "\n",
    "load_dotenv()\n",
    "\n",
    "# connecting to DB\n",
    "conn = psycopg2.connect(user=getenv('DB_USER'),\n",
    "                        password=getenv('DB_PASSWORD'),\n",
    "                        host=getenv('DB_HOST'),\n",
    "                        port=getenv('DB_PORT'),\n",
    "                        database=getenv('DB_DATABASE'))\n",
    "\n",
    "curs = conn.cursor()\n",
    "\n",
    "# execute to users table\n",
    "user_id = ''\n",
    "display_name = 'Agustinvargas'\n",
    "\n",
    "user_tbl_insert_query = \"\"\"\n",
    "    INSERT INTO users (DISPLAY_NAME)\n",
    "    VALUES (%s)\n",
    "    \"\"\"\n",
    "check_for_user_query = \"\"\"\n",
    "    SELECT display_name\n",
    "    FROM users\n",
    "    WHERE display_name = (%s)\n",
    "    \"\"\"\n",
    "check_for_user = (user_id,)\n",
    "\n",
    "record_to_insert = (user_id,)\n",
    "\n",
    "# checks for user in DB\n",
    "user_check = curs.execute(check_for_user_query, check_for_user)\n",
    "\n",
    "# if user exists, close connection\n",
    "if curs.fetchone() == check_for_user:\n",
    "    print(f\"{user_id} exists in db\")\n",
    "\n",
    "# If user does not exist, insert into db\n",
    "else:\n",
    "    print(\"failed to find user in table\")\n",
    "    curs.execute(user_tbl_insert_query, record_to_insert)\n",
    "    curs.execute(check_for_user_query, check_for_user)\n",
    "    record = curs.fetchone()\n",
    "    conn.commit()\n",
    "    print(f\"{record} was added to table\")\n",
    "\n",
    "curs.close()\n",
    "conn.close()\n",
    "print(\"PostgreSQL connection is closed\")\n"
   ]
  },
  {
   "cell_type": "code",
   "execution_count": null,
   "metadata": {},
   "outputs": [],
   "source": []
  }
 ],
 "metadata": {
  "kernelspec": {
   "display_name": "spotify",
   "language": "python",
   "name": "spotify"
  },
  "language_info": {
   "codemirror_mode": {
    "name": "ipython",
    "version": 3
   },
   "file_extension": ".py",
   "mimetype": "text/x-python",
   "name": "python",
   "nbconvert_exporter": "python",
   "pygments_lexer": "ipython3",
   "version": "3.7.4"
  }
 },
 "nbformat": 4,
 "nbformat_minor": 4
}
