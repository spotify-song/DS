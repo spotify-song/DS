{
 "cells": [
  {
   "cell_type": "markdown",
   "metadata": {},
   "source": [
    "# Setting up a mock DB to store Songs, users, and playlists"
   ]
  },
  {
   "cell_type": "markdown",
   "metadata": {},
   "source": [
    "![](https://github.com/spotify-song/DS/blob/master/api/data/DB_tables_illu.png?raw=true)"
   ]
  },
  {
   "cell_type": "code",
   "execution_count": 3,
   "metadata": {},
   "outputs": [],
   "source": [
    "import sys\n",
    "sys.path.insert(0, '../')\n",
    "from spotify_users import User"
   ]
  },
  {
   "cell_type": "code",
   "execution_count": 4,
   "metadata": {
    "collapsed": true,
    "jupyter": {
     "outputs_hidden": true
    }
   },
   "outputs": [
    {
     "name": "stdout",
     "output_type": "stream",
     "text": [
      "\n",
      "\n",
      "            User authentication requires interaction with your\n",
      "            web browser. Once you enter your credentials and\n",
      "            give authorization, you will be redirected to\n",
      "            a url.  Paste that url you were directed to to\n",
      "            complete the authorization.\n",
      "\n",
      "        \n",
      "Opened https://accounts.spotify.com/authorize?client_id=933b2272683d4796a86dd9a524514edb&response_type=code&redirect_uri=http%3A%2F%2Flocalhost%3A8888%2Flab&scope=playlist-modify-public+user-library-read+user-top-read in your browser\n",
      "\n",
      "\n"
     ]
    },
    {
     "name": "stdin",
     "output_type": "stream",
     "text": [
      "Enter the URL you were redirected to:  http://localhost:8888/lab/workspaces/auto-H?code=AQBBIbFS5Ua8WHtgO6FYaIETH5HeXhkP28drQ2_jmCytd4YRNRa0NTTC79HS1xO4r_NFhCSajCz7w-SAG_aZRI9_SMn9VLU49BaykD3tY0mdffpVVAmknm1bo-OFEDj0cMqP-Kan0R_hkPEutmkbODdT2RjEbYvZs5uWV95DQiUWbcIzX-7U03CrtA70no3FhQIHJ3KoeE6ZaVEDwtXhD6aTHO-NhMGs9JYWGTjrT_Ib7WjZ0w5K\n"
     ]
    },
    {
     "name": "stdout",
     "output_type": "stream",
     "text": [
      "\n",
      "\n",
      "\n",
      "\n"
     ]
    },
    {
     "ename": "NameError",
     "evalue": "name 'user_id' is not defined",
     "output_type": "error",
     "traceback": [
      "\u001b[0;31m---------------------------------------------------------------------------\u001b[0m",
      "\u001b[0;31mNameError\u001b[0m                                 Traceback (most recent call last)",
      "\u001b[0;32m<ipython-input-4-f72da3a3630c>\u001b[0m in \u001b[0;36m<module>\u001b[0;34m\u001b[0m\n\u001b[1;32m      1\u001b[0m \u001b[0muser1\u001b[0m \u001b[0;34m=\u001b[0m \u001b[0mUser\u001b[0m\u001b[0;34m(\u001b[0m\u001b[0;34m)\u001b[0m\u001b[0;34m\u001b[0m\u001b[0;34m\u001b[0m\u001b[0m\n\u001b[0;32m----> 2\u001b[0;31m \u001b[0muser1\u001b[0m\u001b[0;34m.\u001b[0m\u001b[0muser_top_50\u001b[0m\u001b[0;34m(\u001b[0m\u001b[0;34m'avargas-274'\u001b[0m\u001b[0;34m)\u001b[0m\u001b[0;34m\u001b[0m\u001b[0;34m\u001b[0m\u001b[0m\n\u001b[0m",
      "\u001b[0;32m~/Downloads/Lambda/Course_material/DS-Unit-4/spotify/DS/api/spotify_users.py\u001b[0m in \u001b[0;36muser_top_50\u001b[0;34m(self, user)\u001b[0m\n\u001b[1;32m    101\u001b[0m         return {\n\u001b[1;32m    102\u001b[0m             \u001b[0;34m'Tokens Info'\u001b[0m\u001b[0;34m:\u001b[0m \u001b[0;34m'token_info'\u001b[0m\u001b[0;34m,\u001b[0m\u001b[0;34m\u001b[0m\u001b[0;34m\u001b[0m\u001b[0m\n\u001b[0;32m--> 103\u001b[0;31m             \u001b[0;34m'User ID'\u001b[0m\u001b[0;34m:\u001b[0m \u001b[0muser_id\u001b[0m\u001b[0;34m,\u001b[0m\u001b[0;34m\u001b[0m\u001b[0;34m\u001b[0m\u001b[0m\n\u001b[0m\u001b[1;32m    104\u001b[0m             \u001b[0;34m'Top Track IDs'\u001b[0m\u001b[0;34m:\u001b[0m \u001b[0mtop_50_trx_ids\u001b[0m\u001b[0;34m\u001b[0m\u001b[0;34m\u001b[0m\u001b[0m\n\u001b[1;32m    105\u001b[0m         }\n",
      "\u001b[0;31mNameError\u001b[0m: name 'user_id' is not defined"
     ]
    }
   ],
   "source": [
    "user1 = User()\n",
    "user1.user_top_50('avargas-274')"
   ]
  },
  {
   "cell_type": "code",
   "execution_count": 12,
   "metadata": {},
   "outputs": [
    {
     "name": "stdout",
     "output_type": "stream",
     "text": [
      "avargas-274 was successfully found in user table ('avargas-274',)\n",
      "PostgreSQL connection is closed\n"
     ]
    }
   ],
   "source": [
    "from os import getenv\n",
    "from dotenv import load_dotenv\n",
    "import psycopg2\n",
    "\n",
    "load_dotenv()\n",
    "try:\n",
    "    # connecting to DB\n",
    "    conn = psycopg2.connect(user=getenv('DB_USER'),\n",
    "                            password=getenv('DB_PASSWORD'),\n",
    "                            host=getenv('DB_HOST'),\n",
    "                            port=getenv('DB_PORT'),\n",
    "                            database=getenv('DB_DATABASE'))\n",
    "\n",
    "    curs = conn.cursor()\n",
    "\n",
    "    # execute to users table\n",
    "    token = 'something comlpetely reandom'\n",
    "    user_id = 'avargas-274'\n",
    "    display_name = 'avargas-274'\n",
    "\n",
    "    user_tbl_insert_query = \"\"\"\n",
    "        INSERT INTO users (TOKEN, USER_ID, DISPLAY_NAME)\n",
    "        VALUES (%s,%s,%s)\n",
    "        \"\"\"\n",
    "    check_for_user_query = \"\"\"\n",
    "        IF NOT EXIST(SELECT user_id\n",
    "                    FROM users\n",
    "                    WHERE user_id = (%s))\n",
    "        BEGIN ()\n",
    "        \"\"\"\n",
    "    check_for_user = (user_id,)\n",
    "\n",
    "    record_to_insert = (token, user_id, display_name)\n",
    "\n",
    "    curs.execute(check_for_user_query, check_for_user)\n",
    "    conn.commit()\n",
    "    count = curs.rowcount\n",
    "    recor = curs.fetchone()\n",
    "    # changed to fit the check_for_user_query statement\n",
    "    print(f\"{display_name} was successfully found in user table {recor}\")\n",
    "\n",
    "except (Exception, psycopg2.Error) as error:\n",
    "    if (conn):\n",
    "        # changed to accomodate the user search query\n",
    "        print(\"failed to find user in table\", error)\n",
    "\n",
    "finally:\n",
    "    if (conn):\n",
    "        curs.close()\n",
    "        conn.close()\n",
    "        print(\"PostgreSQL connection is closed\")"
   ]
  },
  {
   "cell_type": "code",
   "execution_count": null,
   "metadata": {},
   "outputs": [],
   "source": []
  }
 ],
 "metadata": {
  "kernelspec": {
   "display_name": "spotify",
   "language": "python",
   "name": "spotify"
  },
  "language_info": {
   "codemirror_mode": {
    "name": "ipython",
    "version": 3
   },
   "file_extension": ".py",
   "mimetype": "text/x-python",
   "name": "python",
   "nbconvert_exporter": "python",
   "pygments_lexer": "ipython3",
   "version": "3.7.4"
  }
 },
 "nbformat": 4,
 "nbformat_minor": 4
}
